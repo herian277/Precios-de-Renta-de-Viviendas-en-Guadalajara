{
 "cells": [
  {
   "cell_type": "markdown",
   "id": "f794dc76",
   "metadata": {},
   "source": [
    "# EDA — Precios las de Rentas en Guadalajara (DataScience)\n",
    "Exploración inicial del dataset `gdl_rental_prices.csv` para preparar la app en Streamlit.\n"
   ]
  },
  {
   "cell_type": "code",
   "execution_count": 1,
   "id": "6df1ffbd",
   "metadata": {},
   "outputs": [],
   "source": [
    "import pandas as pd\n",
    "import plotly.express as px\n",
    "\n",
    "pd.set_option(\"display.max_columns\", 100)\n"
   ]
  },
  {
   "cell_type": "code",
   "execution_count": 2,
   "id": "f46c135b",
   "metadata": {},
   "outputs": [
    {
     "data": {
      "text/html": [
       "<div>\n",
       "<style scoped>\n",
       "    .dataframe tbody tr th:only-of-type {\n",
       "        vertical-align: middle;\n",
       "    }\n",
       "\n",
       "    .dataframe tbody tr th {\n",
       "        vertical-align: top;\n",
       "    }\n",
       "\n",
       "    .dataframe thead th {\n",
       "        text-align: right;\n",
       "    }\n",
       "</style>\n",
       "<table border=\"1\" class=\"dataframe\">\n",
       "  <thead>\n",
       "    <tr style=\"text-align: right;\">\n",
       "      <th></th>\n",
       "      <th>no</th>\n",
       "      <th>location</th>\n",
       "      <th>price</th>\n",
       "      <th>bedrooms</th>\n",
       "      <th>bathrooms</th>\n",
       "      <th>garage</th>\n",
       "      <th>area</th>\n",
       "    </tr>\n",
       "  </thead>\n",
       "  <tbody>\n",
       "    <tr>\n",
       "      <th>0</th>\n",
       "      <td>0</td>\n",
       "      <td>Zapopan</td>\n",
       "      <td>22300</td>\n",
       "      <td>3</td>\n",
       "      <td>4</td>\n",
       "      <td>2</td>\n",
       "      <td>180</td>\n",
       "    </tr>\n",
       "    <tr>\n",
       "      <th>1</th>\n",
       "      <td>1</td>\n",
       "      <td>Real Vallarta</td>\n",
       "      <td>12500</td>\n",
       "      <td>2</td>\n",
       "      <td>2</td>\n",
       "      <td>2</td>\n",
       "      <td>100</td>\n",
       "    </tr>\n",
       "    <tr>\n",
       "      <th>2</th>\n",
       "      <td>2</td>\n",
       "      <td>Puertas del Tule</td>\n",
       "      <td>25000</td>\n",
       "      <td>4</td>\n",
       "      <td>4</td>\n",
       "      <td>2</td>\n",
       "      <td>187</td>\n",
       "    </tr>\n",
       "    <tr>\n",
       "      <th>3</th>\n",
       "      <td>3</td>\n",
       "      <td>Zapopan</td>\n",
       "      <td>58000</td>\n",
       "      <td>3</td>\n",
       "      <td>4</td>\n",
       "      <td>4</td>\n",
       "      <td>700</td>\n",
       "    </tr>\n",
       "    <tr>\n",
       "      <th>4</th>\n",
       "      <td>4</td>\n",
       "      <td>Heroes Nacionales</td>\n",
       "      <td>9000</td>\n",
       "      <td>3</td>\n",
       "      <td>2</td>\n",
       "      <td>2</td>\n",
       "      <td>110</td>\n",
       "    </tr>\n",
       "  </tbody>\n",
       "</table>\n",
       "</div>"
      ],
      "text/plain": [
       "   no           location  price  bedrooms  bathrooms  garage  area\n",
       "0   0            Zapopan  22300         3          4       2   180\n",
       "1   1      Real Vallarta  12500         2          2       2   100\n",
       "2   2   Puertas del Tule  25000         4          4       2   187\n",
       "3   3            Zapopan  58000         3          4       4   700\n",
       "4   4  Heroes Nacionales   9000         3          2       2   110"
      ]
     },
     "execution_count": 2,
     "metadata": {},
     "output_type": "execute_result"
    }
   ],
   "source": [
    "CSV_PATH = \"../gdl_rental_prices.csv\"  # ajusta si moviste el archivo\n",
    "# Si tu CSV tiene acentos/ñ y falla, prueba encoding=\"utf-8\" o \"latin-1\"\n",
    "df = pd.read_csv(CSV_PATH, encoding=\"utf-8\")\n",
    "df.head()\n"
   ]
  },
  {
   "cell_type": "code",
   "execution_count": 3,
   "id": "2dab1519",
   "metadata": {},
   "outputs": [
    {
     "name": "stdout",
     "output_type": "stream",
     "text": [
      "<class 'pandas.core.frame.DataFrame'>\n",
      "RangeIndex: 418 entries, 0 to 417\n",
      "Data columns (total 7 columns):\n",
      " #   Column     Non-Null Count  Dtype \n",
      "---  ------     --------------  ----- \n",
      " 0   no         418 non-null    int64 \n",
      " 1   location   418 non-null    object\n",
      " 2   price      418 non-null    int64 \n",
      " 3   bedrooms   418 non-null    int64 \n",
      " 4   bathrooms  418 non-null    int64 \n",
      " 5   garage     418 non-null    int64 \n",
      " 6   area       418 non-null    int64 \n",
      "dtypes: int64(6), object(1)\n",
      "memory usage: 23.0+ KB\n"
     ]
    },
    {
     "data": {
      "text/plain": [
       "None"
      ]
     },
     "metadata": {},
     "output_type": "display_data"
    },
    {
     "data": {
      "text/html": [
       "<div>\n",
       "<style scoped>\n",
       "    .dataframe tbody tr th:only-of-type {\n",
       "        vertical-align: middle;\n",
       "    }\n",
       "\n",
       "    .dataframe tbody tr th {\n",
       "        vertical-align: top;\n",
       "    }\n",
       "\n",
       "    .dataframe thead th {\n",
       "        text-align: right;\n",
       "    }\n",
       "</style>\n",
       "<table border=\"1\" class=\"dataframe\">\n",
       "  <thead>\n",
       "    <tr style=\"text-align: right;\">\n",
       "      <th></th>\n",
       "      <th>no</th>\n",
       "      <th>location</th>\n",
       "      <th>price</th>\n",
       "      <th>bedrooms</th>\n",
       "      <th>bathrooms</th>\n",
       "      <th>garage</th>\n",
       "      <th>area</th>\n",
       "    </tr>\n",
       "  </thead>\n",
       "  <tbody>\n",
       "    <tr>\n",
       "      <th>count</th>\n",
       "      <td>418.000000</td>\n",
       "      <td>418</td>\n",
       "      <td>418.000000</td>\n",
       "      <td>418.000000</td>\n",
       "      <td>418.000000</td>\n",
       "      <td>418.000000</td>\n",
       "      <td>418.000000</td>\n",
       "    </tr>\n",
       "    <tr>\n",
       "      <th>unique</th>\n",
       "      <td>NaN</td>\n",
       "      <td>140</td>\n",
       "      <td>NaN</td>\n",
       "      <td>NaN</td>\n",
       "      <td>NaN</td>\n",
       "      <td>NaN</td>\n",
       "      <td>NaN</td>\n",
       "    </tr>\n",
       "    <tr>\n",
       "      <th>top</th>\n",
       "      <td>NaN</td>\n",
       "      <td>Zapopan</td>\n",
       "      <td>NaN</td>\n",
       "      <td>NaN</td>\n",
       "      <td>NaN</td>\n",
       "      <td>NaN</td>\n",
       "      <td>NaN</td>\n",
       "    </tr>\n",
       "    <tr>\n",
       "      <th>freq</th>\n",
       "      <td>NaN</td>\n",
       "      <td>48</td>\n",
       "      <td>NaN</td>\n",
       "      <td>NaN</td>\n",
       "      <td>NaN</td>\n",
       "      <td>NaN</td>\n",
       "      <td>NaN</td>\n",
       "    </tr>\n",
       "    <tr>\n",
       "      <th>mean</th>\n",
       "      <td>220.093301</td>\n",
       "      <td>NaN</td>\n",
       "      <td>24274.770335</td>\n",
       "      <td>2.877990</td>\n",
       "      <td>2.521531</td>\n",
       "      <td>2.153110</td>\n",
       "      <td>190.868421</td>\n",
       "    </tr>\n",
       "    <tr>\n",
       "      <th>std</th>\n",
       "      <td>126.072563</td>\n",
       "      <td>NaN</td>\n",
       "      <td>20219.998823</td>\n",
       "      <td>0.814699</td>\n",
       "      <td>0.890001</td>\n",
       "      <td>0.801977</td>\n",
       "      <td>158.816046</td>\n",
       "    </tr>\n",
       "    <tr>\n",
       "      <th>min</th>\n",
       "      <td>0.000000</td>\n",
       "      <td>NaN</td>\n",
       "      <td>3500.000000</td>\n",
       "      <td>0.000000</td>\n",
       "      <td>1.000000</td>\n",
       "      <td>1.000000</td>\n",
       "      <td>1.000000</td>\n",
       "    </tr>\n",
       "    <tr>\n",
       "      <th>25%</th>\n",
       "      <td>115.250000</td>\n",
       "      <td>NaN</td>\n",
       "      <td>12500.000000</td>\n",
       "      <td>2.000000</td>\n",
       "      <td>2.000000</td>\n",
       "      <td>2.000000</td>\n",
       "      <td>95.000000</td>\n",
       "    </tr>\n",
       "    <tr>\n",
       "      <th>50%</th>\n",
       "      <td>220.500000</td>\n",
       "      <td>NaN</td>\n",
       "      <td>19000.000000</td>\n",
       "      <td>3.000000</td>\n",
       "      <td>2.000000</td>\n",
       "      <td>2.000000</td>\n",
       "      <td>133.000000</td>\n",
       "    </tr>\n",
       "    <tr>\n",
       "      <th>75%</th>\n",
       "      <td>327.750000</td>\n",
       "      <td>NaN</td>\n",
       "      <td>27500.000000</td>\n",
       "      <td>3.000000</td>\n",
       "      <td>3.000000</td>\n",
       "      <td>2.000000</td>\n",
       "      <td>200.000000</td>\n",
       "    </tr>\n",
       "    <tr>\n",
       "      <th>max</th>\n",
       "      <td>437.000000</td>\n",
       "      <td>NaN</td>\n",
       "      <td>150000.000000</td>\n",
       "      <td>6.000000</td>\n",
       "      <td>4.000000</td>\n",
       "      <td>4.000000</td>\n",
       "      <td>897.000000</td>\n",
       "    </tr>\n",
       "  </tbody>\n",
       "</table>\n",
       "</div>"
      ],
      "text/plain": [
       "                no location          price    bedrooms   bathrooms  \\\n",
       "count   418.000000      418     418.000000  418.000000  418.000000   \n",
       "unique         NaN      140            NaN         NaN         NaN   \n",
       "top            NaN  Zapopan            NaN         NaN         NaN   \n",
       "freq           NaN       48            NaN         NaN         NaN   \n",
       "mean    220.093301      NaN   24274.770335    2.877990    2.521531   \n",
       "std     126.072563      NaN   20219.998823    0.814699    0.890001   \n",
       "min       0.000000      NaN    3500.000000    0.000000    1.000000   \n",
       "25%     115.250000      NaN   12500.000000    2.000000    2.000000   \n",
       "50%     220.500000      NaN   19000.000000    3.000000    2.000000   \n",
       "75%     327.750000      NaN   27500.000000    3.000000    3.000000   \n",
       "max     437.000000      NaN  150000.000000    6.000000    4.000000   \n",
       "\n",
       "            garage        area  \n",
       "count   418.000000  418.000000  \n",
       "unique         NaN         NaN  \n",
       "top            NaN         NaN  \n",
       "freq           NaN         NaN  \n",
       "mean      2.153110  190.868421  \n",
       "std       0.801977  158.816046  \n",
       "min       1.000000    1.000000  \n",
       "25%       2.000000   95.000000  \n",
       "50%       2.000000  133.000000  \n",
       "75%       2.000000  200.000000  \n",
       "max       4.000000  897.000000  "
      ]
     },
     "metadata": {},
     "output_type": "display_data"
    }
   ],
   "source": [
    "display(df.info())\n",
    "display(df.describe(include=\"all\"))\n"
   ]
  },
  {
   "cell_type": "code",
   "execution_count": 4,
   "id": "9a329d10",
   "metadata": {},
   "outputs": [
    {
     "name": "stdout",
     "output_type": "stream",
     "text": [
      "Numéricas: ['no', 'price', 'bedrooms', 'bathrooms', 'garage', 'area']\n",
      "Categóricas: ['location']\n"
     ]
    }
   ],
   "source": [
    "num_cols = df.select_dtypes(include=\"number\").columns.tolist()\n",
    "cat_cols = df.select_dtypes(exclude=\"number\").columns.tolist()\n",
    "print(\"Numéricas:\", num_cols)\n",
    "print(\"Categóricas:\", cat_cols)\n"
   ]
  },
  {
   "cell_type": "markdown",
   "id": "80c0bb13",
   "metadata": {},
   "source": [
    "**Nota:** si `price`/`renta`/`m2` vienen como texto, conviértelos a numérico.\n"
   ]
  },
  {
   "cell_type": "code",
   "execution_count": 5,
   "id": "2c69ecd2",
   "metadata": {},
   "outputs": [
    {
     "data": {
      "text/plain": [
       "['no', 'price', 'bedrooms', 'bathrooms', 'garage', 'area']"
      ]
     },
     "execution_count": 5,
     "metadata": {},
     "output_type": "execute_result"
    }
   ],
   "source": [
    "# Intenta convertir columnas típicas a numérico si existen\n",
    "candidatas = [\"price\",\"rent\",\"precio\",\"renta\",\"surface\",\"m2\",\"area\",\"rooms\",\"bedrooms\",\"bathrooms\"]\n",
    "for c in candidatas:\n",
    "    if c in df.columns:\n",
    "        df[c] = (\n",
    "            df[c].astype(str)\n",
    "                 .str.replace(r\"[^\\d\\.\\-]\", \"\", regex=True)  # quita $, comas, espacios\n",
    "                 .replace({\"\": pd.NA})\n",
    "                 .astype(float)\n",
    "        )\n",
    "\n",
    "num_cols = df.select_dtypes(include=\"number\").columns.tolist()\n",
    "num_cols\n"
   ]
  },
  {
   "cell_type": "code",
   "execution_count": 8,
   "id": "68b1f83c",
   "metadata": {},
   "outputs": [
    {
     "data": {
      "application/vnd.plotly.v1+json": {
       "config": {
        "plotlyServerURL": "https://plot.ly"
       },
       "data": [
        {
         "bingroup": "x",
         "hovertemplate": "price=%{x}<br>count=%{y}<extra></extra>",
         "legendgroup": "",
         "marker": {
          "color": "#636efa",
          "pattern": {
           "shape": ""
          }
         },
         "name": "",
         "nbinsx": 30,
         "orientation": "v",
         "showlegend": false,
         "type": "histogram",
         "x": {
          "bdata": "AAAAAADH1UAAAAAAAGrIQAAAAAAAathAAAAAAABS7EAAAAAAAJTBQAAAAAAAlMFAAAAAAAAd0EAAAAAAAMfVQAAAAAAATN1AAAAAAACO0kAAAAAAAJTRQAAAAAAAyLlAAAAAAABkyUAAAAAAAGrIQAAAAAAAiLNAAAAAAAB2xkAAAAAAAJTBQAAAAAAA59hAAAAAAADn2EAAAAAAAFjLQAAAAAAAWNtAAAAAAECzAUEAAAAAAHbGQAAAAAAAddJAAAAAAABM/UAAAAAAAGrIQAAAAAAAGMVAAAAAAAAYxUAAAAAAAPLCQAAAAAAA5sRAAAAAAAB81UAAAAAAAHzVQAAAAAAAashAAAAAAABMzUAAAAAAABfhQAAAAAAA+eVAAAAAAADV20AAAAAAAHbWQAAAAAAA3M5AAAAAAADCykAAAAAAAPnVQAAAAAAAZNlAAAAAAAAL40AAAAAAAI7SQAAAAAAAathAAAAAAAAR0kAAAAAAAD7HQAAAAAAATM1AAAAAAAB2xkAAAAAAABfRQAAAAAAAWMtAAAAAAABkyUAAAAAAAOK9QAAAAAAAEdJAAAAAAABk2UAAAAAAAAXUQAAAAAAA8tJAAAAAAAAX4UAAAAAAAFLsQAAAAAAAjtJAAAAAAACu1UAAAAAAACTTQAAAAAAASsVAAAAAAACI00AAAAAAAEDfQAAAAAAAQM9AAAAAAABw10AAAAAAAAXUQAAAAAAATN1AAAAAAABM3UAAAAAAAEzdQAAAAAAAmtBAAAAAAADP3EAAAAAAAHbWQAAAAAAAashAAAAAAADH1UAAAAAAANXbQAAAAAAAlNFAAAAAAAAX4UAAAAAAAL3vQAAAAAAAGs1AAAAAAADP3EAAAAAAAP/UQAAAAAAA/9RAAAAAAAB81UAAAAAAAP/UQAAAAAAA/9RAAAAAAAD/1EAAAAAAAIjTQAAAAAAAdsZAAAAAAADh2UAAAAAAAB3QQAAAAAAAwspAAAAAAAAYxUAAAAAAAPPWQAAAAAAABdRAAAAAAAAd0EAAAAAAAP/UQAAAAAAAmsBAAAAAAABq2EAAAAAAAPnVQAAAAAAAmsBAAAAAAAAkw0AAAAAAAP/kQAAAAAAAauhAAAAAAAD/5EAAAAAAAJThQAAAAAAAmsBAAAAAAABA30AAAAAAAI7iQAAAAAAAmtBAAAAAAAD/5EAAAAAAAIjTQAAAAAAAauhAAAAAAAAX8UAAAAAAAEzdQAAAAAAA3M5AAAAAAAAOz0AAAAAAANv6QAAAAAAAcMdAAAAAAABYy0AAAAAAAEDPQAAAAAAAcMdAAAAAAACI00AAAAAAAPLCQAAAAAAAWMtAAAAAAIBP8kAAAAAAAOfYQAAAAAAAcMdAAAAAAACI00AAAAAAAI7CQAAAAAAAlNFAAAAAAACU0UAAAAAAANzOQAAAAAAA3M5AAAAAAACa0EAAAAAAAILEQAAAAACAxuNAAAAAAAAYxUAAAAAAAFLsQAAAAAAAdtZAAAAAAAAX4UAAAAAAAGTZQAAAAAAAathAAAAAAADz1kAAAAAAgPjjQAAAAAAAF9FAAAAAAAAyyUAAAAAAAEC/QAAAAAAAiMNAAAAAAABw10AAAAAAAHbWQAAAAAAAmsBAAAAAAABw10AAAAAAAOi8QAAAAAAAgcBAAAAAAAD55UAAAAAAgJzqQAAAAAAAmvBAAAAAAAA/20AAAAAAAM/cQAAAAAAAlMFAAAAAAAB21kAAAAAAABfhQAAAAAAA+eVAAAAAAMB6AEEAAAAAAEztQAAAAACA0vFAAAAAAAB7wUAAAAAAAI7iQAAAAAAAlNFAAAAAAACUwUAAAAAAAMzAQAAAAAAAXspAAAAAAACO4kAAAAAAAJTBQAAAAAAAHdBAAAAAAIAT/EAAAAAAABHSQAAAAAAAF9FAAAAAAAAR0kAAAAAAAJrQQAAAAAAAWNtAAAAAAAA+x0AAAAAAAHzVQAAAAACAW+BAAAAAAIBP8kAAAAAAAI7SQAAAAACAhO5AAAAAAAAX4UAAAAAAAB3gQAAAAAAAathAAAAAAACI40AAAAAAAPnlQAAAAAAAiNNAAAAAAACI40AAAAAAAGrYQAAAAAAA+eVAAAAAAABqyEAAAAAAAFjbQAAAAAAAlMFAAAAAAABSzEAAAAAAAB3QQAAAAAAA9LpAAAAAAAAR0kAAAAAAAFjLQAAAAAAAXtpAAAAAAABM3UAAAAAAAHbWQAAAAAAAgtRAAAAAAABq2EAAAAAAAEzNQAAAAAAAdtZAAAAAAABw10AAAAAAAGTZQAAAAAAA3M5AAAAAAABqyEAAAAAAAEztQAAAAAAAPsdAAAAAAAD0ykAAAAAAAIjTQAAAAAAAashAAAAAAAAX4UAAAAAAAObEQAAAAAAA4r1AAAAAAABkyUAAAAAAAJSxQAAAAAAAe9FAAAAAAACCxEAAAAAAAIjjQAAAAAAAXtpAAAAAAACC1EAAAAAAAFjbQAAAAAAAEdJAAAAAAAB21kAAAAAAAILEQAAAAAAAiONAAAAAAACawEAAAAAAABjFQAAAAAAAQN9AAAAAAAAd4EAAAAAAAI7SQAAAAAAAtsxAAAAAAAAX4UAAAAAAAGrIQAAAAAAAathAAAAAAABAz0AAAAAAAMi5QAAAAACASeNAAAAAAADh2UAAAAAAAGrYQAAAAAAAcNdAAAAAAAAXAUEAAAAAgE/yQAAAAACAwPRAAAAAAACa0EAAAAAAAFLsQAAAAAAAfNVAAAAAAAA2wEAAAAAAAHDXQAAAAAAAdtZAAAAAAABe2kAAAAAAAHbWQAAAAAAAWMtAAAAAAGBj5EAAAAAAAHzVQAAAAAAAsM1AAAAAAABkyUAAAAAAAGrIQAAAAAAAF+FAAAAAAABSzEAAAAAAAHDHQAAAAAAARs5AAAAAAAAL00AAAAAAAGTJQAAAAAAAgtRAAAAAAACO0kAAAAAAAIHQQAAAAAAAlMFAAAAAAADCykAAAAAAAF7KQAAAAAAAvd9AAAAAAACQukAAAAAAAGrIQAAAAAAAZMlAAAAAAAD55UAAAAAAgHvjQAAAAAAAZLlAAAAAAACawEAAAAAAAFLMQAAAAAAAlMFAAAAAAIA/3UAAAAAAAEa+QAAAAAAAQM9AAAAAAADb6kAAAAAAANvaQAAAAAAAM91AAAAAAAAR0kAAAAAAAGrIQAAAAAAAZNlAAAAAAABS7EAAAAAAANvqQAAAAAAA7MNAAAAAAABq2EAAAAAAAHbGQAAAAAAAqMZAAAAAAACoxkAAAAAAAB3QQAAAAAAABdRAAAAAAACOwkAAAAAAAObEQAAAAAAAiPNAAAAAAABYy0AAAAAAADbAQAAAAAAAlNFAAAAAAACIw0AAAAAAAI7CQAAAAAAA/9RAAAAAAACU0UAAAAAAAKjGQAAAAAAAXtpAAAAAAABY20AAAAAAAPPWQAAAAAAAiNNAAAAAAACa0EAAAAAAAGrIQAAAAAAAlLFAAAAAAAD/1EAAAAAAAI7SQAAAAAAAmsBAAAAAAACO0kAAAAAAAHzFQAAAAAAAQN9AAAAAAABGzkAAAAAAALzLQAAAAAAAlNFAAAAAAAD/5EAAAAAAAPnlQAAAAAAAp7ZAAAAAAACawEAAAAAAAJTBQAAAAAAAWMtAAAAAAACU4UAAAAAAAGrIQAAAAAAAlNFAAAAAAACU0UAAAAAAAJrQQAAAAAAAiNNAAAAAAACEvEAAAAAAANvaQAAAAAAAAMlAAAAAAABAz0AAAAAAAEzNQAAAAAAATM1AAAAAAABMzUAAAAAAAEzNQAAAAAAATN1AAAAAAABwx0AAAAAAAIjzQAAAAAAAQK9AAAAAAAA4uEAAAAAAAEzdQAAAAAAA+dVAAAAAAABSzEAAAAAAAJTRQAAAAACAwPRAAAAAAADz1kAAAAAAAFLMQAAAAAAAlLFAAAAAAACC1EAAAAAAAILUQAAAAAAAauhAAAAAAAB8xUAAAAAAAHzFQAAAAACA2OBAAAAAAIBPAkEAAAAAAIjTQAAAAAAATO1AAAAAAAAR4kAAAAAAAFLcQAAAAAAAve9AAAAAAACI40AAAAAAAHDHQAAAAAAAashAAAAAAABkyUAAAAAAAPnVQAAAAAAA+dVAAAAAAABqyEAAAAAAAFirQAAAAAAAEdJAAAAAAAAsykAAAAAAAFbDQAAAAAAAmsBAAAAAAADss0AAAAAAAI7CQAAAAAAAdtZAAAAAAABkyUAAAAAAAHDHQAAAAAAAF9FAAAAAAABwx0AAAAAAABHiQAAAAAAAiNNAAAAAAAD0ukAAAAAAAPPWQAAAAAAAashAAAAAAACa0EAAAAAAAE/QQAAAAAAA7ddAAAAAAACIw0AAAAAAAPPWQAAAAAAAmsBAAAAAAAAY1UAAAAAAAFjLQAAAAAAAiMNAAAAAAACO4kAAAAAAAI7SQAAAAAAAgsRAAAAAAABSzEA=",
          "dtype": "f8"
         },
         "xaxis": "x",
         "yaxis": "y"
        }
       ],
       "layout": {
        "barmode": "relative",
        "legend": {
         "tracegroupgap": 0
        },
        "template": {
         "data": {
          "bar": [
           {
            "error_x": {
             "color": "#2a3f5f"
            },
            "error_y": {
             "color": "#2a3f5f"
            },
            "marker": {
             "line": {
              "color": "#E5ECF6",
              "width": 0.5
             },
             "pattern": {
              "fillmode": "overlay",
              "size": 10,
              "solidity": 0.2
             }
            },
            "type": "bar"
           }
          ],
          "barpolar": [
           {
            "marker": {
             "line": {
              "color": "#E5ECF6",
              "width": 0.5
             },
             "pattern": {
              "fillmode": "overlay",
              "size": 10,
              "solidity": 0.2
             }
            },
            "type": "barpolar"
           }
          ],
          "carpet": [
           {
            "aaxis": {
             "endlinecolor": "#2a3f5f",
             "gridcolor": "white",
             "linecolor": "white",
             "minorgridcolor": "white",
             "startlinecolor": "#2a3f5f"
            },
            "baxis": {
             "endlinecolor": "#2a3f5f",
             "gridcolor": "white",
             "linecolor": "white",
             "minorgridcolor": "white",
             "startlinecolor": "#2a3f5f"
            },
            "type": "carpet"
           }
          ],
          "choropleth": [
           {
            "colorbar": {
             "outlinewidth": 0,
             "ticks": ""
            },
            "type": "choropleth"
           }
          ],
          "contour": [
           {
            "colorbar": {
             "outlinewidth": 0,
             "ticks": ""
            },
            "colorscale": [
             [
              0,
              "#0d0887"
             ],
             [
              0.1111111111111111,
              "#46039f"
             ],
             [
              0.2222222222222222,
              "#7201a8"
             ],
             [
              0.3333333333333333,
              "#9c179e"
             ],
             [
              0.4444444444444444,
              "#bd3786"
             ],
             [
              0.5555555555555556,
              "#d8576b"
             ],
             [
              0.6666666666666666,
              "#ed7953"
             ],
             [
              0.7777777777777778,
              "#fb9f3a"
             ],
             [
              0.8888888888888888,
              "#fdca26"
             ],
             [
              1,
              "#f0f921"
             ]
            ],
            "type": "contour"
           }
          ],
          "contourcarpet": [
           {
            "colorbar": {
             "outlinewidth": 0,
             "ticks": ""
            },
            "type": "contourcarpet"
           }
          ],
          "heatmap": [
           {
            "colorbar": {
             "outlinewidth": 0,
             "ticks": ""
            },
            "colorscale": [
             [
              0,
              "#0d0887"
             ],
             [
              0.1111111111111111,
              "#46039f"
             ],
             [
              0.2222222222222222,
              "#7201a8"
             ],
             [
              0.3333333333333333,
              "#9c179e"
             ],
             [
              0.4444444444444444,
              "#bd3786"
             ],
             [
              0.5555555555555556,
              "#d8576b"
             ],
             [
              0.6666666666666666,
              "#ed7953"
             ],
             [
              0.7777777777777778,
              "#fb9f3a"
             ],
             [
              0.8888888888888888,
              "#fdca26"
             ],
             [
              1,
              "#f0f921"
             ]
            ],
            "type": "heatmap"
           }
          ],
          "histogram": [
           {
            "marker": {
             "pattern": {
              "fillmode": "overlay",
              "size": 10,
              "solidity": 0.2
             }
            },
            "type": "histogram"
           }
          ],
          "histogram2d": [
           {
            "colorbar": {
             "outlinewidth": 0,
             "ticks": ""
            },
            "colorscale": [
             [
              0,
              "#0d0887"
             ],
             [
              0.1111111111111111,
              "#46039f"
             ],
             [
              0.2222222222222222,
              "#7201a8"
             ],
             [
              0.3333333333333333,
              "#9c179e"
             ],
             [
              0.4444444444444444,
              "#bd3786"
             ],
             [
              0.5555555555555556,
              "#d8576b"
             ],
             [
              0.6666666666666666,
              "#ed7953"
             ],
             [
              0.7777777777777778,
              "#fb9f3a"
             ],
             [
              0.8888888888888888,
              "#fdca26"
             ],
             [
              1,
              "#f0f921"
             ]
            ],
            "type": "histogram2d"
           }
          ],
          "histogram2dcontour": [
           {
            "colorbar": {
             "outlinewidth": 0,
             "ticks": ""
            },
            "colorscale": [
             [
              0,
              "#0d0887"
             ],
             [
              0.1111111111111111,
              "#46039f"
             ],
             [
              0.2222222222222222,
              "#7201a8"
             ],
             [
              0.3333333333333333,
              "#9c179e"
             ],
             [
              0.4444444444444444,
              "#bd3786"
             ],
             [
              0.5555555555555556,
              "#d8576b"
             ],
             [
              0.6666666666666666,
              "#ed7953"
             ],
             [
              0.7777777777777778,
              "#fb9f3a"
             ],
             [
              0.8888888888888888,
              "#fdca26"
             ],
             [
              1,
              "#f0f921"
             ]
            ],
            "type": "histogram2dcontour"
           }
          ],
          "mesh3d": [
           {
            "colorbar": {
             "outlinewidth": 0,
             "ticks": ""
            },
            "type": "mesh3d"
           }
          ],
          "parcoords": [
           {
            "line": {
             "colorbar": {
              "outlinewidth": 0,
              "ticks": ""
             }
            },
            "type": "parcoords"
           }
          ],
          "pie": [
           {
            "automargin": true,
            "type": "pie"
           }
          ],
          "scatter": [
           {
            "fillpattern": {
             "fillmode": "overlay",
             "size": 10,
             "solidity": 0.2
            },
            "type": "scatter"
           }
          ],
          "scatter3d": [
           {
            "line": {
             "colorbar": {
              "outlinewidth": 0,
              "ticks": ""
             }
            },
            "marker": {
             "colorbar": {
              "outlinewidth": 0,
              "ticks": ""
             }
            },
            "type": "scatter3d"
           }
          ],
          "scattercarpet": [
           {
            "marker": {
             "colorbar": {
              "outlinewidth": 0,
              "ticks": ""
             }
            },
            "type": "scattercarpet"
           }
          ],
          "scattergeo": [
           {
            "marker": {
             "colorbar": {
              "outlinewidth": 0,
              "ticks": ""
             }
            },
            "type": "scattergeo"
           }
          ],
          "scattergl": [
           {
            "marker": {
             "colorbar": {
              "outlinewidth": 0,
              "ticks": ""
             }
            },
            "type": "scattergl"
           }
          ],
          "scattermap": [
           {
            "marker": {
             "colorbar": {
              "outlinewidth": 0,
              "ticks": ""
             }
            },
            "type": "scattermap"
           }
          ],
          "scattermapbox": [
           {
            "marker": {
             "colorbar": {
              "outlinewidth": 0,
              "ticks": ""
             }
            },
            "type": "scattermapbox"
           }
          ],
          "scatterpolar": [
           {
            "marker": {
             "colorbar": {
              "outlinewidth": 0,
              "ticks": ""
             }
            },
            "type": "scatterpolar"
           }
          ],
          "scatterpolargl": [
           {
            "marker": {
             "colorbar": {
              "outlinewidth": 0,
              "ticks": ""
             }
            },
            "type": "scatterpolargl"
           }
          ],
          "scatterternary": [
           {
            "marker": {
             "colorbar": {
              "outlinewidth": 0,
              "ticks": ""
             }
            },
            "type": "scatterternary"
           }
          ],
          "surface": [
           {
            "colorbar": {
             "outlinewidth": 0,
             "ticks": ""
            },
            "colorscale": [
             [
              0,
              "#0d0887"
             ],
             [
              0.1111111111111111,
              "#46039f"
             ],
             [
              0.2222222222222222,
              "#7201a8"
             ],
             [
              0.3333333333333333,
              "#9c179e"
             ],
             [
              0.4444444444444444,
              "#bd3786"
             ],
             [
              0.5555555555555556,
              "#d8576b"
             ],
             [
              0.6666666666666666,
              "#ed7953"
             ],
             [
              0.7777777777777778,
              "#fb9f3a"
             ],
             [
              0.8888888888888888,
              "#fdca26"
             ],
             [
              1,
              "#f0f921"
             ]
            ],
            "type": "surface"
           }
          ],
          "table": [
           {
            "cells": {
             "fill": {
              "color": "#EBF0F8"
             },
             "line": {
              "color": "white"
             }
            },
            "header": {
             "fill": {
              "color": "#C8D4E3"
             },
             "line": {
              "color": "white"
             }
            },
            "type": "table"
           }
          ]
         },
         "layout": {
          "annotationdefaults": {
           "arrowcolor": "#2a3f5f",
           "arrowhead": 0,
           "arrowwidth": 1
          },
          "autotypenumbers": "strict",
          "coloraxis": {
           "colorbar": {
            "outlinewidth": 0,
            "ticks": ""
           }
          },
          "colorscale": {
           "diverging": [
            [
             0,
             "#8e0152"
            ],
            [
             0.1,
             "#c51b7d"
            ],
            [
             0.2,
             "#de77ae"
            ],
            [
             0.3,
             "#f1b6da"
            ],
            [
             0.4,
             "#fde0ef"
            ],
            [
             0.5,
             "#f7f7f7"
            ],
            [
             0.6,
             "#e6f5d0"
            ],
            [
             0.7,
             "#b8e186"
            ],
            [
             0.8,
             "#7fbc41"
            ],
            [
             0.9,
             "#4d9221"
            ],
            [
             1,
             "#276419"
            ]
           ],
           "sequential": [
            [
             0,
             "#0d0887"
            ],
            [
             0.1111111111111111,
             "#46039f"
            ],
            [
             0.2222222222222222,
             "#7201a8"
            ],
            [
             0.3333333333333333,
             "#9c179e"
            ],
            [
             0.4444444444444444,
             "#bd3786"
            ],
            [
             0.5555555555555556,
             "#d8576b"
            ],
            [
             0.6666666666666666,
             "#ed7953"
            ],
            [
             0.7777777777777778,
             "#fb9f3a"
            ],
            [
             0.8888888888888888,
             "#fdca26"
            ],
            [
             1,
             "#f0f921"
            ]
           ],
           "sequentialminus": [
            [
             0,
             "#0d0887"
            ],
            [
             0.1111111111111111,
             "#46039f"
            ],
            [
             0.2222222222222222,
             "#7201a8"
            ],
            [
             0.3333333333333333,
             "#9c179e"
            ],
            [
             0.4444444444444444,
             "#bd3786"
            ],
            [
             0.5555555555555556,
             "#d8576b"
            ],
            [
             0.6666666666666666,
             "#ed7953"
            ],
            [
             0.7777777777777778,
             "#fb9f3a"
            ],
            [
             0.8888888888888888,
             "#fdca26"
            ],
            [
             1,
             "#f0f921"
            ]
           ]
          },
          "colorway": [
           "#636efa",
           "#EF553B",
           "#00cc96",
           "#ab63fa",
           "#FFA15A",
           "#19d3f3",
           "#FF6692",
           "#B6E880",
           "#FF97FF",
           "#FECB52"
          ],
          "font": {
           "color": "#2a3f5f"
          },
          "geo": {
           "bgcolor": "white",
           "lakecolor": "white",
           "landcolor": "#E5ECF6",
           "showlakes": true,
           "showland": true,
           "subunitcolor": "white"
          },
          "hoverlabel": {
           "align": "left"
          },
          "hovermode": "closest",
          "mapbox": {
           "style": "light"
          },
          "paper_bgcolor": "white",
          "plot_bgcolor": "#E5ECF6",
          "polar": {
           "angularaxis": {
            "gridcolor": "white",
            "linecolor": "white",
            "ticks": ""
           },
           "bgcolor": "#E5ECF6",
           "radialaxis": {
            "gridcolor": "white",
            "linecolor": "white",
            "ticks": ""
           }
          },
          "scene": {
           "xaxis": {
            "backgroundcolor": "#E5ECF6",
            "gridcolor": "white",
            "gridwidth": 2,
            "linecolor": "white",
            "showbackground": true,
            "ticks": "",
            "zerolinecolor": "white"
           },
           "yaxis": {
            "backgroundcolor": "#E5ECF6",
            "gridcolor": "white",
            "gridwidth": 2,
            "linecolor": "white",
            "showbackground": true,
            "ticks": "",
            "zerolinecolor": "white"
           },
           "zaxis": {
            "backgroundcolor": "#E5ECF6",
            "gridcolor": "white",
            "gridwidth": 2,
            "linecolor": "white",
            "showbackground": true,
            "ticks": "",
            "zerolinecolor": "white"
           }
          },
          "shapedefaults": {
           "line": {
            "color": "#2a3f5f"
           }
          },
          "ternary": {
           "aaxis": {
            "gridcolor": "white",
            "linecolor": "white",
            "ticks": ""
           },
           "baxis": {
            "gridcolor": "white",
            "linecolor": "white",
            "ticks": ""
           },
           "bgcolor": "#E5ECF6",
           "caxis": {
            "gridcolor": "white",
            "linecolor": "white",
            "ticks": ""
           }
          },
          "title": {
           "x": 0.05
          },
          "xaxis": {
           "automargin": true,
           "gridcolor": "white",
           "linecolor": "white",
           "ticks": "",
           "title": {
            "standoff": 15
           },
           "zerolinecolor": "white",
           "zerolinewidth": 2
          },
          "yaxis": {
           "automargin": true,
           "gridcolor": "white",
           "linecolor": "white",
           "ticks": "",
           "title": {
            "standoff": 15
           },
           "zerolinecolor": "white",
           "zerolinewidth": 2
          }
         }
        },
        "title": {
         "text": "Histograma de rentas"
        },
        "xaxis": {
         "anchor": "y",
         "domain": [
          0,
          1
         ],
         "title": {
          "text": "price"
         }
        },
        "yaxis": {
         "anchor": "x",
         "domain": [
          0,
          1
         ],
         "title": {
          "text": "count"
         }
        }
       }
      }
     },
     "metadata": {},
     "output_type": "display_data"
    }
   ],
   "source": [
    "fig = px.histogram(df, x=\"price\", nbins=30, title=\"Histograma de rentas\")\n",
    "fig.show()"
   ]
  },
  {
   "cell_type": "code",
   "execution_count": 9,
   "id": "1b4a6d19",
   "metadata": {},
   "outputs": [
    {
     "data": {
      "application/vnd.plotly.v1+json": {
       "config": {
        "plotlyServerURL": "https://plot.ly"
       },
       "data": [
        {
         "hovertemplate": "area=%{x}<br>price=%{y}<extra></extra>",
         "legendgroup": "",
         "marker": {
          "color": "#636efa",
          "symbol": "circle"
         },
         "mode": "markers",
         "name": "",
         "orientation": "v",
         "showlegend": false,
         "type": "scatter",
         "x": {
          "bdata": "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",
          "dtype": "f8"
         },
         "xaxis": "x",
         "y": {
          "bdata": "AAAAAADH1UAAAAAAAGrIQAAAAAAAathAAAAAAABS7EAAAAAAAJTBQAAAAAAAlMFAAAAAAAAd0EAAAAAAAMfVQAAAAAAATN1AAAAAAACO0kAAAAAAAJTRQAAAAAAAyLlAAAAAAABkyUAAAAAAAGrIQAAAAAAAiLNAAAAAAAB2xkAAAAAAAJTBQAAAAAAA59hAAAAAAADn2EAAAAAAAFjLQAAAAAAAWNtAAAAAAECzAUEAAAAAAHbGQAAAAAAAddJAAAAAAABM/UAAAAAAAGrIQAAAAAAAGMVAAAAAAAAYxUAAAAAAAPLCQAAAAAAA5sRAAAAAAAB81UAAAAAAAHzVQAAAAAAAashAAAAAAABMzUAAAAAAABfhQAAAAAAA+eVAAAAAAADV20AAAAAAAHbWQAAAAAAA3M5AAAAAAADCykAAAAAAAPnVQAAAAAAAZNlAAAAAAAAL40AAAAAAAI7SQAAAAAAAathAAAAAAAAR0kAAAAAAAD7HQAAAAAAATM1AAAAAAAB2xkAAAAAAABfRQAAAAAAAWMtAAAAAAABkyUAAAAAAAOK9QAAAAAAAEdJAAAAAAABk2UAAAAAAAAXUQAAAAAAA8tJAAAAAAAAX4UAAAAAAAFLsQAAAAAAAjtJAAAAAAACu1UAAAAAAACTTQAAAAAAASsVAAAAAAACI00AAAAAAAEDfQAAAAAAAQM9AAAAAAABw10AAAAAAAAXUQAAAAAAATN1AAAAAAABM3UAAAAAAAEzdQAAAAAAAmtBAAAAAAADP3EAAAAAAAHbWQAAAAAAAashAAAAAAADH1UAAAAAAANXbQAAAAAAAlNFAAAAAAAAX4UAAAAAAAL3vQAAAAAAAGs1AAAAAAADP3EAAAAAAAP/UQAAAAAAA/9RAAAAAAAB81UAAAAAAAP/UQAAAAAAA/9RAAAAAAAD/1EAAAAAAAIjTQAAAAAAAdsZAAAAAAADh2UAAAAAAAB3QQAAAAAAAwspAAAAAAAAYxUAAAAAAAPPWQAAAAAAABdRAAAAAAAAd0EAAAAAAAP/UQAAAAAAAmsBAAAAAAABq2EAAAAAAAPnVQAAAAAAAmsBAAAAAAAAkw0AAAAAAAP/kQAAAAAAAauhAAAAAAAD/5EAAAAAAAJThQAAAAAAAmsBAAAAAAABA30AAAAAAAI7iQAAAAAAAmtBAAAAAAAD/5EAAAAAAAIjTQAAAAAAAauhAAAAAAAAX8UAAAAAAAEzdQAAAAAAA3M5AAAAAAAAOz0AAAAAAANv6QAAAAAAAcMdAAAAAAABYy0AAAAAAAEDPQAAAAAAAcMdAAAAAAACI00AAAAAAAPLCQAAAAAAAWMtAAAAAAIBP8kAAAAAAAOfYQAAAAAAAcMdAAAAAAACI00AAAAAAAI7CQAAAAAAAlNFAAAAAAACU0UAAAAAAANzOQAAAAAAA3M5AAAAAAACa0EAAAAAAAILEQAAAAACAxuNAAAAAAAAYxUAAAAAAAFLsQAAAAAAAdtZAAAAAAAAX4UAAAAAAAGTZQAAAAAAAathAAAAAAADz1kAAAAAAgPjjQAAAAAAAF9FAAAAAAAAyyUAAAAAAAEC/QAAAAAAAiMNAAAAAAABw10AAAAAAAHbWQAAAAAAAmsBAAAAAAABw10AAAAAAAOi8QAAAAAAAgcBAAAAAAAD55UAAAAAAgJzqQAAAAAAAmvBAAAAAAAA/20AAAAAAAM/cQAAAAAAAlMFAAAAAAAB21kAAAAAAABfhQAAAAAAA+eVAAAAAAMB6AEEAAAAAAEztQAAAAACA0vFAAAAAAAB7wUAAAAAAAI7iQAAAAAAAlNFAAAAAAACUwUAAAAAAAMzAQAAAAAAAXspAAAAAAACO4kAAAAAAAJTBQAAAAAAAHdBAAAAAAIAT/EAAAAAAABHSQAAAAAAAF9FAAAAAAAAR0kAAAAAAAJrQQAAAAAAAWNtAAAAAAAA+x0AAAAAAAHzVQAAAAACAW+BAAAAAAIBP8kAAAAAAAI7SQAAAAACAhO5AAAAAAAAX4UAAAAAAAB3gQAAAAAAAathAAAAAAACI40AAAAAAAPnlQAAAAAAAiNNAAAAAAACI40AAAAAAAGrYQAAAAAAA+eVAAAAAAABqyEAAAAAAAFjbQAAAAAAAlMFAAAAAAABSzEAAAAAAAB3QQAAAAAAA9LpAAAAAAAAR0kAAAAAAAFjLQAAAAAAAXtpAAAAAAABM3UAAAAAAAHbWQAAAAAAAgtRAAAAAAABq2EAAAAAAAEzNQAAAAAAAdtZAAAAAAABw10AAAAAAAGTZQAAAAAAA3M5AAAAAAABqyEAAAAAAAEztQAAAAAAAPsdAAAAAAAD0ykAAAAAAAIjTQAAAAAAAashAAAAAAAAX4UAAAAAAAObEQAAAAAAA4r1AAAAAAABkyUAAAAAAAJSxQAAAAAAAe9FAAAAAAACCxEAAAAAAAIjjQAAAAAAAXtpAAAAAAACC1EAAAAAAAFjbQAAAAAAAEdJAAAAAAAB21kAAAAAAAILEQAAAAAAAiONAAAAAAACawEAAAAAAABjFQAAAAAAAQN9AAAAAAAAd4EAAAAAAAI7SQAAAAAAAtsxAAAAAAAAX4UAAAAAAAGrIQAAAAAAAathAAAAAAABAz0AAAAAAAMi5QAAAAACASeNAAAAAAADh2UAAAAAAAGrYQAAAAAAAcNdAAAAAAAAXAUEAAAAAgE/yQAAAAACAwPRAAAAAAACa0EAAAAAAAFLsQAAAAAAAfNVAAAAAAAA2wEAAAAAAAHDXQAAAAAAAdtZAAAAAAABe2kAAAAAAAHbWQAAAAAAAWMtAAAAAAGBj5EAAAAAAAHzVQAAAAAAAsM1AAAAAAABkyUAAAAAAAGrIQAAAAAAAF+FAAAAAAABSzEAAAAAAAHDHQAAAAAAARs5AAAAAAAAL00AAAAAAAGTJQAAAAAAAgtRAAAAAAACO0kAAAAAAAIHQQAAAAAAAlMFAAAAAAADCykAAAAAAAF7KQAAAAAAAvd9AAAAAAACQukAAAAAAAGrIQAAAAAAAZMlAAAAAAAD55UAAAAAAgHvjQAAAAAAAZLlAAAAAAACawEAAAAAAAFLMQAAAAAAAlMFAAAAAAIA/3UAAAAAAAEa+QAAAAAAAQM9AAAAAAADb6kAAAAAAANvaQAAAAAAAM91AAAAAAAAR0kAAAAAAAGrIQAAAAAAAZNlAAAAAAABS7EAAAAAAANvqQAAAAAAA7MNAAAAAAABq2EAAAAAAAHbGQAAAAAAAqMZAAAAAAACoxkAAAAAAAB3QQAAAAAAABdRAAAAAAACOwkAAAAAAAObEQAAAAAAAiPNAAAAAAABYy0AAAAAAADbAQAAAAAAAlNFAAAAAAACIw0AAAAAAAI7CQAAAAAAA/9RAAAAAAACU0UAAAAAAAKjGQAAAAAAAXtpAAAAAAABY20AAAAAAAPPWQAAAAAAAiNNAAAAAAACa0EAAAAAAAGrIQAAAAAAAlLFAAAAAAAD/1EAAAAAAAI7SQAAAAAAAmsBAAAAAAACO0kAAAAAAAHzFQAAAAAAAQN9AAAAAAABGzkAAAAAAALzLQAAAAAAAlNFAAAAAAAD/5EAAAAAAAPnlQAAAAAAAp7ZAAAAAAACawEAAAAAAAJTBQAAAAAAAWMtAAAAAAACU4UAAAAAAAGrIQAAAAAAAlNFAAAAAAACU0UAAAAAAAJrQQAAAAAAAiNNAAAAAAACEvEAAAAAAANvaQAAAAAAAAMlAAAAAAABAz0AAAAAAAEzNQAAAAAAATM1AAAAAAABMzUAAAAAAAEzNQAAAAAAATN1AAAAAAABwx0AAAAAAAIjzQAAAAAAAQK9AAAAAAAA4uEAAAAAAAEzdQAAAAAAA+dVAAAAAAABSzEAAAAAAAJTRQAAAAACAwPRAAAAAAADz1kAAAAAAAFLMQAAAAAAAlLFAAAAAAACC1EAAAAAAAILUQAAAAAAAauhAAAAAAAB8xUAAAAAAAHzFQAAAAACA2OBAAAAAAIBPAkEAAAAAAIjTQAAAAAAATO1AAAAAAAAR4kAAAAAAAFLcQAAAAAAAve9AAAAAAACI40AAAAAAAHDHQAAAAAAAashAAAAAAABkyUAAAAAAAPnVQAAAAAAA+dVAAAAAAABqyEAAAAAAAFirQAAAAAAAEdJAAAAAAAAsykAAAAAAAFbDQAAAAAAAmsBAAAAAAADss0AAAAAAAI7CQAAAAAAAdtZAAAAAAABkyUAAAAAAAHDHQAAAAAAAF9FAAAAAAABwx0AAAAAAABHiQAAAAAAAiNNAAAAAAAD0ukAAAAAAAPPWQAAAAAAAashAAAAAAACa0EAAAAAAAE/QQAAAAAAA7ddAAAAAAACIw0AAAAAAAPPWQAAAAAAAmsBAAAAAAAAY1UAAAAAAAFjLQAAAAAAAiMNAAAAAAACO4kAAAAAAAI7SQAAAAAAAgsRAAAAAAABSzEA=",
          "dtype": "f8"
         },
         "yaxis": "y"
        }
       ],
       "layout": {
        "legend": {
         "tracegroupgap": 0
        },
        "template": {
         "data": {
          "bar": [
           {
            "error_x": {
             "color": "#2a3f5f"
            },
            "error_y": {
             "color": "#2a3f5f"
            },
            "marker": {
             "line": {
              "color": "#E5ECF6",
              "width": 0.5
             },
             "pattern": {
              "fillmode": "overlay",
              "size": 10,
              "solidity": 0.2
             }
            },
            "type": "bar"
           }
          ],
          "barpolar": [
           {
            "marker": {
             "line": {
              "color": "#E5ECF6",
              "width": 0.5
             },
             "pattern": {
              "fillmode": "overlay",
              "size": 10,
              "solidity": 0.2
             }
            },
            "type": "barpolar"
           }
          ],
          "carpet": [
           {
            "aaxis": {
             "endlinecolor": "#2a3f5f",
             "gridcolor": "white",
             "linecolor": "white",
             "minorgridcolor": "white",
             "startlinecolor": "#2a3f5f"
            },
            "baxis": {
             "endlinecolor": "#2a3f5f",
             "gridcolor": "white",
             "linecolor": "white",
             "minorgridcolor": "white",
             "startlinecolor": "#2a3f5f"
            },
            "type": "carpet"
           }
          ],
          "choropleth": [
           {
            "colorbar": {
             "outlinewidth": 0,
             "ticks": ""
            },
            "type": "choropleth"
           }
          ],
          "contour": [
           {
            "colorbar": {
             "outlinewidth": 0,
             "ticks": ""
            },
            "colorscale": [
             [
              0,
              "#0d0887"
             ],
             [
              0.1111111111111111,
              "#46039f"
             ],
             [
              0.2222222222222222,
              "#7201a8"
             ],
             [
              0.3333333333333333,
              "#9c179e"
             ],
             [
              0.4444444444444444,
              "#bd3786"
             ],
             [
              0.5555555555555556,
              "#d8576b"
             ],
             [
              0.6666666666666666,
              "#ed7953"
             ],
             [
              0.7777777777777778,
              "#fb9f3a"
             ],
             [
              0.8888888888888888,
              "#fdca26"
             ],
             [
              1,
              "#f0f921"
             ]
            ],
            "type": "contour"
           }
          ],
          "contourcarpet": [
           {
            "colorbar": {
             "outlinewidth": 0,
             "ticks": ""
            },
            "type": "contourcarpet"
           }
          ],
          "heatmap": [
           {
            "colorbar": {
             "outlinewidth": 0,
             "ticks": ""
            },
            "colorscale": [
             [
              0,
              "#0d0887"
             ],
             [
              0.1111111111111111,
              "#46039f"
             ],
             [
              0.2222222222222222,
              "#7201a8"
             ],
             [
              0.3333333333333333,
              "#9c179e"
             ],
             [
              0.4444444444444444,
              "#bd3786"
             ],
             [
              0.5555555555555556,
              "#d8576b"
             ],
             [
              0.6666666666666666,
              "#ed7953"
             ],
             [
              0.7777777777777778,
              "#fb9f3a"
             ],
             [
              0.8888888888888888,
              "#fdca26"
             ],
             [
              1,
              "#f0f921"
             ]
            ],
            "type": "heatmap"
           }
          ],
          "histogram": [
           {
            "marker": {
             "pattern": {
              "fillmode": "overlay",
              "size": 10,
              "solidity": 0.2
             }
            },
            "type": "histogram"
           }
          ],
          "histogram2d": [
           {
            "colorbar": {
             "outlinewidth": 0,
             "ticks": ""
            },
            "colorscale": [
             [
              0,
              "#0d0887"
             ],
             [
              0.1111111111111111,
              "#46039f"
             ],
             [
              0.2222222222222222,
              "#7201a8"
             ],
             [
              0.3333333333333333,
              "#9c179e"
             ],
             [
              0.4444444444444444,
              "#bd3786"
             ],
             [
              0.5555555555555556,
              "#d8576b"
             ],
             [
              0.6666666666666666,
              "#ed7953"
             ],
             [
              0.7777777777777778,
              "#fb9f3a"
             ],
             [
              0.8888888888888888,
              "#fdca26"
             ],
             [
              1,
              "#f0f921"
             ]
            ],
            "type": "histogram2d"
           }
          ],
          "histogram2dcontour": [
           {
            "colorbar": {
             "outlinewidth": 0,
             "ticks": ""
            },
            "colorscale": [
             [
              0,
              "#0d0887"
             ],
             [
              0.1111111111111111,
              "#46039f"
             ],
             [
              0.2222222222222222,
              "#7201a8"
             ],
             [
              0.3333333333333333,
              "#9c179e"
             ],
             [
              0.4444444444444444,
              "#bd3786"
             ],
             [
              0.5555555555555556,
              "#d8576b"
             ],
             [
              0.6666666666666666,
              "#ed7953"
             ],
             [
              0.7777777777777778,
              "#fb9f3a"
             ],
             [
              0.8888888888888888,
              "#fdca26"
             ],
             [
              1,
              "#f0f921"
             ]
            ],
            "type": "histogram2dcontour"
           }
          ],
          "mesh3d": [
           {
            "colorbar": {
             "outlinewidth": 0,
             "ticks": ""
            },
            "type": "mesh3d"
           }
          ],
          "parcoords": [
           {
            "line": {
             "colorbar": {
              "outlinewidth": 0,
              "ticks": ""
             }
            },
            "type": "parcoords"
           }
          ],
          "pie": [
           {
            "automargin": true,
            "type": "pie"
           }
          ],
          "scatter": [
           {
            "fillpattern": {
             "fillmode": "overlay",
             "size": 10,
             "solidity": 0.2
            },
            "type": "scatter"
           }
          ],
          "scatter3d": [
           {
            "line": {
             "colorbar": {
              "outlinewidth": 0,
              "ticks": ""
             }
            },
            "marker": {
             "colorbar": {
              "outlinewidth": 0,
              "ticks": ""
             }
            },
            "type": "scatter3d"
           }
          ],
          "scattercarpet": [
           {
            "marker": {
             "colorbar": {
              "outlinewidth": 0,
              "ticks": ""
             }
            },
            "type": "scattercarpet"
           }
          ],
          "scattergeo": [
           {
            "marker": {
             "colorbar": {
              "outlinewidth": 0,
              "ticks": ""
             }
            },
            "type": "scattergeo"
           }
          ],
          "scattergl": [
           {
            "marker": {
             "colorbar": {
              "outlinewidth": 0,
              "ticks": ""
             }
            },
            "type": "scattergl"
           }
          ],
          "scattermap": [
           {
            "marker": {
             "colorbar": {
              "outlinewidth": 0,
              "ticks": ""
             }
            },
            "type": "scattermap"
           }
          ],
          "scattermapbox": [
           {
            "marker": {
             "colorbar": {
              "outlinewidth": 0,
              "ticks": ""
             }
            },
            "type": "scattermapbox"
           }
          ],
          "scatterpolar": [
           {
            "marker": {
             "colorbar": {
              "outlinewidth": 0,
              "ticks": ""
             }
            },
            "type": "scatterpolar"
           }
          ],
          "scatterpolargl": [
           {
            "marker": {
             "colorbar": {
              "outlinewidth": 0,
              "ticks": ""
             }
            },
            "type": "scatterpolargl"
           }
          ],
          "scatterternary": [
           {
            "marker": {
             "colorbar": {
              "outlinewidth": 0,
              "ticks": ""
             }
            },
            "type": "scatterternary"
           }
          ],
          "surface": [
           {
            "colorbar": {
             "outlinewidth": 0,
             "ticks": ""
            },
            "colorscale": [
             [
              0,
              "#0d0887"
             ],
             [
              0.1111111111111111,
              "#46039f"
             ],
             [
              0.2222222222222222,
              "#7201a8"
             ],
             [
              0.3333333333333333,
              "#9c179e"
             ],
             [
              0.4444444444444444,
              "#bd3786"
             ],
             [
              0.5555555555555556,
              "#d8576b"
             ],
             [
              0.6666666666666666,
              "#ed7953"
             ],
             [
              0.7777777777777778,
              "#fb9f3a"
             ],
             [
              0.8888888888888888,
              "#fdca26"
             ],
             [
              1,
              "#f0f921"
             ]
            ],
            "type": "surface"
           }
          ],
          "table": [
           {
            "cells": {
             "fill": {
              "color": "#EBF0F8"
             },
             "line": {
              "color": "white"
             }
            },
            "header": {
             "fill": {
              "color": "#C8D4E3"
             },
             "line": {
              "color": "white"
             }
            },
            "type": "table"
           }
          ]
         },
         "layout": {
          "annotationdefaults": {
           "arrowcolor": "#2a3f5f",
           "arrowhead": 0,
           "arrowwidth": 1
          },
          "autotypenumbers": "strict",
          "coloraxis": {
           "colorbar": {
            "outlinewidth": 0,
            "ticks": ""
           }
          },
          "colorscale": {
           "diverging": [
            [
             0,
             "#8e0152"
            ],
            [
             0.1,
             "#c51b7d"
            ],
            [
             0.2,
             "#de77ae"
            ],
            [
             0.3,
             "#f1b6da"
            ],
            [
             0.4,
             "#fde0ef"
            ],
            [
             0.5,
             "#f7f7f7"
            ],
            [
             0.6,
             "#e6f5d0"
            ],
            [
             0.7,
             "#b8e186"
            ],
            [
             0.8,
             "#7fbc41"
            ],
            [
             0.9,
             "#4d9221"
            ],
            [
             1,
             "#276419"
            ]
           ],
           "sequential": [
            [
             0,
             "#0d0887"
            ],
            [
             0.1111111111111111,
             "#46039f"
            ],
            [
             0.2222222222222222,
             "#7201a8"
            ],
            [
             0.3333333333333333,
             "#9c179e"
            ],
            [
             0.4444444444444444,
             "#bd3786"
            ],
            [
             0.5555555555555556,
             "#d8576b"
            ],
            [
             0.6666666666666666,
             "#ed7953"
            ],
            [
             0.7777777777777778,
             "#fb9f3a"
            ],
            [
             0.8888888888888888,
             "#fdca26"
            ],
            [
             1,
             "#f0f921"
            ]
           ],
           "sequentialminus": [
            [
             0,
             "#0d0887"
            ],
            [
             0.1111111111111111,
             "#46039f"
            ],
            [
             0.2222222222222222,
             "#7201a8"
            ],
            [
             0.3333333333333333,
             "#9c179e"
            ],
            [
             0.4444444444444444,
             "#bd3786"
            ],
            [
             0.5555555555555556,
             "#d8576b"
            ],
            [
             0.6666666666666666,
             "#ed7953"
            ],
            [
             0.7777777777777778,
             "#fb9f3a"
            ],
            [
             0.8888888888888888,
             "#fdca26"
            ],
            [
             1,
             "#f0f921"
            ]
           ]
          },
          "colorway": [
           "#636efa",
           "#EF553B",
           "#00cc96",
           "#ab63fa",
           "#FFA15A",
           "#19d3f3",
           "#FF6692",
           "#B6E880",
           "#FF97FF",
           "#FECB52"
          ],
          "font": {
           "color": "#2a3f5f"
          },
          "geo": {
           "bgcolor": "white",
           "lakecolor": "white",
           "landcolor": "#E5ECF6",
           "showlakes": true,
           "showland": true,
           "subunitcolor": "white"
          },
          "hoverlabel": {
           "align": "left"
          },
          "hovermode": "closest",
          "mapbox": {
           "style": "light"
          },
          "paper_bgcolor": "white",
          "plot_bgcolor": "#E5ECF6",
          "polar": {
           "angularaxis": {
            "gridcolor": "white",
            "linecolor": "white",
            "ticks": ""
           },
           "bgcolor": "#E5ECF6",
           "radialaxis": {
            "gridcolor": "white",
            "linecolor": "white",
            "ticks": ""
           }
          },
          "scene": {
           "xaxis": {
            "backgroundcolor": "#E5ECF6",
            "gridcolor": "white",
            "gridwidth": 2,
            "linecolor": "white",
            "showbackground": true,
            "ticks": "",
            "zerolinecolor": "white"
           },
           "yaxis": {
            "backgroundcolor": "#E5ECF6",
            "gridcolor": "white",
            "gridwidth": 2,
            "linecolor": "white",
            "showbackground": true,
            "ticks": "",
            "zerolinecolor": "white"
           },
           "zaxis": {
            "backgroundcolor": "#E5ECF6",
            "gridcolor": "white",
            "gridwidth": 2,
            "linecolor": "white",
            "showbackground": true,
            "ticks": "",
            "zerolinecolor": "white"
           }
          },
          "shapedefaults": {
           "line": {
            "color": "#2a3f5f"
           }
          },
          "ternary": {
           "aaxis": {
            "gridcolor": "white",
            "linecolor": "white",
            "ticks": ""
           },
           "baxis": {
            "gridcolor": "white",
            "linecolor": "white",
            "ticks": ""
           },
           "bgcolor": "#E5ECF6",
           "caxis": {
            "gridcolor": "white",
            "linecolor": "white",
            "ticks": ""
           }
          },
          "title": {
           "x": 0.05
          },
          "xaxis": {
           "automargin": true,
           "gridcolor": "white",
           "linecolor": "white",
           "ticks": "",
           "title": {
            "standoff": 15
           },
           "zerolinecolor": "white",
           "zerolinewidth": 2
          },
          "yaxis": {
           "automargin": true,
           "gridcolor": "white",
           "linecolor": "white",
           "ticks": "",
           "title": {
            "standoff": 15
           },
           "zerolinecolor": "white",
           "zerolinewidth": 2
          }
         }
        },
        "title": {
         "text": "Precio vs. Área"
        },
        "xaxis": {
         "anchor": "y",
         "domain": [
          0,
          1
         ],
         "title": {
          "text": "area"
         }
        },
        "yaxis": {
         "anchor": "x",
         "domain": [
          0,
          1
         ],
         "title": {
          "text": "price"
         }
        }
       }
      }
     },
     "metadata": {},
     "output_type": "display_data"
    }
   ],
   "source": [
    "fig = px.scatter(df, x=\"area\", y=\"price\", title=\"Precio vs. Área\")\n",
    "fig.show()"
   ]
  },
  {
   "cell_type": "markdown",
   "id": "5b1eee4a",
   "metadata": {},
   "source": [
    "## Hallazgos iniciales\n",
    "\n",
    "- **Columnas numéricas detectadas:** `price`, `bedrooms`, `bathrooms`, `garage`, `area`.  \n",
    "  La columna `no` solo es un índice, no aporta valor analítico.\n",
    "\n",
    "- **Columna categórica:** `location` (140 valores distintos, la más frecuente es *Zapopan*).\n",
    "\n",
    "- **Distribución de precios:** \n",
    "  - Renta mínima registrada ≈ $3,500  \n",
    "  - Renta máxima registrada ≈ $150,000  \n",
    "  - La mayoría de propiedades se concentran entre $10,000 y $30,000.\n",
    "\n",
    "- **Superficie (area):**\n",
    "  - Media ≈ 191 m², con propiedades pequeñas de 1 m² hasta grandes de 897 m².  \n",
    "  - Valores extremos (outliers) que podrían influir en la dispersión.\n",
    "\n",
    "- **Relaciones observadas:**\n",
    "  - Existe correlación positiva entre **área** y **precio**: a mayor tamaño, suelen ser más caras.  \n",
    "  - Algunas propiedades muy caras parecen ser outliers, no siguen la tendencia general.\n",
    "\n",
    "- **Próximos pasos:**\n",
    "  - Confirmar semántica de cada columna (ej. `garage` = número de cajones?).  \n",
    "  - Usar `price` para el histograma y `area` vs `price` para la dispersión en la app de Streamlit.  \n",
    "  - Explorar posibles comparaciones entre colonias (`location`) y precios.\n",
    "\n"
   ]
  },
  {
   "cell_type": "markdown",
   "id": "457342dd",
   "metadata": {},
   "source": []
  }
 ],
 "metadata": {
  "kernelspec": {
   "display_name": ".venv",
   "language": "python",
   "name": "python3"
  },
  "language_info": {
   "codemirror_mode": {
    "name": "ipython",
    "version": 3
   },
   "file_extension": ".py",
   "mimetype": "text/x-python",
   "name": "python",
   "nbconvert_exporter": "python",
   "pygments_lexer": "ipython3",
   "version": "3.12.7"
  }
 },
 "nbformat": 4,
 "nbformat_minor": 5
}
