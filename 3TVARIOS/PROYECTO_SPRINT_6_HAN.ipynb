{
 "cells": [
  {
   "cell_type": "markdown",
   "metadata": {
    "id": "3rYiDeEH0q0f"
   },
   "source": [
    "## Tienda Online ICE\n",
    "\n",
    "Trabajas para la tienda online Ice que vende videojuegos por todo el mundo. Las reseñas de usuarios y expertos, los géneros, las plataformas (por ejemplo, Xbox o PlayStation) y los datos históricos sobre las ventas de juegos están disponibles en fuentes abiertas. Tienes que identificar patrones que determinen si un juego tiene éxito o no. Esto te permitirá detectar proyectos prometedores y planificar campañas publicitarias.\n",
    "\n",
    "Delante de ti hay datos que se remontan a 2016. Imaginemos que es diciembre de 2016 y estás planeando una campaña para 2017.\n",
    "\n",
    "Lo importante es adquirir experiencia de trabajo con datos. Realmente no importa si estás pronosticando las ventas de 2017 en función de los datos de 2016 o las ventas de 2027 en función de los datos de 2026.\n",
    "\n",
    "El dataset contiene una columna \"rating\" que almacena la clasificación ESRB de cada juego. El Entertainment Software Rating Board (la Junta de clasificación de software de entretenimiento) evalúa el contenido de un juego y asigna una clasificación de edad como Adolescente o Adulto."
   ]
  },
  {
   "cell_type": "markdown",
   "metadata": {},
   "source": [
    "**Instrucciones para completar el proyecto**\n",
    "\n",
    "#Paso 1. Abre el archivo de datos y estudia la información general \n",
    "\n",
    "Ruta de archivo:\n",
    "\n",
    "/datasets/games.csv . Descarga el dataset\n",
    "\n",
    "#Paso 2. Prepara los datos\n",
    "\n",
    "Reemplaza los nombres de las columnas (ponlos en minúsculas).\n",
    "Convierte los datos en los tipos necesarios.\n",
    "Describe las columnas en las que los tipos de datos han sido cambiados y explica por qué.\n",
    "Si es necesario, elige la manera de tratar los valores ausentes:\n",
    "Explica por qué rellenaste los valores ausentes como lo hiciste o por qué decidiste dejarlos en blanco.\n",
    "¿Por qué crees que los valores están ausentes? Brinda explicaciones posibles.\n",
    "Presta atención a la abreviatura TBD: significa \"to be determined\" (a determinar). Especifica cómo piensas manejar estos casos.\n",
    "Calcula las ventas totales (la suma de las ventas en todas las regiones) para cada juego y coloca estos valores en una columna separada.\n",
    "\n",
    "#Paso 3. Analiza los datos\n",
    "\n",
    "Mira cuántos juegos fueron lanzados en diferentes años. ¿Son significativos los datos de cada período?\n",
    "Observa cómo varían las ventas de una plataforma a otra. Elige las plataformas con las mayores ventas totales y construye una distribución basada en los datos de cada año. Busca las plataformas que solían ser populares pero que ahora no tienen ventas. ¿Cuánto tardan generalmente las nuevas plataformas en aparecer y las antiguas en desaparecer?\n",
    "Determina para qué período debes tomar datos. Para hacerlo mira tus respuestas a las preguntas anteriores. Los datos deberían permitirte construir un modelo para 2017.\n",
    "Trabaja solo con los datos que consideras relevantes. Ignora los datos de años anteriores.\n",
    "¿Qué plataformas son líderes en ventas? ¿Cuáles crecen y cuáles se reducen? Elige varias plataformas potencialmente rentables.\n",
    "Crea un diagrama de caja para las ventas globales de todos los juegos, desglosados por plataforma. ¿Son significativas las diferencias en las ventas? ¿Qué sucede con las ventas promedio en varias plataformas? Describe tus hallazgos.\n",
    "Mira cómo las reseñas de usuarios y profesionales afectan las ventas de una plataforma popular (tu elección). Crea un gráfico de dispersión y calcula la correlación entre las reseñas y las ventas. Saca conclusiones.\n",
    "Teniendo en cuenta tus conclusiones compara las ventas de los mismos juegos en otras plataformas.\n",
    "Echa un vistazo a la distribución general de los juegos por género. ¿Qué se puede decir de los géneros más rentables? ¿Puedes generalizar acerca de los géneros con ventas altas y bajas?\n",
    "\n",
    "#Paso 4. Crea un perfil de usuario para cada región\n",
    "\n",
    "Para cada región (NA, UE, JP) determina:\n",
    "\n",
    "Las cinco plataformas principales. Describe las variaciones en sus cuotas de mercado de una región a otra.\n",
    "Los cinco géneros principales. Explica la diferencia.\n",
    "Si las clasificaciones de ESRB afectan a las ventas en regiones individuales.\n",
    "\n",
    "#Paso 5. Prueba las siguientes hipótesis:\n",
    "\n",
    "— Las calificaciones promedio de los usuarios para las plataformas Xbox One y PC son las mismas.\n",
    "\n",
    "— Las calificaciones promedio de los usuarios para los géneros de Acción y Deportes son diferentes.\n",
    "\n",
    "Establece tu mismo el valor de umbral alfa.\n",
    "\n",
    "Explica:\n",
    "\n",
    "— Cómo formulaste las hipótesis nula y alternativa.\n",
    "\n",
    "— Qué criterio utilizaste para probar las hipótesis y por qué.\n",
    "\n",
    "\n",
    "#Paso 6. Escribe una conclusión general"
   ]
  },
  {
   "cell_type": "markdown",
   "metadata": {},
   "source": [
    "En esta sección cargaremos el CSV en un DataFrame de pandas y revisaremos:\n",
    "\n",
    "1. Las primeras filas (`head`) para comprobar que la lectura sea correcta.  \n",
    "2. La información general (`info`) para ver tipos de datos y recuento de no‐nulos.  \n",
    "3. Un resumen estadístico básico de las variables numéricas (`describe`).  \n",
    "4. Conteo de valores faltantes por columna (`isnull().sum()`).\n",
    "\n",
    "Esto nos permitirá detectar a simple vista:\n",
    "- Columnas mal nombradas o con espacios.  \n",
    "- Tipos incorrectos (por ejemplo, `User_Score` como objeto).  \n",
    "- Presencia de valores ausentes y posibles “TBD”.  \n",
    "- Tamaño del dataset (número de filas y columnas).  \n"
   ]
  },
  {
   "cell_type": "markdown",
   "metadata": {
    "id": "MQi4IPy70q0y"
   },
   "source": [
    "## Inicialización"
   ]
  },
  {
   "cell_type": "code",
   "execution_count": 20,
   "metadata": {
    "id": "MtYIuBxu0q0z"
   },
   "outputs": [],
   "source": [
    "# Cargar todas las librerías\n",
    "import pandas as pd  # Para manipulación y análisis de datos\n",
    "import numpy as np  # Para operaciones numéricas y manejo de arrays\n",
    "import matplotlib.pyplot as plt  # Para visualización de datos\n",
    "import seaborn as sns  # Para gráficos\n",
    "from scipy import stats  # Para realizar pruebas estadisticas\n",
    "from datetime import datetime # Para manejar fechas y tiempos"
   ]
  },
  {
   "cell_type": "markdown",
   "metadata": {
    "id": "4ysWWC5i0q00"
   },
   "source": [
    "## Paso 1: Cargar datos"
   ]
  },
  {
   "cell_type": "code",
   "execution_count": 21,
   "metadata": {
    "id": "CCqPW7rS0q01"
   },
   "outputs": [
    {
     "data": {
      "text/html": [
       "<div>\n",
       "<style scoped>\n",
       "    .dataframe tbody tr th:only-of-type {\n",
       "        vertical-align: middle;\n",
       "    }\n",
       "\n",
       "    .dataframe tbody tr th {\n",
       "        vertical-align: top;\n",
       "    }\n",
       "\n",
       "    .dataframe thead th {\n",
       "        text-align: right;\n",
       "    }\n",
       "</style>\n",
       "<table border=\"1\" class=\"dataframe\">\n",
       "  <thead>\n",
       "    <tr style=\"text-align: right;\">\n",
       "      <th></th>\n",
       "      <th>Name</th>\n",
       "      <th>Platform</th>\n",
       "      <th>Year_of_Release</th>\n",
       "      <th>Genre</th>\n",
       "      <th>NA_sales</th>\n",
       "      <th>EU_sales</th>\n",
       "      <th>JP_sales</th>\n",
       "      <th>Other_sales</th>\n",
       "      <th>Critic_Score</th>\n",
       "      <th>User_Score</th>\n",
       "      <th>Rating</th>\n",
       "    </tr>\n",
       "  </thead>\n",
       "  <tbody>\n",
       "    <tr>\n",
       "      <th>0</th>\n",
       "      <td>Wii Sports</td>\n",
       "      <td>Wii</td>\n",
       "      <td>2006.0</td>\n",
       "      <td>Sports</td>\n",
       "      <td>41.36</td>\n",
       "      <td>28.96</td>\n",
       "      <td>3.77</td>\n",
       "      <td>8.45</td>\n",
       "      <td>76.0</td>\n",
       "      <td>8</td>\n",
       "      <td>E</td>\n",
       "    </tr>\n",
       "    <tr>\n",
       "      <th>1</th>\n",
       "      <td>Super Mario Bros.</td>\n",
       "      <td>NES</td>\n",
       "      <td>1985.0</td>\n",
       "      <td>Platform</td>\n",
       "      <td>29.08</td>\n",
       "      <td>3.58</td>\n",
       "      <td>6.81</td>\n",
       "      <td>0.77</td>\n",
       "      <td>NaN</td>\n",
       "      <td>NaN</td>\n",
       "      <td>NaN</td>\n",
       "    </tr>\n",
       "    <tr>\n",
       "      <th>2</th>\n",
       "      <td>Mario Kart Wii</td>\n",
       "      <td>Wii</td>\n",
       "      <td>2008.0</td>\n",
       "      <td>Racing</td>\n",
       "      <td>15.68</td>\n",
       "      <td>12.76</td>\n",
       "      <td>3.79</td>\n",
       "      <td>3.29</td>\n",
       "      <td>82.0</td>\n",
       "      <td>8.3</td>\n",
       "      <td>E</td>\n",
       "    </tr>\n",
       "    <tr>\n",
       "      <th>3</th>\n",
       "      <td>Wii Sports Resort</td>\n",
       "      <td>Wii</td>\n",
       "      <td>2009.0</td>\n",
       "      <td>Sports</td>\n",
       "      <td>15.61</td>\n",
       "      <td>10.93</td>\n",
       "      <td>3.28</td>\n",
       "      <td>2.95</td>\n",
       "      <td>80.0</td>\n",
       "      <td>8</td>\n",
       "      <td>E</td>\n",
       "    </tr>\n",
       "    <tr>\n",
       "      <th>4</th>\n",
       "      <td>Pokemon Red/Pokemon Blue</td>\n",
       "      <td>GB</td>\n",
       "      <td>1996.0</td>\n",
       "      <td>Role-Playing</td>\n",
       "      <td>11.27</td>\n",
       "      <td>8.89</td>\n",
       "      <td>10.22</td>\n",
       "      <td>1.00</td>\n",
       "      <td>NaN</td>\n",
       "      <td>NaN</td>\n",
       "      <td>NaN</td>\n",
       "    </tr>\n",
       "  </tbody>\n",
       "</table>\n",
       "</div>"
      ],
      "text/plain": [
       "                       Name Platform  Year_of_Release         Genre  NA_sales  \\\n",
       "0                Wii Sports      Wii           2006.0        Sports     41.36   \n",
       "1         Super Mario Bros.      NES           1985.0      Platform     29.08   \n",
       "2            Mario Kart Wii      Wii           2008.0        Racing     15.68   \n",
       "3         Wii Sports Resort      Wii           2009.0        Sports     15.61   \n",
       "4  Pokemon Red/Pokemon Blue       GB           1996.0  Role-Playing     11.27   \n",
       "\n",
       "   EU_sales  JP_sales  Other_sales  Critic_Score User_Score Rating  \n",
       "0     28.96      3.77         8.45          76.0          8      E  \n",
       "1      3.58      6.81         0.77           NaN        NaN    NaN  \n",
       "2     12.76      3.79         3.29          82.0        8.3      E  \n",
       "3     10.93      3.28         2.95          80.0          8      E  \n",
       "4      8.89     10.22         1.00           NaN        NaN    NaN  "
      ]
     },
     "metadata": {},
     "output_type": "display_data"
    },
    {
     "name": "stdout",
     "output_type": "stream",
     "text": [
      "<class 'pandas.core.frame.DataFrame'>\n",
      "RangeIndex: 16715 entries, 0 to 16714\n",
      "Data columns (total 11 columns):\n",
      " #   Column           Non-Null Count  Dtype  \n",
      "---  ------           --------------  -----  \n",
      " 0   Name             16713 non-null  object \n",
      " 1   Platform         16715 non-null  object \n",
      " 2   Year_of_Release  16446 non-null  float64\n",
      " 3   Genre            16713 non-null  object \n",
      " 4   NA_sales         16715 non-null  float64\n",
      " 5   EU_sales         16715 non-null  float64\n",
      " 6   JP_sales         16715 non-null  float64\n",
      " 7   Other_sales      16715 non-null  float64\n",
      " 8   Critic_Score     8137 non-null   float64\n",
      " 9   User_Score       10014 non-null  object \n",
      " 10  Rating           9949 non-null   object \n",
      "dtypes: float64(6), object(5)\n",
      "memory usage: 1.4+ MB\n"
     ]
    },
    {
     "data": {
      "text/html": [
       "<div>\n",
       "<style scoped>\n",
       "    .dataframe tbody tr th:only-of-type {\n",
       "        vertical-align: middle;\n",
       "    }\n",
       "\n",
       "    .dataframe tbody tr th {\n",
       "        vertical-align: top;\n",
       "    }\n",
       "\n",
       "    .dataframe thead th {\n",
       "        text-align: right;\n",
       "    }\n",
       "</style>\n",
       "<table border=\"1\" class=\"dataframe\">\n",
       "  <thead>\n",
       "    <tr style=\"text-align: right;\">\n",
       "      <th></th>\n",
       "      <th>Year_of_Release</th>\n",
       "      <th>NA_sales</th>\n",
       "      <th>EU_sales</th>\n",
       "      <th>JP_sales</th>\n",
       "      <th>Other_sales</th>\n",
       "      <th>Critic_Score</th>\n",
       "    </tr>\n",
       "  </thead>\n",
       "  <tbody>\n",
       "    <tr>\n",
       "      <th>count</th>\n",
       "      <td>16446.000000</td>\n",
       "      <td>16715.000000</td>\n",
       "      <td>16715.000000</td>\n",
       "      <td>16715.000000</td>\n",
       "      <td>16715.000000</td>\n",
       "      <td>8137.000000</td>\n",
       "    </tr>\n",
       "    <tr>\n",
       "      <th>mean</th>\n",
       "      <td>2006.484616</td>\n",
       "      <td>0.263377</td>\n",
       "      <td>0.145060</td>\n",
       "      <td>0.077617</td>\n",
       "      <td>0.047342</td>\n",
       "      <td>68.967679</td>\n",
       "    </tr>\n",
       "    <tr>\n",
       "      <th>std</th>\n",
       "      <td>5.877050</td>\n",
       "      <td>0.813604</td>\n",
       "      <td>0.503339</td>\n",
       "      <td>0.308853</td>\n",
       "      <td>0.186731</td>\n",
       "      <td>13.938165</td>\n",
       "    </tr>\n",
       "    <tr>\n",
       "      <th>min</th>\n",
       "      <td>1980.000000</td>\n",
       "      <td>0.000000</td>\n",
       "      <td>0.000000</td>\n",
       "      <td>0.000000</td>\n",
       "      <td>0.000000</td>\n",
       "      <td>13.000000</td>\n",
       "    </tr>\n",
       "    <tr>\n",
       "      <th>25%</th>\n",
       "      <td>2003.000000</td>\n",
       "      <td>0.000000</td>\n",
       "      <td>0.000000</td>\n",
       "      <td>0.000000</td>\n",
       "      <td>0.000000</td>\n",
       "      <td>60.000000</td>\n",
       "    </tr>\n",
       "    <tr>\n",
       "      <th>50%</th>\n",
       "      <td>2007.000000</td>\n",
       "      <td>0.080000</td>\n",
       "      <td>0.020000</td>\n",
       "      <td>0.000000</td>\n",
       "      <td>0.010000</td>\n",
       "      <td>71.000000</td>\n",
       "    </tr>\n",
       "    <tr>\n",
       "      <th>75%</th>\n",
       "      <td>2010.000000</td>\n",
       "      <td>0.240000</td>\n",
       "      <td>0.110000</td>\n",
       "      <td>0.040000</td>\n",
       "      <td>0.030000</td>\n",
       "      <td>79.000000</td>\n",
       "    </tr>\n",
       "    <tr>\n",
       "      <th>max</th>\n",
       "      <td>2016.000000</td>\n",
       "      <td>41.360000</td>\n",
       "      <td>28.960000</td>\n",
       "      <td>10.220000</td>\n",
       "      <td>10.570000</td>\n",
       "      <td>98.000000</td>\n",
       "    </tr>\n",
       "  </tbody>\n",
       "</table>\n",
       "</div>"
      ],
      "text/plain": [
       "       Year_of_Release      NA_sales      EU_sales      JP_sales  \\\n",
       "count     16446.000000  16715.000000  16715.000000  16715.000000   \n",
       "mean       2006.484616      0.263377      0.145060      0.077617   \n",
       "std           5.877050      0.813604      0.503339      0.308853   \n",
       "min        1980.000000      0.000000      0.000000      0.000000   \n",
       "25%        2003.000000      0.000000      0.000000      0.000000   \n",
       "50%        2007.000000      0.080000      0.020000      0.000000   \n",
       "75%        2010.000000      0.240000      0.110000      0.040000   \n",
       "max        2016.000000     41.360000     28.960000     10.220000   \n",
       "\n",
       "        Other_sales  Critic_Score  \n",
       "count  16715.000000   8137.000000  \n",
       "mean       0.047342     68.967679  \n",
       "std        0.186731     13.938165  \n",
       "min        0.000000     13.000000  \n",
       "25%        0.000000     60.000000  \n",
       "50%        0.010000     71.000000  \n",
       "75%        0.030000     79.000000  \n",
       "max       10.570000     98.000000  "
      ]
     },
     "metadata": {},
     "output_type": "display_data"
    },
    {
     "data": {
      "text/plain": [
       "Name                  2\n",
       "Platform              0\n",
       "Year_of_Release     269\n",
       "Genre                 2\n",
       "NA_sales              0\n",
       "EU_sales              0\n",
       "JP_sales              0\n",
       "Other_sales           0\n",
       "Critic_Score       8578\n",
       "User_Score         6701\n",
       "Rating             6766\n",
       "dtype: int64"
      ]
     },
     "metadata": {},
     "output_type": "display_data"
    }
   ],
   "source": [
    "# 1) Lectura del CSV\n",
    "df = pd.read_csv(r'C:/Users/Usuario/Documents/DS/games.csv')\n",
    "\n",
    "# 2) Mostrar las primeras 5 filas\n",
    "display(df.head())\n",
    "\n",
    "# 3) Información general: tipos y no‐nulos\n",
    "df.info()\n",
    "\n",
    "# 4) Estadísticas descriptivas para variables numéricas\n",
    "display(df.describe())\n",
    "\n",
    "# 5) Conteo de valores faltantes por columna\n",
    "display(df.isnull().sum())\n"
   ]
  },
  {
   "cell_type": "markdown",
   "metadata": {
    "id": "vUuZw80S0q01"
   },
   "source": [
    "## Paso 2: Preparación y limpieza de datos\n",
    "\n",
    "A continuación aplicaremos las transformaciones necesarias para dejar el dataset listo para el análisis:\n",
    "\n",
    "1. Renombrar columnas a minúsculas\n",
    "2. Mapear `\"tbd\"` a `NaN` en `user_score` y convertirla a `float`  \n",
    "3. Convertir `year_of_release` a entero, descartando o imputando filas sin año  \n",
    "4. Tratar valores ausentes en `name`, `genre` y `rating` \n",
    "5. Convertir `rating` a variable categórica y crear categoría `\"Not Rated\"` para los `NaN`  \n",
    "6. Crear columna `total_sales` como suma de las ventas por región  "
   ]
  },
  {
   "cell_type": "code",
   "execution_count": 22,
   "metadata": {},
   "outputs": [
    {
     "name": "stdout",
     "output_type": "stream",
     "text": [
      "Años faltantes: 269\n",
      "<class 'pandas.core.frame.DataFrame'>\n",
      "Index: 16446 entries, 0 to 16714\n",
      "Data columns (total 12 columns):\n",
      " #   Column           Non-Null Count  Dtype   \n",
      "---  ------           --------------  -----   \n",
      " 0   name             16446 non-null  object  \n",
      " 1   platform         16446 non-null  object  \n",
      " 2   year_of_release  16446 non-null  Int64   \n",
      " 3   genre            16446 non-null  object  \n",
      " 4   na_sales         16446 non-null  float64 \n",
      " 5   eu_sales         16446 non-null  float64 \n",
      " 6   jp_sales         16446 non-null  float64 \n",
      " 7   other_sales      16446 non-null  float64 \n",
      " 8   critic_score     7983 non-null   float64 \n",
      " 9   user_score       7463 non-null   float64 \n",
      " 10  rating           16446 non-null  category\n",
      " 11  total_sales      16446 non-null  float64 \n",
      "dtypes: Int64(1), category(1), float64(7), object(3)\n",
      "memory usage: 1.5+ MB\n"
     ]
    },
    {
     "data": {
      "text/plain": [
       "None"
      ]
     },
     "metadata": {},
     "output_type": "display_data"
    },
    {
     "data": {
      "text/plain": [
       "user_score      8983\n",
       "critic_score    8463\n",
       "rating             0\n",
       "dtype: int64"
      ]
     },
     "metadata": {},
     "output_type": "display_data"
    },
    {
     "data": {
      "text/html": [
       "<div>\n",
       "<style scoped>\n",
       "    .dataframe tbody tr th:only-of-type {\n",
       "        vertical-align: middle;\n",
       "    }\n",
       "\n",
       "    .dataframe tbody tr th {\n",
       "        vertical-align: top;\n",
       "    }\n",
       "\n",
       "    .dataframe thead th {\n",
       "        text-align: right;\n",
       "    }\n",
       "</style>\n",
       "<table border=\"1\" class=\"dataframe\">\n",
       "  <thead>\n",
       "    <tr style=\"text-align: right;\">\n",
       "      <th></th>\n",
       "      <th>total_sales</th>\n",
       "    </tr>\n",
       "  </thead>\n",
       "  <tbody>\n",
       "    <tr>\n",
       "      <th>count</th>\n",
       "      <td>16446.000000</td>\n",
       "    </tr>\n",
       "    <tr>\n",
       "      <th>mean</th>\n",
       "      <td>0.536105</td>\n",
       "    </tr>\n",
       "    <tr>\n",
       "      <th>std</th>\n",
       "      <td>1.558763</td>\n",
       "    </tr>\n",
       "    <tr>\n",
       "      <th>min</th>\n",
       "      <td>0.000000</td>\n",
       "    </tr>\n",
       "    <tr>\n",
       "      <th>25%</th>\n",
       "      <td>0.060000</td>\n",
       "    </tr>\n",
       "    <tr>\n",
       "      <th>50%</th>\n",
       "      <td>0.170000</td>\n",
       "    </tr>\n",
       "    <tr>\n",
       "      <th>75%</th>\n",
       "      <td>0.470000</td>\n",
       "    </tr>\n",
       "    <tr>\n",
       "      <th>max</th>\n",
       "      <td>82.540000</td>\n",
       "    </tr>\n",
       "  </tbody>\n",
       "</table>\n",
       "</div>"
      ],
      "text/plain": [
       "        total_sales\n",
       "count  16446.000000\n",
       "mean       0.536105\n",
       "std        1.558763\n",
       "min        0.000000\n",
       "25%        0.060000\n",
       "50%        0.170000\n",
       "75%        0.470000\n",
       "max       82.540000"
      ]
     },
     "metadata": {},
     "output_type": "display_data"
    }
   ],
   "source": [
    "#1) Renombrar columnas a minúsculas ---\n",
    "df.columns = [col.lower() for col in df.columns]\n",
    "\n",
    "# 2) User_Score: mapear \"tbd\" a NaN y convertir a float\n",
    "df['user_score'] = df['user_score'].replace('tbd', np.nan)\n",
    "df['user_score'] = df['user_score'].astype(float)\n",
    "\n",
    "# 3) Year_of_Release: convertir a Int64 nullable\n",
    "#    Primero revisamos cuántas filas faltan:\n",
    "print(f\"Años faltantes: {df['year_of_release'].isna().sum()}\")\n",
    "\n",
    "#    Aquí optamos por descartar esas filas, pues son pocas (<2%):\n",
    "df = df.dropna(subset=['year_of_release']).copy()\n",
    "df['year_of_release'] = df['year_of_release'].astype('Int64')\n",
    "\n",
    "# 4) Name y Genre: rellenar ausentes con \"Unknown\"\n",
    "df['name']  = df['name'].fillna('Unknown')\n",
    "df['genre'] = df['genre'].fillna('Unknown')\n",
    "\n",
    "# 5) Rating: convertir a categoría y crear \"Not Rated\"\n",
    "df['rating'] = df['rating'].astype('category')\n",
    "df['rating'] = df['rating'].cat.add_categories('Not Rated')\n",
    "df['rating'] = df['rating'].fillna('Not Rated')\n",
    "\n",
    "# 6) Columna de ventas totales\n",
    "df['total_sales'] = (\n",
    "    df['na_sales'] +\n",
    "    df['eu_sales'] +\n",
    "    df['jp_sales'] +\n",
    "    df['other_sales']\n",
    ")\n",
    "\n",
    "# Comprobación rápida\n",
    "display(df.info())\n",
    "display(df[['user_score', 'critic_score', 'rating']].isnull().sum())\n",
    "display(df[['total_sales']].describe())\n"
   ]
  },
  {
   "cell_type": "markdown",
   "metadata": {
    "id": "ohBhimvH0q01"
   },
   "source": [
    "## Paso 3: Analiza los datos\n",
    "\n",
    "3.1 Conteo de lanzamientos por año\n",
    "Objetivo: Ver cuántos juegos salieron cada año y detectar periodos con pocos datos (p. ej. los primeros años o 2016 incompleto)."
   ]
  },
  {
   "cell_type": "code",
   "execution_count": 23,
   "metadata": {
    "id": "GptqP3Q40q02"
   },
   "outputs": [
    {
     "name": "stdout",
     "output_type": "stream",
     "text": [
      "year_of_release\n",
      "1980       9\n",
      "1981      46\n",
      "1982      36\n",
      "1983      17\n",
      "1984      14\n",
      "1985      14\n",
      "1986      21\n",
      "1987      16\n",
      "1988      15\n",
      "1989      17\n",
      "1990      16\n",
      "1991      41\n",
      "1992      43\n",
      "1993      62\n",
      "1994     121\n",
      "1995     219\n",
      "1996     263\n",
      "1997     289\n",
      "1998     379\n",
      "1999     338\n",
      "2000     350\n",
      "2001     482\n",
      "2002     829\n",
      "2003     775\n",
      "2004     762\n",
      "2005     939\n",
      "2006    1006\n",
      "2007    1197\n",
      "2008    1427\n",
      "2009    1426\n",
      "2010    1255\n",
      "2011    1136\n",
      "2012     653\n",
      "2013     544\n",
      "2014     581\n",
      "2015     606\n",
      "2016     502\n",
      "Name: count, dtype: Int64\n"
     ]
    },
    {
     "data": {
      "image/png": "[encoded data removed]",
      "text/plain": [
       "<Figure size 1200x600 with 1 Axes>"
      ]
     },
     "metadata": {},
     "output_type": "display_data"
    }
   ],
   "source": [
    "# 3.1 Conteo de juegos por año\n",
    "year_counts = df['year_of_release'].value_counts().sort_index()\n",
    "\n",
    "# Mostrar la tabla de conteos\n",
    "print(year_counts)\n",
    "\n",
    "# Gráfico de barras\n",
    "plt.figure(figsize=(12, 6))\n",
    "year_counts.plot(kind='bar')\n",
    "plt.xlabel('Año de Lanzamiento')\n",
    "plt.ylabel('Número de Juegos Publicados')\n",
    "plt.title('Juegos Publicados por Año')\n",
    "plt.xticks(rotation=45)\n",
    "plt.tight_layout()\n",
    "plt.show()\n"
   ]
  },
  {
   "cell_type": "markdown",
   "metadata": {},
   "source": [
    "### 3.2 Ventas totales por plataforma y su evolución anual\n",
    "\n",
    "1. Calculamos las ventas totales por plataforma (acumuladas desde 2002).  \n",
    "2. Identificamos las Top-10 plataformas más vendidas.  \n",
    "3. Construimos un gráfico de líneas con la evolución anual de esas Top-10.  \n",
    "4. Calculamos para cada plataforma el año de primera y última aparición (para ver ciclos de vida).\n",
    "\n"
   ]
  },
  {
   "cell_type": "code",
   "execution_count": 32,
   "metadata": {
    "id": "64xzjwL70q02"
   },
   "outputs": [
    {
     "name": "stdout",
     "output_type": "stream",
     "text": [
      "Ventas totales por plataforma:\n",
      " platform\n",
      "PS2     1233.56\n",
      "X360     961.24\n",
      "PS3      931.34\n",
      "Wii      891.18\n",
      "DS       802.78\n",
      "PS       727.58\n",
      "PS4      314.14\n",
      "GBA      312.88\n",
      "PSP      289.53\n",
      "3DS      257.81\n",
      "PC       255.76\n",
      "GB       254.43\n",
      "XB       251.57\n",
      "NES      251.05\n",
      "N64      218.01\n",
      "SNES     200.04\n",
      "GC       196.73\n",
      "XOne     159.32\n",
      "2600      86.48\n",
      "WiiU      82.19\n",
      "PSV       53.81\n",
      "SAT       33.59\n",
      "GEN       30.77\n",
      "DC        15.95\n",
      "SCD        1.86\n",
      "NG         1.44\n",
      "WS         1.42\n",
      "TG16       0.16\n",
      "3DO        0.10\n",
      "GG         0.04\n",
      "PCFX       0.03\n",
      "Name: total_sales, dtype: float64\n",
      "\n",
      "Top-10 plataformas: ['PS2', 'X360', 'PS3', 'Wii', 'DS', 'PS', 'PS4', 'GBA', 'PSP', '3DS']\n"
     ]
    },
    {
     "data": {
      "image/png": "[encoded data removed]",
      "text/plain": [
       "<Figure size 1200x600 with 1 Axes>"
      ]
     },
     "metadata": {},
     "output_type": "display_data"
    },
    {
     "name": "stdout",
     "output_type": "stream",
     "text": [
      "\n",
      "Ciclo de vida por plataforma:\n",
      "           first_release  last_release\n",
      "platform                             \n",
      "2600               1980          1989\n",
      "NES                1983          1994\n",
      "PC                 1985          2016\n",
      "DS                 1985          2013\n",
      "GB                 1988          2001\n",
      "GEN                1990          1994\n",
      "SNES               1990          1999\n",
      "GG                 1992          1992\n",
      "SCD                1993          1994\n",
      "NG                 1993          1996\n",
      "3DO                1994          1995\n",
      "PS                 1994          2003\n",
      "SAT                1994          1999\n",
      "TG16               1995          1995\n",
      "N64                1996          2002\n",
      "PCFX               1996          1996\n",
      "DC                 1998          2008\n",
      "WS                 1999          2001\n",
      "GBA                2000          2007\n",
      "XB                 2000          2008\n",
      "PS2                2000          2011\n",
      "GC                 2001          2007\n",
      "PSP                2004          2015\n",
      "X360               2005          2016\n",
      "PS3                2006          2016\n",
      "Wii                2006          2016\n",
      "3DS                2011          2016\n",
      "PSV                2011          2016\n",
      "WiiU               2012          2016\n",
      "PS4                2013          2016\n",
      "XOne               2013          2016\n"
     ]
    }
   ],
   "source": [
    "# 3.2 Ventas por plataforma y evolución anual\n",
    "\n",
    "# 1) Ventas totales por plataforma\n",
    "platform_sales = df.groupby('platform')['total_sales'].sum().sort_values(ascending=False)\n",
    "print(\"Ventas totales por plataforma:\\n\", platform_sales)\n",
    "\n",
    "# 2) Seleccionar Top-10\n",
    "top10 = platform_sales.head(10).index.tolist()\n",
    "print(\"\\nTop-10 plataformas:\", top10)\n",
    "\n",
    "# 3) Evolución anual de ventas para esas Top-10\n",
    "annual = (\n",
    "    df[df['platform'].isin(top10)]\n",
    "    .groupby(['year_of_release', 'platform'])['total_sales']\n",
    "    .sum()\n",
    "    .unstack(fill_value=0)\n",
    ")\n",
    "annual.plot(figsize=(12, 6))\n",
    "plt.title('Evolución anual de ventas (Top-10 plataformas)')\n",
    "plt.xlabel('Año de lanzamiento')\n",
    "plt.ylabel('Ventas totales')\n",
    "plt.legend(title='Plataforma')\n",
    "plt.tight_layout()\n",
    "plt.show()\n",
    "\n",
    "# 4) Ciclo de vida de cada plataforma\n",
    "lifespan = (\n",
    "    df.groupby('platform')['year_of_release']\n",
    "      .agg(first_release='min', last_release='max')\n",
    "      .sort_values('first_release')\n",
    ")\n",
    "print(\"\\nCiclo de vida por plataforma:\\n\", lifespan)\n",
    "\n"
   ]
  },
  {
   "cell_type": "markdown",
   "metadata": {
    "id": "mEc_3_hs0q02"
   },
   "source": [
    "Con base en los resultados:\n",
    "\n",
    "Plataformas dominantes en ventas globales\n",
    "\n",
    "Las cinco plataformas con más ventas acumuladas son:\n",
    "PS2, X360, PS3, Wii y DS\n",
    "\n",
    "Entre ellas suman más de 4 900 millones de dólares en ventas totales (aprox.).\n",
    "\n",
    "Evolución anual de las Top-10\n",
    "\n",
    "PS2 (2000–2011) despuntó muy rápido tras su lanzamiento (pico entre 2004–2006), y luego entró en declive a partir de 2008–2009.\n",
    "\n",
    "X360 (2005–2016) mostró un crecimiento sostenido hasta 2010–2011 y mantiene ventas estables incluso en 2015.\n",
    "\n",
    "PS3 (2006–2016) creció lentamen­te, alcanzó su punto más alto alrededor de 2009–2011 y luego se estabilizó.\n",
    "\n",
    "Wii (2006–2016) tuvo un espectacular pico en 2008–2009 y después declinó, con ventas residuales hasta 2015.\n",
    "\n",
    "DS (aprox. 2004–2013) mantuvo ventas fuertes varios años (pico 2006–2008) y cayó bruscamente tras 2010.\n",
    "\n",
    "Ciclos de vida de las plataformas\n",
    "\n",
    "Los sistemas clásicos (por ejemplo, NES, SNES, GB, N64, GameCube) tienen ciclos de 6–10 años antes de desaparecer por completo.\n",
    "\n",
    "Las consolas “modernas” (PS2, X360, PS3, Wii) también siguen ciclos de 8–12 años.\n",
    "\n",
    "Las últimas generaciones (PS4, XOne, WiiU, 3DS, PSV) aparecen entre 2011–2013, pero aún no han completado su ciclo (sus datos llegan sólo hasta 2015–2016).\n",
    "\n",
    "¿En cuánto tiempo “nace” una plataforma y “muere”?\n",
    "\n",
    "Del nacimiento al pico de ventas: suele tardar 2–4 años desde el lanzamiento hasta el máximo anual.\n",
    "\n",
    "Vida útil completa: alrededor de 8–12 años hasta que sus ventas caen casi a cero.\n",
    "\n",
    "Excluir años muy escasos (pre-2000) y el año 2016 (datos incompletos).\n",
    "\n",
    "Incluir sólo plataformas con ciclo suficientemente maduro (al menos 5 años de datos) y ventas estables.\n",
    "\n",
    "Esto nos deja con el rango 2002–2015, que engloba el auge de PS2, X360, PS3, Wii y DS, y descarta tanto los inicios con pocos juegos como el 2016 parcial."
   ]
  },
  {
   "cell_type": "code",
   "execution_count": 25,
   "metadata": {
    "id": "Y7SVmjGn0q03"
   },
   "outputs": [
    {
     "name": "stderr",
     "output_type": "stream",
     "text": [
      "C:\\Users\\Usuario\\AppData\\Local\\Temp\\ipykernel_13884\\4171593659.py:20: MatplotlibDeprecationWarning: The 'labels' parameter of boxplot() has been renamed 'tick_labels' since Matplotlib 3.9; support for the old name will be dropped in 3.11.\n",
      "  plt.boxplot(box_data, labels=ord_plat, showfliers=True)\n"
     ]
    },
    {
     "data": {
      "image/png": "[encoded data removed]",
      "text/plain": [
       "<Figure size 1200x600 with 1 Axes>"
      ]
     },
     "metadata": {},
     "output_type": "display_data"
    }
   ],
   "source": [
    "# 1) Filtrar años completos (2002–2015)\n",
    "df2 = df[df['year_of_release'].between(2002, 2015)]\n",
    "\n",
    "# 2) Calcular ciclo de vida de cada plataforma\n",
    "lifespan = (df.groupby('platform')['year_of_release']\n",
    "                .agg(first='min', last='max'))\n",
    "lifespan['duration'] = lifespan['last'] - lifespan['first']\n",
    "\n",
    "# 3) Seleccionar plataformas con al menos 5 años de historia\n",
    "platforms_ok = lifespan[lifespan['duration'] >= 5].index.tolist()\n",
    "df2 = df2[df2['platform'].isin(platforms_ok)]\n",
    "\n",
    "# 4) Ordenar por mediana de ventas globales\n",
    "mediana = df2.groupby('platform')['total_sales'].median().sort_values(ascending=False)\n",
    "ord_plat = mediana.index.tolist()\n",
    "\n",
    "# 5) Diagrama de caja\n",
    "plt.figure(figsize=(12,6))\n",
    "box_data = [df2[df2['platform']==p]['total_sales'] for p in ord_plat]\n",
    "plt.boxplot(box_data, labels=ord_plat, showfliers=True)\n",
    "plt.xticks(rotation=45)\n",
    "plt.xlabel('Plataforma')\n",
    "plt.ylabel('Ventas globales por juego (millones USD)')\n",
    "plt.title('Distribución de Ventas Globales por Plataforma (2002–2015)')\n",
    "plt.tight_layout()\n",
    "plt.show()"
   ]
  },
  {
   "cell_type": "markdown",
   "metadata": {},
   "source": [
    "Interpretación del diagrama de caja Distribución de Ventas Globales por Plataforma (2002–2015):\n",
    "\n",
    "Medianas elevadas en plataformas como PS2, Wii y X360, lo que indica que un juego promedio en esas consolas vende más que en otras.\n",
    "\n",
    "Gran dispersión en las mismas consolas, reflejando que, aunque el promedio es alto, hay títulos que venden excepcionalmente bien y otros que apenas venden.\n",
    "\n",
    "Plataformas PC y PS3 muestran medianas más bajas y menor variabilidad, lo que sugiere un mercado más homogéneo.\n",
    "\n",
    "Outliers pronunciados (puntos aislados arriba del bigote) que corresponden a superventas que distorsionan la distribución.\n",
    "\n",
    "Algunas plataformas con menor ciclo (aunque incluidas aquí) como PSP o GBA presentan medianas intermedias y más concentración alrededor de valores bajos.\n",
    "\n",
    "En conjunto, este análisis revela:\n",
    "\n",
    "Plataformas clave para enfocar campañas (PS2, Wii, X360).\n",
    "\n",
    "Importancia de superventas: unas pocas franquicias muy fuertes pueden levantar la distribución global.\n",
    "\n",
    "Mercado PC/PS3 más estable, donde tal vez convenga estrategias diferentes (por ejemplo, promociones de catálogo vs. lanzamientos de grandes franquicias)."
   ]
  },
  {
   "cell_type": "code",
   "execution_count": 26,
   "metadata": {},
   "outputs": [
    {
     "data": {
      "image/png": "[encoded data removed]",
      "text/plain": [
       "<Figure size 600x500 with 1 Axes>"
      ]
     },
     "metadata": {},
     "output_type": "display_data"
    },
    {
     "data": {
      "image/png": "[encoded data removed]",
      "text/plain": [
       "<Figure size 600x500 with 1 Axes>"
      ]
     },
     "metadata": {},
     "output_type": "display_data"
    },
    {
     "name": "stdout",
     "output_type": "stream",
     "text": [
      "Correlación Critic vs Ventas: 0.389\n",
      "Correlación User   vs Ventas: 0.110\n",
      "\n",
      "Primeros 10 juegos y comparación de ventas:\n",
      "                             name  x360_sales  other_avg_sales\n",
      "0              Kinect Adventures!       21.82              NaN\n",
      "1              Grand Theft Auto V       16.27           11.110\n",
      "2  Call of Duty: Modern Warfare 3       14.73            5.290\n",
      "3         Call of Duty: Black Ops       14.62            4.860\n",
      "4      Call of Duty: Black Ops II       13.68            7.655\n",
      "5  Call of Duty: Modern Warfare 2       13.47            5.750\n",
      "6                          Halo 3       12.12              NaN\n",
      "7             Grand Theft Auto IV       11.00            5.685\n",
      "8            Call of Duty: Ghosts       10.24            5.025\n",
      "9                     Halo: Reach        9.86              NaN\n"
     ]
    },
    {
     "data": {
      "image/png": "[encoded data removed]",
      "text/plain": [
       "<Figure size 1000x500 with 1 Axes>"
      ]
     },
     "metadata": {},
     "output_type": "display_data"
    },
    {
     "name": "stdout",
     "output_type": "stream",
     "text": [
      "\n",
      "Medianas por género:\n",
      "genre\n",
      "Shooter         0.22\n",
      "Platform        0.21\n",
      "Sports          0.20\n",
      "Action          0.18\n",
      "Fighting        0.18\n",
      "Racing          0.16\n",
      "Role-Playing    0.16\n",
      "Misc            0.15\n",
      "Simulation      0.14\n",
      "Puzzle          0.08\n",
      "Strategy        0.08\n",
      "Adventure       0.05\n",
      "Name: total_sales, dtype: float64\n"
     ]
    }
   ],
   "source": [
    "# 3.3 Impacto de reseñas vs ventas en X360\n",
    "df_x360 = df2[df2['platform']=='X360'].dropna(subset=['critic_score','user_score'])\n",
    "# Scatter Critic vs Ventas\n",
    "plt.figure(figsize=(6,5))\n",
    "plt.scatter(df_x360['critic_score'], df_x360['total_sales'], alpha=0.6)\n",
    "plt.xlabel('Puntuación Crítica')\n",
    "plt.ylabel('Ventas Globales (M USD)')\n",
    "plt.title('X360: Critic Score vs Total Sales')\n",
    "plt.tight_layout()\n",
    "plt.show()\n",
    "# Scatter User vs Ventas\n",
    "plt.figure(figsize=(6,5))\n",
    "plt.scatter(df_x360['user_score'], df_x360['total_sales'], alpha=0.6)\n",
    "plt.xlabel('Puntuación de Usuario')\n",
    "plt.ylabel('Ventas Globales (M USD)')\n",
    "plt.title('X360: User Score vs Total Sales')\n",
    "plt.tight_layout()\n",
    "plt.show()\n",
    "# Correlaciones\n",
    "corr_critic = df_x360['critic_score'].corr(df_x360['total_sales'])\n",
    "corr_user   = df_x360['user_score'].corr(df_x360['total_sales'])\n",
    "print(f\"Correlación Critic vs Ventas: {corr_critic:.3f}\")\n",
    "print(f\"Correlación User   vs Ventas: {corr_user:.3f}\")\n",
    "\n",
    "# 3.4 Comparativa de los mismos juegos en otras plataformas\n",
    "# Para cada juego de X360, calculamos su venta media en otras plataformas\n",
    "other = (df2[df2['name'].isin(df_x360['name']) & (df2['platform']!='X360')]\n",
    "         .groupby('name')['total_sales']\n",
    "         .mean()\n",
    "         .rename('other_avg_sales'))\n",
    "comp = (df_x360.set_index('name')['total_sales']\n",
    "        .to_frame('x360_sales')\n",
    "        .join(other, how='left')\n",
    "        .reset_index())\n",
    "print(\"\\nPrimeros 10 juegos y comparación de ventas:\")\n",
    "print(comp.sort_values('x360_sales', ascending=False).head(10))\n",
    "\n",
    "# 3.5 Distribución de ventas por género\n",
    "med_genre = df2.groupby('genre')['total_sales'].median().sort_values(ascending=False)\n",
    "plt.figure(figsize=(10,5))\n",
    "med_genre.plot(kind='bar')\n",
    "plt.xlabel('Género')\n",
    "plt.ylabel('Mediana de ventas globales (M USD)')\n",
    "plt.title('Mediana de ventas por género (2002–2015)')\n",
    "plt.xticks(rotation=45)\n",
    "plt.tight_layout()\n",
    "plt.show()\n",
    "print(\"\\nMedianas por género:\")\n",
    "print(med_genre)"
   ]
  },
  {
   "cell_type": "markdown",
   "metadata": {
    "id": "LJir7bml0q03"
   },
   "source": [
    "3.3 Impacto de las reseñas en ventas (X360)\n",
    "\n",
    "Correlación Críticos vs Ventas: 0.389\n",
    "Esto indica una relación moderada-positiva: en general, a mayor puntuación de la crítica, mayores ventas globales, pero hay mucha dispersión. No es una relación sólida (no cercana a 1.0), lo que sugiere que otros factores (marketing, franquicia, exclusividad) también juegan un papel grande.\n",
    "\n",
    "Correlación Usuarios vs Ventas: 0.110\n",
    "Muy débil: la opinión de los usuarios apenas explica la variación en ventas. Puede deberse a que los usuarios puntúan tras la compra (sesgo de supervivencia) o a que solo unos pocos juegos reciben puntuaciones altas/ bajas muy marcadas.\n",
    "\n",
    "3.4 Comparativa de ventas de los mismos títulos en otras plataformas\n",
    "\n",
    "Varios superventas de X360 no existen o no logran ventas comparables en otras plataformas (NaN), confirmando el valor de títulos exclusivos.\n",
    "\n",
    "Para franquicias multiplataforma (“GTA V”, “CoD”, “Halo”), las ventas en X360 superan en un 50–200 % a la media en otros sistemas.\n",
    "\n",
    "3.5 Distribución de ventas por género (mediana, 2002–2015)\n",
    "\n",
    "Géneros más rentables: Shooter, Platform y Sports tienen las medianas más altas, lo que implica que un juego típico en esos géneros vende mejor.\n",
    "\n",
    "Géneros menos rentables: Adventure, Strategy y Puzzle están al final, con medianas por debajo de 0.10 M USD.\n",
    "\n",
    "Generalización: Para maximizar ROI, conviene focalizarse en títulos de shooter/plataforma/deportes, donde tanto la mediana como la probabilidad de superventas es mayor. Géneros como aventura o estrategia pueden funcionar en nichos, pero suelen generar menores ventas globales."
   ]
  },
  {
   "cell_type": "markdown",
   "metadata": {
    "id": "eqADpCfg0q04"
   },
   "source": [
    "#### Paso 4: Perfil de usuario por región (NA, EU, JP)\n",
    "\n",
    "En esta sección calcularemos para cada región:\n",
    "\n",
    "1. **Top-5 plataformas** (sumando ventas regionales) y su cuota de mercado (%).  \n",
    "2. **Top-5 géneros** (sumando ventas regionales) y su cuota de mercado (%).  \n",
    "3. **Efecto de la clasificación ESRB**: ventas medias por rating en cada región.\n"
   ]
  },
  {
   "cell_type": "code",
   "execution_count": 27,
   "metadata": {
    "id": "gfcIEuXV0q04"
   },
   "outputs": [
    {
     "name": "stdout",
     "output_type": "stream",
     "text": [
      "\n",
      "=== Región NA ===\n",
      "\n",
      "Top-5 Plataformas:\n"
     ]
    },
    {
     "data": {
      "text/html": [
       "<div>\n",
       "<style scoped>\n",
       "    .dataframe tbody tr th:only-of-type {\n",
       "        vertical-align: middle;\n",
       "    }\n",
       "\n",
       "    .dataframe tbody tr th {\n",
       "        vertical-align: top;\n",
       "    }\n",
       "\n",
       "    .dataframe thead th {\n",
       "        text-align: right;\n",
       "    }\n",
       "</style>\n",
       "<table border=\"1\" class=\"dataframe\">\n",
       "  <thead>\n",
       "    <tr style=\"text-align: right;\">\n",
       "      <th></th>\n",
       "      <th>sales</th>\n",
       "      <th>share_%</th>\n",
       "    </tr>\n",
       "    <tr>\n",
       "      <th>platform</th>\n",
       "      <th></th>\n",
       "      <th></th>\n",
       "    </tr>\n",
       "  </thead>\n",
       "  <tbody>\n",
       "    <tr>\n",
       "      <th>X360</th>\n",
       "      <td>595.05</td>\n",
       "      <td>19.74</td>\n",
       "    </tr>\n",
       "    <tr>\n",
       "      <th>Wii</th>\n",
       "      <td>486.81</td>\n",
       "      <td>16.15</td>\n",
       "    </tr>\n",
       "    <tr>\n",
       "      <th>PS2</th>\n",
       "      <td>477.35</td>\n",
       "      <td>15.84</td>\n",
       "    </tr>\n",
       "    <tr>\n",
       "      <th>PS3</th>\n",
       "      <td>389.46</td>\n",
       "      <td>12.92</td>\n",
       "    </tr>\n",
       "    <tr>\n",
       "      <th>DS</th>\n",
       "      <td>380.31</td>\n",
       "      <td>12.62</td>\n",
       "    </tr>\n",
       "  </tbody>\n",
       "</table>\n",
       "</div>"
      ],
      "text/plain": [
       "           sales  share_%\n",
       "platform                 \n",
       "X360      595.05    19.74\n",
       "Wii       486.81    16.15\n",
       "PS2       477.35    15.84\n",
       "PS3       389.46    12.92\n",
       "DS        380.31    12.62"
      ]
     },
     "metadata": {},
     "output_type": "display_data"
    },
    {
     "name": "stdout",
     "output_type": "stream",
     "text": [
      "\n",
      "Top-5 Géneros:\n"
     ]
    },
    {
     "data": {
      "text/html": [
       "<div>\n",
       "<style scoped>\n",
       "    .dataframe tbody tr th:only-of-type {\n",
       "        vertical-align: middle;\n",
       "    }\n",
       "\n",
       "    .dataframe tbody tr th {\n",
       "        vertical-align: top;\n",
       "    }\n",
       "\n",
       "    .dataframe thead th {\n",
       "        text-align: right;\n",
       "    }\n",
       "</style>\n",
       "<table border=\"1\" class=\"dataframe\">\n",
       "  <thead>\n",
       "    <tr style=\"text-align: right;\">\n",
       "      <th></th>\n",
       "      <th>sales</th>\n",
       "      <th>share_%</th>\n",
       "    </tr>\n",
       "    <tr>\n",
       "      <th>genre</th>\n",
       "      <th></th>\n",
       "      <th></th>\n",
       "    </tr>\n",
       "  </thead>\n",
       "  <tbody>\n",
       "    <tr>\n",
       "      <th>Action</th>\n",
       "      <td>639.30</td>\n",
       "      <td>21.21</td>\n",
       "    </tr>\n",
       "    <tr>\n",
       "      <th>Sports</th>\n",
       "      <td>500.36</td>\n",
       "      <td>16.60</td>\n",
       "    </tr>\n",
       "    <tr>\n",
       "      <th>Shooter</th>\n",
       "      <td>403.46</td>\n",
       "      <td>13.39</td>\n",
       "    </tr>\n",
       "    <tr>\n",
       "      <th>Misc</th>\n",
       "      <td>334.55</td>\n",
       "      <td>11.10</td>\n",
       "    </tr>\n",
       "    <tr>\n",
       "      <th>Role-Playing</th>\n",
       "      <td>247.83</td>\n",
       "      <td>8.22</td>\n",
       "    </tr>\n",
       "  </tbody>\n",
       "</table>\n",
       "</div>"
      ],
      "text/plain": [
       "               sales  share_%\n",
       "genre                        \n",
       "Action        639.30    21.21\n",
       "Sports        500.36    16.60\n",
       "Shooter       403.46    13.39\n",
       "Misc          334.55    11.10\n",
       "Role-Playing  247.83     8.22"
      ]
     },
     "metadata": {},
     "output_type": "display_data"
    },
    {
     "name": "stdout",
     "output_type": "stream",
     "text": [
      "\n",
      "Ventas medias por rating (USD millones):\n"
     ]
    },
    {
     "name": "stderr",
     "output_type": "stream",
     "text": [
      "C:\\Users\\Usuario\\AppData\\Local\\Temp\\ipykernel_13884\\3479563657.py:23: FutureWarning: The default of observed=False is deprecated and will be changed to True in a future version of pandas. Pass observed=False to retain current behavior or observed=True to adopt the future default and silence this warning.\n",
      "  rating_avg = df2.groupby('rating')[col].median().sort_values(ascending=False).round(3)\n"
     ]
    },
    {
     "data": {
      "text/plain": [
       "rating\n",
       "AO           1.260\n",
       "EC           0.155\n",
       "M            0.140\n",
       "E            0.120\n",
       "E10+         0.120\n",
       "T            0.110\n",
       "RP           0.000\n",
       "Not Rated    0.000\n",
       "K-A            NaN\n",
       "Name: na_sales, dtype: float64"
      ]
     },
     "metadata": {},
     "output_type": "display_data"
    },
    {
     "name": "stdout",
     "output_type": "stream",
     "text": [
      "\n",
      "=== Región EU ===\n",
      "\n",
      "Top-5 Plataformas:\n"
     ]
    },
    {
     "data": {
      "text/html": [
       "<div>\n",
       "<style scoped>\n",
       "    .dataframe tbody tr th:only-of-type {\n",
       "        vertical-align: middle;\n",
       "    }\n",
       "\n",
       "    .dataframe tbody tr th {\n",
       "        vertical-align: top;\n",
       "    }\n",
       "\n",
       "    .dataframe thead th {\n",
       "        text-align: right;\n",
       "    }\n",
       "</style>\n",
       "<table border=\"1\" class=\"dataframe\">\n",
       "  <thead>\n",
       "    <tr style=\"text-align: right;\">\n",
       "      <th></th>\n",
       "      <th>sales</th>\n",
       "      <th>share_%</th>\n",
       "    </tr>\n",
       "    <tr>\n",
       "      <th>platform</th>\n",
       "      <th></th>\n",
       "      <th></th>\n",
       "    </tr>\n",
       "  </thead>\n",
       "  <tbody>\n",
       "    <tr>\n",
       "      <th>PS3</th>\n",
       "      <td>325.95</td>\n",
       "      <td>19.04</td>\n",
       "    </tr>\n",
       "    <tr>\n",
       "      <th>PS2</th>\n",
       "      <td>269.62</td>\n",
       "      <td>15.75</td>\n",
       "    </tr>\n",
       "    <tr>\n",
       "      <th>X360</th>\n",
       "      <td>267.61</td>\n",
       "      <td>15.63</td>\n",
       "    </tr>\n",
       "    <tr>\n",
       "      <th>Wii</th>\n",
       "      <td>258.21</td>\n",
       "      <td>15.08</td>\n",
       "    </tr>\n",
       "    <tr>\n",
       "      <th>DS</th>\n",
       "      <td>188.41</td>\n",
       "      <td>11.01</td>\n",
       "    </tr>\n",
       "  </tbody>\n",
       "</table>\n",
       "</div>"
      ],
      "text/plain": [
       "           sales  share_%\n",
       "platform                 \n",
       "PS3       325.95    19.04\n",
       "PS2       269.62    15.75\n",
       "X360      267.61    15.63\n",
       "Wii       258.21    15.08\n",
       "DS        188.41    11.01"
      ]
     },
     "metadata": {},
     "output_type": "display_data"
    },
    {
     "name": "stdout",
     "output_type": "stream",
     "text": [
      "\n",
      "Top-5 Géneros:\n"
     ]
    },
    {
     "data": {
      "text/html": [
       "<div>\n",
       "<style scoped>\n",
       "    .dataframe tbody tr th:only-of-type {\n",
       "        vertical-align: middle;\n",
       "    }\n",
       "\n",
       "    .dataframe tbody tr th {\n",
       "        vertical-align: top;\n",
       "    }\n",
       "\n",
       "    .dataframe thead th {\n",
       "        text-align: right;\n",
       "    }\n",
       "</style>\n",
       "<table border=\"1\" class=\"dataframe\">\n",
       "  <thead>\n",
       "    <tr style=\"text-align: right;\">\n",
       "      <th></th>\n",
       "      <th>sales</th>\n",
       "      <th>share_%</th>\n",
       "    </tr>\n",
       "    <tr>\n",
       "      <th>genre</th>\n",
       "      <th></th>\n",
       "      <th></th>\n",
       "    </tr>\n",
       "  </thead>\n",
       "  <tbody>\n",
       "    <tr>\n",
       "      <th>Action</th>\n",
       "      <td>372.80</td>\n",
       "      <td>21.78</td>\n",
       "    </tr>\n",
       "    <tr>\n",
       "      <th>Sports</th>\n",
       "      <td>278.64</td>\n",
       "      <td>16.28</td>\n",
       "    </tr>\n",
       "    <tr>\n",
       "      <th>Shooter</th>\n",
       "      <td>224.63</td>\n",
       "      <td>13.12</td>\n",
       "    </tr>\n",
       "    <tr>\n",
       "      <th>Misc</th>\n",
       "      <td>178.22</td>\n",
       "      <td>10.41</td>\n",
       "    </tr>\n",
       "    <tr>\n",
       "      <th>Racing</th>\n",
       "      <td>152.95</td>\n",
       "      <td>8.93</td>\n",
       "    </tr>\n",
       "  </tbody>\n",
       "</table>\n",
       "</div>"
      ],
      "text/plain": [
       "          sales  share_%\n",
       "genre                   \n",
       "Action   372.80    21.78\n",
       "Sports   278.64    16.28\n",
       "Shooter  224.63    13.12\n",
       "Misc     178.22    10.41\n",
       "Racing   152.95     8.93"
      ]
     },
     "metadata": {},
     "output_type": "display_data"
    },
    {
     "name": "stdout",
     "output_type": "stream",
     "text": [
      "\n",
      "Ventas medias por rating (USD millones):\n"
     ]
    },
    {
     "name": "stderr",
     "output_type": "stream",
     "text": [
      "C:\\Users\\Usuario\\AppData\\Local\\Temp\\ipykernel_13884\\3479563657.py:23: FutureWarning: The default of observed=False is deprecated and will be changed to True in a future version of pandas. Pass observed=False to retain current behavior or observed=True to adopt the future default and silence this warning.\n",
      "  rating_avg = df2.groupby('rating')[col].median().sort_values(ascending=False).round(3)\n"
     ]
    },
    {
     "data": {
      "text/plain": [
       "rating\n",
       "AO           0.61\n",
       "M            0.08\n",
       "T            0.04\n",
       "E10+         0.03\n",
       "RP           0.03\n",
       "E            0.02\n",
       "EC           0.00\n",
       "Not Rated    0.00\n",
       "K-A           NaN\n",
       "Name: eu_sales, dtype: float64"
      ]
     },
     "metadata": {},
     "output_type": "display_data"
    },
    {
     "name": "stdout",
     "output_type": "stream",
     "text": [
      "\n",
      "=== Región JP ===\n",
      "\n",
      "Top-5 Plataformas:\n"
     ]
    },
    {
     "data": {
      "text/html": [
       "<div>\n",
       "<style scoped>\n",
       "    .dataframe tbody tr th:only-of-type {\n",
       "        vertical-align: middle;\n",
       "    }\n",
       "\n",
       "    .dataframe tbody tr th {\n",
       "        vertical-align: top;\n",
       "    }\n",
       "\n",
       "    .dataframe thead th {\n",
       "        text-align: right;\n",
       "    }\n",
       "</style>\n",
       "<table border=\"1\" class=\"dataframe\">\n",
       "  <thead>\n",
       "    <tr style=\"text-align: right;\">\n",
       "      <th></th>\n",
       "      <th>sales</th>\n",
       "      <th>share_%</th>\n",
       "    </tr>\n",
       "    <tr>\n",
       "      <th>platform</th>\n",
       "      <th></th>\n",
       "      <th></th>\n",
       "    </tr>\n",
       "  </thead>\n",
       "  <tbody>\n",
       "    <tr>\n",
       "      <th>DS</th>\n",
       "      <td>175.00</td>\n",
       "      <td>25.33</td>\n",
       "    </tr>\n",
       "    <tr>\n",
       "      <th>PS2</th>\n",
       "      <td>110.88</td>\n",
       "      <td>16.05</td>\n",
       "    </tr>\n",
       "    <tr>\n",
       "      <th>3DS</th>\n",
       "      <td>92.59</td>\n",
       "      <td>13.40</td>\n",
       "    </tr>\n",
       "    <tr>\n",
       "      <th>PS3</th>\n",
       "      <td>78.11</td>\n",
       "      <td>11.30</td>\n",
       "    </tr>\n",
       "    <tr>\n",
       "      <th>PSP</th>\n",
       "      <td>75.88</td>\n",
       "      <td>10.98</td>\n",
       "    </tr>\n",
       "  </tbody>\n",
       "</table>\n",
       "</div>"
      ],
      "text/plain": [
       "           sales  share_%\n",
       "platform                 \n",
       "DS        175.00    25.33\n",
       "PS2       110.88    16.05\n",
       "3DS        92.59    13.40\n",
       "PS3        78.11    11.30\n",
       "PSP        75.88    10.98"
      ]
     },
     "metadata": {},
     "output_type": "display_data"
    },
    {
     "name": "stdout",
     "output_type": "stream",
     "text": [
      "\n",
      "Top-5 Géneros:\n"
     ]
    },
    {
     "data": {
      "text/html": [
       "<div>\n",
       "<style scoped>\n",
       "    .dataframe tbody tr th:only-of-type {\n",
       "        vertical-align: middle;\n",
       "    }\n",
       "\n",
       "    .dataframe tbody tr th {\n",
       "        vertical-align: top;\n",
       "    }\n",
       "\n",
       "    .dataframe thead th {\n",
       "        text-align: right;\n",
       "    }\n",
       "</style>\n",
       "<table border=\"1\" class=\"dataframe\">\n",
       "  <thead>\n",
       "    <tr style=\"text-align: right;\">\n",
       "      <th></th>\n",
       "      <th>sales</th>\n",
       "      <th>share_%</th>\n",
       "    </tr>\n",
       "    <tr>\n",
       "      <th>genre</th>\n",
       "      <th></th>\n",
       "      <th></th>\n",
       "    </tr>\n",
       "  </thead>\n",
       "  <tbody>\n",
       "    <tr>\n",
       "      <th>Role-Playing</th>\n",
       "      <td>207.14</td>\n",
       "      <td>29.98</td>\n",
       "    </tr>\n",
       "    <tr>\n",
       "      <th>Action</th>\n",
       "      <td>109.92</td>\n",
       "      <td>15.91</td>\n",
       "    </tr>\n",
       "    <tr>\n",
       "      <th>Misc</th>\n",
       "      <td>77.91</td>\n",
       "      <td>11.28</td>\n",
       "    </tr>\n",
       "    <tr>\n",
       "      <th>Sports</th>\n",
       "      <td>63.64</td>\n",
       "      <td>9.21</td>\n",
       "    </tr>\n",
       "    <tr>\n",
       "      <th>Platform</th>\n",
       "      <td>44.95</td>\n",
       "      <td>6.51</td>\n",
       "    </tr>\n",
       "  </tbody>\n",
       "</table>\n",
       "</div>"
      ],
      "text/plain": [
       "               sales  share_%\n",
       "genre                        \n",
       "Role-Playing  207.14    29.98\n",
       "Action        109.92    15.91\n",
       "Misc           77.91    11.28\n",
       "Sports         63.64     9.21\n",
       "Platform       44.95     6.51"
      ]
     },
     "metadata": {},
     "output_type": "display_data"
    },
    {
     "name": "stdout",
     "output_type": "stream",
     "text": [
      "\n",
      "Ventas medias por rating (USD millones):\n"
     ]
    },
    {
     "name": "stderr",
     "output_type": "stream",
     "text": [
      "C:\\Users\\Usuario\\AppData\\Local\\Temp\\ipykernel_13884\\3479563657.py:23: FutureWarning: The default of observed=False is deprecated and will be changed to True in a future version of pandas. Pass observed=False to retain current behavior or observed=True to adopt the future default and silence this warning.\n",
      "  rating_avg = df2.groupby('rating')[col].median().sort_values(ascending=False).round(3)\n"
     ]
    },
    {
     "data": {
      "text/plain": [
       "rating\n",
       "Not Rated    0.02\n",
       "AO           0.00\n",
       "E10+         0.00\n",
       "E            0.00\n",
       "EC           0.00\n",
       "M            0.00\n",
       "RP           0.00\n",
       "T            0.00\n",
       "K-A           NaN\n",
       "Name: jp_sales, dtype: float64"
      ]
     },
     "metadata": {},
     "output_type": "display_data"
    }
   ],
   "source": [
    "# Definir regiones y su columna de ventas\n",
    "regions = {'NA': 'na_sales', 'EU': 'eu_sales', 'JP': 'jp_sales'}\n",
    "\n",
    "for reg, col in regions.items():\n",
    "    print(f\"\\n=== Región {reg} ===\")\n",
    "    total = df2[col].sum()\n",
    "    \n",
    "    # Top-5 plataformas y cuota\n",
    "    plat_sum = df2.groupby('platform')[col].sum().sort_values(ascending=False).head(5)\n",
    "    plat_share = (plat_sum / total * 100).round(2)\n",
    "    top5_plat = pd.DataFrame({'sales': plat_sum, 'share_%': plat_share})\n",
    "    print(\"\\nTop-5 Plataformas:\")\n",
    "    display(top5_plat)\n",
    "    \n",
    "    # Top-5 géneros y cuota\n",
    "    genre_sum = df2.groupby('genre')[col].sum().sort_values(ascending=False).head(5)\n",
    "    genre_share = (genre_sum / total * 100).round(2)\n",
    "    top5_genre = pd.DataFrame({'sales': genre_sum, 'share_%': genre_share})\n",
    "    print(\"\\nTop-5 Géneros:\")\n",
    "    display(top5_genre)\n",
    "    \n",
    "    # Ventas medias por rating\n",
    "    rating_avg = df2.groupby('rating')[col].median().sort_values(ascending=False).round(3)\n",
    "    print(\"\\nVentas medias por rating (USD millones):\")\n",
    "    display(rating_avg)\n"
   ]
  },
  {
   "cell_type": "markdown",
   "metadata": {
    "id": "1n2X6WXf0q04"
   },
   "source": [
    "4.1\n",
    " Norteamérica (NA)\n",
    "\n",
    "Xbox 360 lidera en NA, muy por encima de PlayStation 2/3 y Wii. Las portátiles (DS) aún se mantienen en el top 5, pero por debajo de las consolas de sobremesa.\n",
    "\n",
    "En NA dominan los géneros de acción y deportes; los “shooters” y juegos variados (“Misc”) también captan buena parte del mercado. Los RPG, aunque populares, generan menos ventas relativas.\n",
    "\n",
    "Aunque “AO” presenta la media más alta, son muy pocos títulos (outliers) y distorsionan la media por lo que decidí utilizar la mediana.\n",
    "\n",
    "Europa (EU)\n",
    "\n",
    "En Europa domina el ecosistema PlayStation (PS3 y PS2 suman >34 %). Xbox 360 cae al tercer lugar, y Wii casi empata con X360.\n",
    "\n",
    "Muy similar a NA en los tres géneros principales (Action, Sports, Shooter), pero “Racing” entra en el top 5 en vez de “Role-Playing”.\n",
    "\n",
    "Igual que en NA, los juegos “M” venden más que los “E” en Europa. De nuevo, “AO” muestra alta mediana por pocos títulos.\n",
    "\n",
    "Japón (JP)\n",
    "\n",
    "Japón está dominado por las portátiles Nintendo (DS y 3DS suman ~38 %). Las consolas de Sony (PS2, PS3, PSP) completan el top, y Xbox ni aparece.\n",
    "\n",
    "En JP los RPG son el género rey (casi 30 % de las ventas). Acción y deportes quedan muy por detrás, invirtiendo el patrón de NA/EU.\n",
    "\n",
    "Las clasificaciones ESRB tienen poca relevancia en Japón, pues la mayoría de títulos no llevan rating (NA o EU). Los juegos “Not Rated” y “E” (family-friendly) venden algo más, pero la diferencia es pequeña.\n",
    "\n",
    "Plataformas: NA prefiere Xbox, EU PlayStation y JP portátiles Nintendo.\n",
    "\n",
    "Géneros: Action/Sports dominan NA/EU; en JP los RPG mandan.\n",
    "\n",
    "Ratings: En NA/EU, “M” y “E” (y algún “AO” outlier) venden más; en JP el rating ESRB es marginal."
   ]
  },
  {
   "cell_type": "markdown",
   "metadata": {},
   "source": [
    "## Paso 5: Pruebas de hipótesis\n",
    "\n",
    "Vamos a realizar dos tests de hipótesis usando t de Student para muestras independientes, con un nivel de significancia **α = 0.05**.\n",
    "\n",
    "### Hipótesis 1: Plataformas XOne vs PC\n",
    "- **H₀**: La media de las calificaciones de usuarios es la misma en XOne y en PC.  \n",
    "- **H₁**: Las medias de las calificaciones de usuarios en XOne y PC son diferentes.\n",
    "\n",
    "### Hipótesis 2: Géneros Action vs Sports\n",
    "- **H₀**: La media de las calificaciones de usuarios es la misma en Acción y en Deportes.  \n",
    "- **H₁**: Las medias de las calificaciones de usuarios en Action y Sports son diferentes.\n",
    "\n",
    "Usamos la prueba t de Student para muestras independientes, que no asume varianzas iguales y es adecuada cuando las muestras son independientes (el tamaño de muestra y las varianzas pueden diferir).\n",
    "\n",
    "Umbral de significancia: α=0.05."
   ]
  },
  {
   "cell_type": "code",
   "execution_count": null,
   "metadata": {
    "id": "2NgjWFqx0q05"
   },
   "outputs": [
    {
     "name": "stdout",
     "output_type": "stream",
     "text": [
      "XOne vs PC:   t = -4.671, p = 0.000\n",
      "Action vs Sports: t = 1.789, p = 0.074\n",
      "Umbral alfa = 0.05\n"
     ]
    }
   ],
   "source": [
    "#Recoger calificaciones por grupo\n",
    "xone_scores   = df[df['platform'] == 'XOne']['user_score'].dropna()\n",
    "pc_scores     = df[df['platform'] == 'PC']['user_score'].dropna()\n",
    "action_scores = df[df['genre']    == 'Action']['user_score'].dropna()\n",
    "sports_scores = df[df['genre']    == 'Sports']['user_score'].dropna()\n",
    "\n",
    "#Test t para muestras independientes\n",
    "t1, p1 = stats.ttest_ind(xone_scores, pc_scores,     equal_var=False)\n",
    "t2, p2 = stats.ttest_ind(action_scores, sports_scores, equal_var=False)\n",
    "\n",
    "alpha = 0.05\n",
    "\n",
    "print(f\"XOne vs PC:   t = {t1:.3f}, p = {p1:.3f}\")\n",
    "print(f\"Action vs Sports: t = {t2:.3f}, p = {p2:.3f}\")\n",
    "print(f\"Umbral alfa = {alpha}\")\n"
   ]
  },
  {
   "cell_type": "markdown",
   "metadata": {},
   "source": [
    "Estos hallazgos nos indican que la plataforma (Xbox One vs PC) sí marca diferencias en la percepción de los usuarios, mientras que los géneros Acción y Deportes no.\n",
    "\n",
    "Hay una diferencia estadísticamente significativa en las calificaciones promedio de usuarios entre Xbox One y PC. Esto sugiere que la plataforma influye en cómo puntúan los jugadores, y por tanto “platform” es una característica relevante para predecir el éxito de un juego.\n",
    "\n",
    "No existe evidencia suficiente para afirmar que las calificaciones promedio de usuario difieran entre los géneros Acción y Deportes. En términos estadísticos, los usuarios califican de modo similar ambos géneros, por lo que “genre” (al menos en estas dos categorías) puede no aportar tanto poder predictivo basado solo en user_score."
   ]
  },
  {
   "cell_type": "markdown",
   "metadata": {
    "id": "BX5FQh_I0q06"
   },
   "source": [
    "### Paso 6: Conclusión general\n",
    "\n",
    "Dados los resultados obtenidos, se concluye que las campañas de 2017 deben concentrarse en las consolas que dominan cada mercado: en Norteamérica y Europa, Xbox 360 y PlayStation 2/3, y en Japón, las portátiles DS/3DS. Además, abordar los géneros con mayor tracción: shooters, plataformas y deportes en Occidente, y RPG en el mercado japonés. También, es fundamental dar prioridad a las valoraciones de la crítica tanto en futuros modelos predictivos como en los materiales de marketing, ya que muestran una capacidad superior de anticipar el éxito de ventas. Para los títulos “Mature” en Norteamérica y Europa, se recomienda enfatizar contenidos de tono adulto en trailers y medios especializados, mientras que en Japón la comunicación debe orientarse hacia un público familiar o juvenil (rating “E” o “Not Rated”), adaptando el mensaje al perfil local sin depender estrictamente de la clasificación ESRB.\n"
   ]
  },
  {
   "cell_type": "markdown",
   "metadata": {},
   "source": []
  }
 ],
 "metadata": {
  "ExecuteTimeLog": [
   {
    "duration": 828,
    "start_time": "2021-11-16T09:21:11.304Z"
   },
   {
    "duration": 893,
    "start_time": "2021-11-16T09:21:17.728Z"
   },
   {
    "duration": 1150,
    "start_time": "2021-11-16T09:21:29.568Z"
   },
   {
    "duration": 3,
    "start_time": "2021-11-16T09:24:14.495Z"
   },
   {
    "duration": 120,
    "start_time": "2021-11-16T09:24:46.630Z"
   },
   {
    "duration": 3,
    "start_time": "2021-11-16T09:28:27.882Z"
   },
   {
    "duration": 4,
    "start_time": "2021-11-16T09:29:54.281Z"
   },
   {
    "duration": 3,
    "start_time": "2021-11-16T09:30:45.936Z"
   },
   {
    "duration": 4,
    "start_time": "2021-11-16T09:31:06.300Z"
   },
   {
    "duration": 113,
    "start_time": "2021-11-16T09:31:37.208Z"
   },
   {
    "duration": 143,
    "start_time": "2021-11-16T09:31:48.656Z"
   },
   {
    "duration": 98,
    "start_time": "2021-11-16T09:31:55.678Z"
   },
   {
    "duration": 3,
    "start_time": "2021-11-16T09:32:08.535Z"
   },
   {
    "duration": 111,
    "start_time": "2021-11-16T09:32:10.120Z"
   },
   {
    "duration": 3,
    "start_time": "2021-11-16T09:32:15.732Z"
   },
   {
    "duration": 4,
    "start_time": "2021-11-16T09:32:29.423Z"
   },
   {
    "duration": 3,
    "start_time": "2021-11-16T10:03:03.074Z"
   },
   {
    "duration": 3,
    "start_time": "2021-11-16T10:10:01.288Z"
   },
   {
    "duration": 3,
    "start_time": "2021-11-16T10:10:46.923Z"
   },
   {
    "duration": 121,
    "start_time": "2021-11-16T10:37:46.494Z"
   },
   {
    "duration": 125,
    "start_time": "2021-11-16T10:38:20.632Z"
   },
   {
    "duration": 112,
    "start_time": "2021-11-16T10:46:53.001Z"
   },
   {
    "duration": 110,
    "start_time": "2021-11-16T10:48:25.775Z"
   },
   {
    "duration": 3,
    "start_time": "2021-11-16T10:50:18.720Z"
   },
   {
    "duration": 4,
    "start_time": "2021-11-16T10:50:37.649Z"
   },
   {
    "duration": 2,
    "start_time": "2021-11-16T10:50:51.884Z"
   },
   {
    "duration": 3,
    "start_time": "2021-11-16T10:51:56.237Z"
   },
   {
    "duration": 101,
    "start_time": "2021-11-16T10:53:13.791Z"
   },
   {
    "duration": 3,
    "start_time": "2021-11-16T10:55:59.186Z"
   },
   {
    "duration": 3,
    "start_time": "2021-11-16T10:56:10.751Z"
   },
   {
    "duration": 3,
    "start_time": "2021-11-16T10:56:49.038Z"
   },
   {
    "duration": 3,
    "start_time": "2021-11-16T10:56:49.174Z"
   },
   {
    "duration": 4,
    "start_time": "2021-11-16T10:56:49.414Z"
   },
   {
    "duration": 3,
    "start_time": "2021-11-16T10:56:49.680Z"
   },
   {
    "duration": 3,
    "start_time": "2021-11-16T10:56:50.370Z"
   },
   {
    "duration": 114,
    "start_time": "2021-11-16T10:59:34.518Z"
   },
   {
    "duration": 3,
    "start_time": "2021-11-16T11:01:41.201Z"
   },
   {
    "duration": 116,
    "start_time": "2021-11-16T11:01:48.754Z"
   },
   {
    "duration": 3,
    "start_time": "2021-11-16T11:02:16.685Z"
   },
   {
    "duration": 3,
    "start_time": "2021-11-16T11:02:19.479Z"
   },
   {
    "duration": 3,
    "start_time": "2021-11-16T11:02:47.067Z"
   },
   {
    "duration": 3,
    "start_time": "2021-11-16T11:02:49.353Z"
   },
   {
    "duration": 3,
    "start_time": "2021-11-16T11:03:07.835Z"
   },
   {
    "duration": 3,
    "start_time": "2021-11-16T11:03:07.953Z"
   },
   {
    "duration": 112,
    "start_time": "2021-11-16T11:07:52.072Z"
   },
   {
    "duration": 187,
    "start_time": "2021-11-16T11:09:23.468Z"
   },
   {
    "duration": 4,
    "start_time": "2021-11-16T11:10:01.455Z"
   },
   {
    "duration": 3,
    "start_time": "2021-11-16T11:10:05.069Z"
   },
   {
    "duration": 4,
    "start_time": "2021-11-16T11:10:13.376Z"
   },
   {
    "duration": 3,
    "start_time": "2021-11-16T11:10:14.434Z"
   },
   {
    "duration": 3,
    "start_time": "2021-11-16T11:10:22.853Z"
   },
   {
    "duration": 4,
    "start_time": "2021-11-16T11:27:29.279Z"
   },
   {
    "duration": 4,
    "start_time": "2021-11-16T11:29:08.919Z"
   },
   {
    "duration": 118,
    "start_time": "2021-11-16T11:29:46.703Z"
   },
   {
    "duration": 437,
    "start_time": "2021-11-16T11:36:02.181Z"
   },
   {
    "duration": 157,
    "start_time": "2021-11-16T11:36:14.388Z"
   },
   {
    "duration": 207,
    "start_time": "2021-11-16T11:47:15.898Z"
   },
   {
    "duration": 3,
    "start_time": "2021-11-16T11:53:52.092Z"
   },
   {
    "duration": 3,
    "start_time": "2021-11-16T11:53:52.236Z"
   },
   {
    "duration": 3,
    "start_time": "2021-11-16T11:59:12.005Z"
   },
   {
    "duration": 112,
    "start_time": "2021-11-16T12:00:33.446Z"
   },
   {
    "duration": 3,
    "start_time": "2021-11-16T12:02:14.453Z"
   },
   {
    "duration": 3,
    "start_time": "2021-11-16T12:02:39.512Z"
   },
   {
    "duration": 106,
    "start_time": "2021-11-16T12:03:03.460Z"
   },
   {
    "duration": 3,
    "start_time": "2021-11-17T20:37:21.139Z"
   },
   {
    "duration": 3,
    "start_time": "2021-11-17T20:37:22.229Z"
   },
   {
    "duration": 3,
    "start_time": "2021-11-17T20:38:38.806Z"
   },
   {
    "duration": 3,
    "start_time": "2021-11-17T20:38:41.958Z"
   },
   {
    "duration": 3,
    "start_time": "2021-11-17T20:43:46.551Z"
   },
   {
    "duration": 4,
    "start_time": "2021-11-17T20:58:21.835Z"
   },
   {
    "duration": 3,
    "start_time": "2021-11-17T20:59:21.872Z"
   },
   {
    "duration": 4,
    "start_time": "2021-11-17T20:59:45.352Z"
   },
   {
    "duration": 4,
    "start_time": "2021-11-17T20:59:49.646Z"
   },
   {
    "duration": 159,
    "start_time": "2021-11-17T21:02:26.949Z"
   },
   {
    "duration": 3,
    "start_time": "2021-11-17T21:03:53.461Z"
   },
   {
    "duration": 3,
    "start_time": "2021-11-17T21:03:53.694Z"
   },
   {
    "duration": 3,
    "start_time": "2021-11-17T21:05:28.145Z"
   },
   {
    "duration": 116,
    "start_time": "2021-11-17T21:05:57.787Z"
   },
   {
    "duration": 3,
    "start_time": "2021-11-17T21:06:37.993Z"
   },
   {
    "duration": 3,
    "start_time": "2021-11-17T21:06:38.261Z"
   },
   {
    "duration": 3,
    "start_time": "2021-11-17T21:11:54.358Z"
   },
   {
    "duration": 3,
    "start_time": "2021-11-17T21:12:43.846Z"
   },
   {
    "duration": 4,
    "start_time": "2021-11-17T21:13:08.773Z"
   },
   {
    "duration": 3,
    "start_time": "2021-11-17T21:14:44.441Z"
   },
   {
    "duration": 3,
    "start_time": "2021-11-17T21:15:42.059Z"
   },
   {
    "duration": 4,
    "start_time": "2021-11-17T21:15:51.995Z"
   },
   {
    "duration": 3,
    "start_time": "2021-11-17T21:15:53.923Z"
   },
   {
    "duration": 3,
    "start_time": "2021-11-17T21:15:55.282Z"
   },
   {
    "duration": 3,
    "start_time": "2021-11-17T21:16:28.492Z"
   },
   {
    "duration": 3,
    "start_time": "2021-11-17T21:16:32.603Z"
   },
   {
    "duration": 3,
    "start_time": "2021-11-17T21:17:06.941Z"
   },
   {
    "duration": 98,
    "start_time": "2021-11-17T21:18:05.733Z"
   },
   {
    "duration": 4,
    "start_time": "2021-11-17T21:21:35.255Z"
   },
   {
    "duration": 3,
    "start_time": "2021-11-17T21:21:37.804Z"
   },
   {
    "duration": 4,
    "start_time": "2021-11-17T21:23:06.071Z"
   },
   {
    "duration": 3,
    "start_time": "2021-11-17T21:23:24.799Z"
   },
   {
    "duration": 3,
    "start_time": "2021-11-17T21:23:32.591Z"
   },
   {
    "duration": 98,
    "start_time": "2021-11-17T21:28:31.559Z"
   },
   {
    "duration": 3,
    "start_time": "2021-11-17T21:28:45.448Z"
   },
   {
    "duration": 3,
    "start_time": "2021-11-17T21:29:17.303Z"
   },
   {
    "duration": 3,
    "start_time": "2021-11-17T21:29:29.617Z"
   },
   {
    "duration": 3,
    "start_time": "2021-11-17T21:29:32.681Z"
   },
   {
    "duration": 3,
    "start_time": "2021-11-17T21:36:11.474Z"
   },
   {
    "duration": 3,
    "start_time": "2021-11-17T21:36:14.791Z"
   },
   {
    "duration": 3,
    "start_time": "2021-11-17T21:36:53.943Z"
   },
   {
    "duration": 3,
    "start_time": "2021-11-17T21:36:56.165Z"
   },
   {
    "duration": 4,
    "start_time": "2021-11-17T21:37:16.590Z"
   },
   {
    "duration": 3,
    "start_time": "2021-11-17T21:37:22.702Z"
   },
   {
    "duration": 4,
    "start_time": "2021-11-17T21:38:03.479Z"
   },
   {
    "duration": 3,
    "start_time": "2021-11-17T21:38:08.601Z"
   },
   {
    "duration": 3,
    "start_time": "2021-11-17T21:38:12.928Z"
   },
   {
    "duration": 3,
    "start_time": "2021-11-17T21:38:48.896Z"
   },
   {
    "duration": 2,
    "start_time": "2021-11-17T21:38:49.171Z"
   },
   {
    "duration": 4,
    "start_time": "2021-11-17T21:39:57.889Z"
   },
   {
    "duration": 3,
    "start_time": "2021-11-17T21:39:58.057Z"
   },
   {
    "duration": 3,
    "start_time": "2021-11-17T21:41:20.108Z"
   },
   {
    "duration": 3,
    "start_time": "2021-11-17T21:41:20.629Z"
   },
   {
    "duration": 3,
    "start_time": "2021-11-17T21:42:49.136Z"
   },
   {
    "duration": 3,
    "start_time": "2021-11-17T21:43:15.137Z"
   },
   {
    "duration": 4,
    "start_time": "2021-11-17T21:43:16.766Z"
   },
   {
    "duration": 4,
    "start_time": "2021-11-17T21:43:31.711Z"
   },
   {
    "duration": 3,
    "start_time": "2021-11-17T21:43:36.312Z"
   },
   {
    "duration": 4,
    "start_time": "2021-11-17T21:45:08.825Z"
   },
   {
    "duration": 4,
    "start_time": "2021-11-17T21:45:10.119Z"
   },
   {
    "duration": 4,
    "start_time": "2021-11-17T21:45:13.748Z"
   },
   {
    "duration": 3,
    "start_time": "2021-11-17T21:45:22.219Z"
   },
   {
    "duration": 3,
    "start_time": "2021-11-17T21:45:33.412Z"
   },
   {
    "duration": 2,
    "start_time": "2021-11-17T21:46:01.885Z"
   },
   {
    "duration": 3,
    "start_time": "2021-11-17T21:46:03.628Z"
   },
   {
    "duration": 107,
    "start_time": "2021-11-17T21:47:32.512Z"
   },
   {
    "duration": 103,
    "start_time": "2021-11-17T21:50:36.243Z"
   },
   {
    "duration": 3,
    "start_time": "2021-11-18T06:28:31.440Z"
   },
   {
    "duration": 3,
    "start_time": "2021-11-18T06:29:00.168Z"
   },
   {
    "duration": 3,
    "start_time": "2021-11-18T06:31:27.008Z"
   },
   {
    "duration": 2,
    "start_time": "2021-11-18T06:35:34.288Z"
   },
   {
    "duration": 2,
    "start_time": "2021-11-18T06:38:04.527Z"
   },
   {
    "duration": 2569,
    "start_time": "2025-01-29T02:33:29.487Z"
   },
   {
    "duration": 569,
    "start_time": "2025-01-29T02:35:22.112Z"
   }
  ],
  "colab": {
   "provenance": []
  },
  "kernelspec": {
   "display_name": "Python 3",
   "language": "python",
   "name": "python3"
  },
  "language_info": {
   "codemirror_mode": {
    "name": "ipython",
    "version": 3
   },
   "file_extension": ".py",
   "mimetype": "text/x-python",
   "name": "python",
   "nbconvert_exporter": "python",
   "pygments_lexer": "ipython3",
   "version": "3.12.7"
  },
  "toc": {
   "base_numbering": 1,
   "nav_menu": {},
   "number_sections": true,
   "sideBar": true,
   "skip_h1_title": false,
   "title_cell": "Table of Contents",
   "title_sidebar": "Contents",
   "toc_cell": false,
   "toc_position": {},
   "toc_section_display": true,
   "toc_window_display": true
  }
 },
 "nbformat": 4,
 "nbformat_minor": 1
}
