{
 "cells": [
  {
   "cell_type": "markdown",
   "id": "3Xg_RQfnafXz",
   "metadata": {
    "id": "3Xg_RQfnafXz"
   },
   "source": [
    "# ¡Llena ese carrito!"
   ]
  },
  {
   "cell_type": "markdown",
   "id": "mhIvmmkW414q",
   "metadata": {
    "id": "mhIvmmkW414q"
   },
   "source": [
    "# Introducción\n",
    "\n",
    "Instacart es una plataforma de entregas de comestibles donde la clientela puede registrar un pedido y hacer que se lo entreguen, similar a Uber Eats y Door Dash.\n",
    "El conjunto de datos que te hemos proporcionado tiene modificaciones del original. Redujimos el tamaño del conjunto para que tus cálculos se hicieran más rápido e introdujimos valores ausentes y duplicados. Tuvimos cuidado de conservar las distribuciones de los datos originales cuando hicimos los cambios.\n",
    "\n",
    "Debes completar tres pasos. Para cada uno de ellos, escribe una breve introducción que refleje con claridad cómo pretendes resolver cada paso, y escribe párrafos explicatorios que justifiquen tus decisiones al tiempo que avanzas en tu solución.  También escribe una conclusión que resuma tus hallazgos y elecciones.\n"
   ]
  },
  {
   "cell_type": "markdown",
   "id": "3MbyzpOQZ5Or",
   "metadata": {
    "id": "3MbyzpOQZ5Or"
   },
   "source": [
    "## Diccionario de datos\n",
    "\n",
    "Hay cinco tablas en el conjunto de datos, y tendrás que usarlas todas para hacer el preprocesamiento de datos y el análisis exploratorio de datos. A continuación se muestra un diccionario de datos que enumera las columnas de cada tabla y describe los datos que contienen.\n",
    "\n",
    "- `instacart_orders.csv`: cada fila corresponde a un pedido en la aplicación Instacart.\n",
    "    - `'order_id'`: número de ID que identifica de manera única cada pedido.\n",
    "    - `'user_id'`: número de ID que identifica de manera única la cuenta de cada cliente.\n",
    "    - `'order_number'`: el número de veces que este cliente ha hecho un pedido.\n",
    "    - `'order_dow'`: día de la semana en que se hizo el pedido (0 si es domingo).\n",
    "    - `'order_hour_of_day'`: hora del día en que se hizo el pedido.\n",
    "    - `'days_since_prior_order'`: número de días transcurridos desde que este cliente hizo su pedido anterior.\n",
    "- `products.csv`: cada fila corresponde a un producto único que pueden comprar los clientes.\n",
    "    - `'product_id'`: número ID que identifica de manera única cada producto.\n",
    "    - `'product_name'`: nombre del producto.\n",
    "    - `'aisle_id'`: número ID que identifica de manera única cada categoría de pasillo de víveres.\n",
    "    - `'department_id'`: número ID que identifica de manera única cada departamento de víveres.\n",
    "- `order_products.csv`: cada fila corresponde a un artículo pedido en un pedido.\n",
    "    - `'order_id'`: número de ID que identifica de manera única cada pedido.\n",
    "    - `'product_id'`: número ID que identifica de manera única cada producto.\n",
    "    - `'add_to_cart_order'`: el orden secuencial en el que se añadió cada artículo en el carrito.\n",
    "    - `'reordered'`: 0 si el cliente nunca ha pedido este producto antes, 1 si lo ha pedido.\n",
    "- `aisles.csv`\n",
    "    - `'aisle_id'`: número ID que identifica de manera única cada categoría de pasillo de víveres.\n",
    "    - `'aisle'`: nombre del pasillo.\n",
    "- `departments.csv`\n",
    "    - `'department_id'`: número ID que identifica de manera única cada departamento de víveres.\n",
    "    - `'department'`: nombre del departamento."
   ]
  },
  {
   "cell_type": "markdown",
   "id": "n3Ha_cNSZ8lK",
   "metadata": {
    "id": "n3Ha_cNSZ8lK"
   },
   "source": [
    "# Paso 1. Descripción de los datos\n",
    "\n",
    "Lee los archivos de datos (`/datasets/instacart_orders.csv`, `/datasets/products.csv`, `/datasets/aisles.csv`, `/datasets/departments.csv` y `/datasets/order_products.csv`) con `pd.read_csv()` usando los parámetros adecuados para leer los datos correctamente. Verifica la información para cada DataFrame creado.\n"
   ]
  },
  {
   "cell_type": "markdown",
   "id": "OmlQPLlyaAfR",
   "metadata": {
    "id": "OmlQPLlyaAfR"
   },
   "source": [
    "## Plan de solución\n",
    "\n",
    "Escribe aquí tu plan de solución para el Paso 1. Descripción de los datos.\n",
    "\n",
    "Para lograr una adecuada descripción de los datos, el primer paso es importar las librerias necesirias, para esta tarea unicamente requeriremos de pandas, después, procederemos a leer los archivos de datos mediante la funcion pd.read_csv de pandas, luego mostraremos la información de cada uno de los archivos."
   ]
  },
  {
   "cell_type": "code",
   "execution_count": 1,
   "id": "fbf1adab",
   "metadata": {
    "id": "fbf1adab"
   },
   "outputs": [],
   "source": [
    "# importar librerías\n",
    "import pandas as pd"
   ]
  },
  {
   "cell_type": "code",
   "execution_count": 2,
   "id": "ad36396d",
   "metadata": {
    "id": "ad36396d"
   },
   "outputs": [],
   "source": [
    "# leer conjuntos de datos en los DataFrames\n",
    "orders = pd.read_csv('/datasets/instacart_orders.csv',sep=';')\n",
    "products = pd.read_csv('/datasets/products.csv',sep=';')\n",
    "aisles = pd.read_csv('/datasets/aisles.csv',sep=';')\n",
    "departments = pd.read_csv('/datasets/departments.csv',sep=';')\n",
    "order_products = pd.read_csv('/datasets/order_products.csv',sep=';')"
   ]
  },
  {
   "cell_type": "code",
   "execution_count": 3,
   "id": "ad6a1efa",
   "metadata": {
    "id": "ad6a1efa"
   },
   "outputs": [
    {
     "name": "stdout",
     "output_type": "stream",
     "text": [
      "<class 'pandas.core.frame.DataFrame'>\n",
      "RangeIndex: 478967 entries, 0 to 478966\n",
      "Data columns (total 6 columns):\n",
      " #   Column                  Non-Null Count   Dtype  \n",
      "---  ------                  --------------   -----  \n",
      " 0   order_id                478967 non-null  int64  \n",
      " 1   user_id                 478967 non-null  int64  \n",
      " 2   order_number            478967 non-null  int64  \n",
      " 3   order_dow               478967 non-null  int64  \n",
      " 4   order_hour_of_day       478967 non-null  int64  \n",
      " 5   days_since_prior_order  450148 non-null  float64\n",
      "dtypes: float64(1), int64(5)\n",
      "memory usage: 21.9 MB\n"
     ]
    }
   ],
   "source": [
    "# mostrar información del DataFrame\n",
    "orders.info(show_counts=True)"
   ]
  },
  {
   "cell_type": "code",
   "execution_count": 4,
   "id": "5130e05e",
   "metadata": {
    "id": "5130e05e"
   },
   "outputs": [
    {
     "name": "stdout",
     "output_type": "stream",
     "text": [
      "<class 'pandas.core.frame.DataFrame'>\n",
      "RangeIndex: 49694 entries, 0 to 49693\n",
      "Data columns (total 4 columns):\n",
      " #   Column         Non-Null Count  Dtype \n",
      "---  ------         --------------  ----- \n",
      " 0   product_id     49694 non-null  int64 \n",
      " 1   product_name   48436 non-null  object\n",
      " 2   aisle_id       49694 non-null  int64 \n",
      " 3   department_id  49694 non-null  int64 \n",
      "dtypes: int64(3), object(1)\n",
      "memory usage: 1.5+ MB\n"
     ]
    }
   ],
   "source": [
    "# mostrar información del DataFrame\n",
    "products.info()"
   ]
  },
  {
   "cell_type": "code",
   "execution_count": 5,
   "id": "d8370c05",
   "metadata": {
    "id": "d8370c05"
   },
   "outputs": [
    {
     "name": "stdout",
     "output_type": "stream",
     "text": [
      "<class 'pandas.core.frame.DataFrame'>\n",
      "RangeIndex: 134 entries, 0 to 133\n",
      "Data columns (total 2 columns):\n",
      " #   Column    Non-Null Count  Dtype \n",
      "---  ------    --------------  ----- \n",
      " 0   aisle_id  134 non-null    int64 \n",
      " 1   aisle     134 non-null    object\n",
      "dtypes: int64(1), object(1)\n",
      "memory usage: 2.2+ KB\n"
     ]
    }
   ],
   "source": [
    "# mostrar información del DataFrame\n",
    "aisles.info()"
   ]
  },
  {
   "cell_type": "code",
   "execution_count": 6,
   "id": "59e2090f",
   "metadata": {
    "id": "59e2090f"
   },
   "outputs": [
    {
     "name": "stdout",
     "output_type": "stream",
     "text": [
      "<class 'pandas.core.frame.DataFrame'>\n",
      "RangeIndex: 21 entries, 0 to 20\n",
      "Data columns (total 2 columns):\n",
      " #   Column         Non-Null Count  Dtype \n",
      "---  ------         --------------  ----- \n",
      " 0   department_id  21 non-null     int64 \n",
      " 1   department     21 non-null     object\n",
      "dtypes: int64(1), object(1)\n",
      "memory usage: 464.0+ bytes\n"
     ]
    }
   ],
   "source": [
    "# mostrar información del DataFrame\n",
    "departments.info()"
   ]
  },
  {
   "cell_type": "code",
   "execution_count": 7,
   "id": "6fc81694",
   "metadata": {
    "id": "6fc81694"
   },
   "outputs": [
    {
     "name": "stdout",
     "output_type": "stream",
     "text": [
      "<class 'pandas.core.frame.DataFrame'>\n",
      "RangeIndex: 4545007 entries, 0 to 4545006\n",
      "Data columns (total 4 columns):\n",
      " #   Column             Non-Null Count    Dtype  \n",
      "---  ------             --------------    -----  \n",
      " 0   order_id           4545007 non-null  int64  \n",
      " 1   product_id         4545007 non-null  int64  \n",
      " 2   add_to_cart_order  4544171 non-null  float64\n",
      " 3   reordered          4545007 non-null  int64  \n",
      "dtypes: float64(1), int64(3)\n",
      "memory usage: 138.7 MB\n"
     ]
    }
   ],
   "source": [
    "# mostrar información del DataFrame\n",
    "order_products.info(show_counts=True)"
   ]
  },
  {
   "cell_type": "markdown",
   "id": "t75BD19oaR5f",
   "metadata": {
    "id": "t75BD19oaR5f"
   },
   "source": [
    "## Conclusiones\n",
    "\n",
    "Escribe aquí tus conclusiones intermedias sobre el Paso 1. Descripción de los datos.\n",
    "\n",
    "El primer error detectado fue el delimitador de columnas, el cual es \";\" y no \",\" como usualmente, por lo que procedimos a indicar cual es el indicador con \"sep=;\", como 'order_products.csv' contiene muchas filas de datos, incluimos 'show_counts=True' para imprimir los recuentos no nulos. Podemos concluír preliminarmente que los DataFrames 'instacart_orders',  'products' y 'order_products' contienen valores ausentes."
   ]
  },
  {
   "cell_type": "markdown",
   "id": "8RJHqxVmaVsF",
   "metadata": {
    "id": "8RJHqxVmaVsF"
   },
   "source": [
    "# Paso 2. Preprocesamiento de los datos\n",
    "\n",
    "Preprocesa los datos de la siguiente manera:\n",
    "\n",
    "- Verifica y corrige los tipos de datos (por ejemplo, asegúrate de que las columnas de ID sean números enteros).\n",
    "- Identifica y completa los valores ausentes.\n",
    "- Identifica y elimina los valores duplicados.\n",
    "\n",
    "Asegúrate de explicar qué tipos de valores ausentes y duplicados encontraste, cómo los completaste o eliminaste y por qué usaste esos métodos. ¿Por qué crees que estos valores ausentes y duplicados pueden haber estado presentes en el conjunto de datos?"
   ]
  },
  {
   "cell_type": "markdown",
   "id": "p6poABZQaZYb",
   "metadata": {
    "id": "p6poABZQaZYb"
   },
   "source": [
    "## Plan de solución\n",
    "\n",
    "Escribe aquí tu plan para el Paso 2. Preprocesamiento de los datos.\n",
    "\n",
    "El primer paso es verificar qué tipo de datos tiene cada columna y qué información requiero. Una vez determinado esto, procedo a cambiar el tipo de datos en caso de ser necesario. Se identifican y/o eliminan los valores duplicados. Luego procedo a analizar qué valores asigno a los valores ausentes o los dejo como estan, o en su caso, los elimino."
   ]
  },
  {
   "cell_type": "markdown",
   "id": "07357848-dc64-4156-9cc3-01ff4365226d",
   "metadata": {
    "id": "07357848-dc64-4156-9cc3-01ff4365226d"
   },
   "source": [
    "## Encuentra y elimina los valores duplicados (y describe cómo tomaste tus decisiones)."
   ]
  },
  {
   "cell_type": "markdown",
   "id": "f179f0a9",
   "metadata": {
    "id": "f179f0a9"
   },
   "source": [
    "### `orders` data frame"
   ]
  },
  {
   "cell_type": "code",
   "execution_count": 8,
   "id": "b99297a5-405a-463d-8535-9adc3da4ad74",
   "metadata": {
    "id": "b99297a5-405a-463d-8535-9adc3da4ad74"
   },
   "outputs": [
    {
     "name": "stdout",
     "output_type": "stream",
     "text": [
      "15\n",
      "        order_id  user_id  order_number  order_dow  order_hour_of_day  \\\n",
      "145574    794638    50898            24          3                  2   \n",
      "223105   2160484   107525            16          3                  2   \n",
      "230807   1918001   188546            14          3                  2   \n",
      "266232   1782114   106752             1          3                  2   \n",
      "273805   1112182   202304            84          3                  2   \n",
      "284038   2845099    31189            11          3                  2   \n",
      "311713   1021560    53767             3          3                  2   \n",
      "321100    408114    68324             4          3                  2   \n",
      "323900   1919531   191501            32          3                  2   \n",
      "345917   2232988    82565             1          3                  2   \n",
      "371905    391768    57671            19          3                  2   \n",
      "394347    467134    63189            21          3                  2   \n",
      "411408   1286742   183220            48          3                  2   \n",
      "415163   2282673    86751            49          3                  2   \n",
      "441599   2125197    14050            48          3                  2   \n",
      "\n",
      "        days_since_prior_order  \n",
      "145574                     2.0  \n",
      "223105                    30.0  \n",
      "230807                    16.0  \n",
      "266232                     NaN  \n",
      "273805                     6.0  \n",
      "284038                     7.0  \n",
      "311713                     9.0  \n",
      "321100                    18.0  \n",
      "323900                     7.0  \n",
      "345917                     NaN  \n",
      "371905                    10.0  \n",
      "394347                     2.0  \n",
      "411408                     4.0  \n",
      "415163                     2.0  \n",
      "441599                     3.0  \n"
     ]
    }
   ],
   "source": [
    "# Revisa si hay pedidos duplicados\n",
    "no_duplicados_orders = orders.duplicated().sum()\n",
    "duplicados_orders = orders[orders.duplicated()]\n",
    "print(no_duplicados_orders)\n",
    "print(duplicados_orders)\n"
   ]
  },
  {
   "cell_type": "markdown",
   "id": "PEkwUX_gvt5A",
   "metadata": {
    "id": "PEkwUX_gvt5A"
   },
   "source": [
    "¿Tienes líneas duplicadas? Si sí, ¿qué tienen en común?\n",
    "\n",
    "Si tiene lineas duplicadas pero unicamente en el día de la semana y la hora en la que se realizó el pedido, sin embargo tienen id_order diferente por lo que se concluye que fue un pedido distinto, al momento, conservé los duplicados porque representan datos válidos de distintos usuarios en el mismo horario."
   ]
  },
  {
   "cell_type": "code",
   "execution_count": 9,
   "id": "0d44de5d",
   "metadata": {
    "id": "0d44de5d"
   },
   "outputs": [
    {
     "name": "stdout",
     "output_type": "stream",
     "text": [
      "        order_id  user_id  order_number  order_dow  order_hour_of_day  \\\n",
      "4838     2766110   162084            41          3                  2   \n",
      "5156     2190225   138285            18          3                  2   \n",
      "15506     553049    58599            13          3                  2   \n",
      "18420     382357   120200            19          3                  2   \n",
      "24691     690242    77357             2          3                  2   \n",
      "...          ...      ...           ...        ...                ...   \n",
      "457013   3384021    14881             6          3                  2   \n",
      "458816    910166   164782            18          3                  2   \n",
      "459635   1680532   106435             6          3                  2   \n",
      "468324    222962    54979            59          3                  2   \n",
      "477526   2592344    46860            38          3                  2   \n",
      "\n",
      "        days_since_prior_order  \n",
      "4838                      16.0  \n",
      "5156                      11.0  \n",
      "15506                      7.0  \n",
      "18420                     11.0  \n",
      "24691                      9.0  \n",
      "...                        ...  \n",
      "457013                    30.0  \n",
      "458816                     4.0  \n",
      "459635                    21.0  \n",
      "468324                     3.0  \n",
      "477526                     3.0  \n",
      "\n",
      "[121 rows x 6 columns]\n",
      "Total de pedidos el miércoles a las 2:00 a.m.: 121\n"
     ]
    }
   ],
   "source": [
    "# Basándote en tus hallazgos,\n",
    "# Verifica todos los pedidos que se hicieron el miércoles a las 2:00 a.m.\n",
    "pedidos_wed_2 = orders[(orders['order_dow'] == 3) & (orders['order_hour_of_day'] == 2)]\n",
    "\n",
    "print(pedidos_wed_2)\n",
    "print(f\"Total de pedidos el miércoles a las 2:00 a.m.: {len(pedidos_wed_2)}\")\n"
   ]
  },
  {
   "cell_type": "markdown",
   "id": "vu2OWyoqwOx5",
   "metadata": {
    "id": "vu2OWyoqwOx5"
   },
   "source": [
    "¿Qué sugiere este resultado?\n",
    "\n",
    "Sugiere que comparte características con las 15 filas duplicadas que se analizaron previamente, por lo que aquellas 15 filas duplicadas se pueden eliminar."
   ]
  },
  {
   "cell_type": "code",
   "execution_count": 10,
   "id": "480563c7",
   "metadata": {
    "id": "480563c7"
   },
   "outputs": [],
   "source": [
    "# Elimina los pedidos duplicados\n",
    "orders.drop_duplicates(inplace=True)"
   ]
  },
  {
   "cell_type": "code",
   "execution_count": 11,
   "id": "0b2396a2",
   "metadata": {
    "id": "0b2396a2"
   },
   "outputs": [
    {
     "data": {
      "text/plain": [
       "0"
      ]
     },
     "execution_count": 11,
     "metadata": {},
     "output_type": "execute_result"
    }
   ],
   "source": [
    "# Vuelve a verificar si hay filas duplicadas\n",
    "orders.duplicated().sum()"
   ]
  },
  {
   "cell_type": "code",
   "execution_count": 12,
   "id": "f6113ef1",
   "metadata": {
    "id": "f6113ef1"
   },
   "outputs": [
    {
     "data": {
      "text/plain": [
       "0"
      ]
     },
     "execution_count": 12,
     "metadata": {},
     "output_type": "execute_result"
    }
   ],
   "source": [
    "# Vuelve a verificar únicamente si hay IDs duplicados de pedidos\n",
    "orders.duplicated(subset='order_id').sum()"
   ]
  },
  {
   "cell_type": "markdown",
   "id": "5e8905ae",
   "metadata": {
    "id": "5e8905ae"
   },
   "source": [
    "Describe brevemente tus hallazgos y lo que hiciste con ellos\n",
    "\n",
    "Al buscar filas duplicadas al principio, resultaron 15, al analizarlas me percaté que, aparentemente, solo se duplicaban en el día y la hora del pedido, miercoles a las 2 am, sin embargo, resultó que no eran los únicos pedidos a esa hora y no todos los mostraba como duplicados por lo que procedí a eliminar esas filas duplicadas."
   ]
  },
  {
   "cell_type": "markdown",
   "id": "45e6bc46",
   "metadata": {
    "id": "45e6bc46"
   },
   "source": [
    "### `products` data frame"
   ]
  },
  {
   "cell_type": "code",
   "execution_count": 13,
   "id": "5f526b5b-8175-46fa-a0fd-441767d50e64",
   "metadata": {
    "id": "5f526b5b-8175-46fa-a0fd-441767d50e64"
   },
   "outputs": [
    {
     "name": "stdout",
     "output_type": "stream",
     "text": [
      "0\n",
      "         product_id      aisle_id  department_id\n",
      "count  49694.000000  49694.000000   49694.000000\n",
      "mean   24847.500000     67.773192      11.728478\n",
      "std    14345.566475     38.317265       5.850314\n",
      "min        1.000000      1.000000       1.000000\n",
      "25%    12424.250000     35.000000       7.000000\n",
      "50%    24847.500000     69.000000      13.000000\n",
      "75%    37270.750000    100.000000      17.000000\n",
      "max    49694.000000    134.000000      21.000000\n"
     ]
    }
   ],
   "source": [
    "# Verifica si hay filas totalmente duplicadas\n",
    "no_duplicados_products = products.duplicated().sum()\n",
    "duplicados_products = products.describe()\n",
    "print(no_duplicados_products)\n",
    "print(duplicados_products)\n"
   ]
  },
  {
   "cell_type": "code",
   "execution_count": 14,
   "id": "88daa4f4",
   "metadata": {
    "id": "88daa4f4"
   },
   "outputs": [
    {
     "data": {
      "text/plain": [
       "49673"
      ]
     },
     "execution_count": 14,
     "metadata": {},
     "output_type": "execute_result"
    }
   ],
   "source": [
    "# Revisa únicamente si hay ID de departamentos duplicados\n",
    "products.duplicated(subset='department_id').sum()"
   ]
  },
  {
   "cell_type": "code",
   "execution_count": 15,
   "id": "c773f0bf",
   "metadata": {
    "id": "c773f0bf"
   },
   "outputs": [
    {
     "name": "stdout",
     "output_type": "stream",
     "text": [
      "1257\n",
      "       product_id product_name  aisle_id  department_id\n",
      "71             72          NaN       100             21\n",
      "109           110          NaN       100             21\n",
      "296           297          NaN       100             21\n",
      "416           417          NaN       100             21\n",
      "436           437          NaN       100             21\n",
      "...           ...          ...       ...            ...\n",
      "49552       49553          NaN       100             21\n",
      "49574       49575          NaN       100             21\n",
      "49640       49641          NaN       100             21\n",
      "49663       49664          NaN       100             21\n",
      "49668       49669          NaN       100             21\n",
      "\n",
      "[1257 rows x 4 columns]\n"
     ]
    }
   ],
   "source": [
    "# Revisa únicamente si hay nombres duplicados de productos (convierte los nombres a letras mayúsculas para compararlos mejor)\n",
    "print(products.duplicated(subset='product_name').sum())\n",
    "print(products[products.duplicated(subset='product_name')])\n",
    "\n",
    "products['product_name'] = products['product_name'].str.upper()\n"
   ]
  },
  {
   "cell_type": "code",
   "execution_count": 16,
   "id": "71415aa8",
   "metadata": {},
   "outputs": [
    {
     "data": {
      "text/plain": [
       "product_id          0\n",
       "product_name     1258\n",
       "aisle_id            0\n",
       "department_id       0\n",
       "dtype: int64"
      ]
     },
     "execution_count": 16,
     "metadata": {},
     "output_type": "execute_result"
    }
   ],
   "source": [
    "products.isna().sum()"
   ]
  },
  {
   "cell_type": "code",
   "execution_count": 17,
   "id": "350d700a",
   "metadata": {},
   "outputs": [
    {
     "data": {
      "text/plain": [
       "1361"
      ]
     },
     "execution_count": 17,
     "metadata": {},
     "output_type": "execute_result"
    }
   ],
   "source": [
    "products['product_name'].duplicated().sum()"
   ]
  },
  {
   "cell_type": "code",
   "execution_count": 18,
   "id": "01efd02e",
   "metadata": {
    "id": "01efd02e"
   },
   "outputs": [
    {
     "name": "stdout",
     "output_type": "stream",
     "text": [
      "Número de productos duplicados: 104\n",
      "       product_id                             product_name  aisle_id  \\\n",
      "49693       49694                  BURRITO- STEAK & CHEESE        38   \n",
      "3913         3914                  MEATBALLS ITALIAN STYLE        38   \n",
      "26492       26493      CLASSIC VEGETABLES CHOPPED BROCCOLI       116   \n",
      "13377       13378                      STIR FRY VEGETABLES       116   \n",
      "13374       13375  VITAMINWATER ZERO FOCUS KIWI-STRAWBERRY        37   \n",
      "\n",
      "       department_id  \n",
      "49693              1  \n",
      "3913               1  \n",
      "26492              1  \n",
      "13377              1  \n",
      "13374              1  \n"
     ]
    }
   ],
   "source": [
    "# Revisa si hay nombres duplicados de productos no faltantes\n",
    "# Filtrar productos cuyo nombre no sean ausentes\n",
    "productos_con_nombre = products[products['product_name'].notna()]\n",
    "\n",
    "# Revisar si hay nombres duplicados en el subconjunto\n",
    "duplicados_products = productos_con_nombre.duplicated(subset='product_name').sum()\n",
    "\n",
    "print(f\"Número de productos duplicados: {duplicados_products}\")\n",
    "print(productos_con_nombre.sort_values(by='department_id').head(5))"
   ]
  },
  {
   "cell_type": "code",
   "execution_count": 19,
   "id": "6febde20",
   "metadata": {},
   "outputs": [
    {
     "name": "stdout",
     "output_type": "stream",
     "text": [
      "Número de nombres con burritos duplicados: 1\n",
      "       product_id             product_name  aisle_id  department_id\n",
      "44314       44315  BURRITO- STEAK & CHEESE        38              1\n",
      "49693       49694  BURRITO- STEAK & CHEESE        38              1\n"
     ]
    }
   ],
   "source": [
    "# Revisa si hay nombres duplicados diferentes de productos no faltantes\n",
    "# Filtrar productos cuyo nombre sea 'BURRITO- STEAK & CHEESE'\n",
    "productos_con_burrito = products[products['product_name'] == 'BURRITO- STEAK & CHEESE']\n",
    "\n",
    "# Revisar si hay nombres duplicados en el subconjunto\n",
    "duplicados_products_b = productos_con_burrito.duplicated(subset='product_name').sum()\n",
    "\n",
    "print(f\"Número de nombres con burritos duplicados: {duplicados_products_b}\")\n",
    "print(productos_con_burrito.sort_values(by='department_id').head(20))"
   ]
  },
  {
   "cell_type": "code",
   "execution_count": 20,
   "id": "72fda0aa",
   "metadata": {},
   "outputs": [],
   "source": [
    "# Eliminar duplicados que no sean ausentes\n",
    "products['product_name'] = products['product_name'] != \n",
    "\n"
   ]
  },
  {
   "cell_type": "markdown",
   "id": "9da8d293",
   "metadata": {
    "id": "9da8d293"
   },
   "source": [
    "Describe brevemente tus hallazgos y lo que hiciste con ellos.\n",
    "\n",
    "Se detectaron filas duplicadas diferentes a valores ausentes por lo que se procedió a eliminarlas."
   ]
  },
  {
   "cell_type": "code",
   "execution_count": 21,
   "id": "08dabefa",
   "metadata": {},
   "outputs": [
    {
     "name": "stdout",
     "output_type": "stream",
     "text": [
      "Número de nombres con burritos duplicados: 1\n",
      "       product_id             product_name  aisle_id  department_id\n",
      "44314       44315  BURRITO- STEAK & CHEESE        38              1\n",
      "49693       49694  BURRITO- STEAK & CHEESE        38              1\n"
     ]
    }
   ],
   "source": [
    "# Comprobacion\n",
    "# Revisa si hay nombres duplicados diferentes de productos no faltantes\n",
    "# Filtrar productos cuyo nombre sea 'BURRITO- STEAK & CHEESE'\n",
    "productos_con_burrito = products[products['product_name'] == 'BURRITO- STEAK & CHEESE']\n",
    "\n",
    "# Revisar si hay nombres duplicados en el subconjunto\n",
    "duplicados_products_b = productos_con_burrito.duplicated(subset='product_name').sum()\n",
    "\n",
    "print(f\"Número de nombres con burritos duplicados: {duplicados_products_b}\")\n",
    "print(productos_con_burrito.sort_values(by='department_id').head(20))"
   ]
  },
  {
   "cell_type": "markdown",
   "id": "60f30db1",
   "metadata": {
    "id": "60f30db1"
   },
   "source": [
    "### `departments` data frame"
   ]
  },
  {
   "cell_type": "code",
   "execution_count": 22,
   "id": "fb410ad4-0fbf-4b80-bb09-23fdea79afe3",
   "metadata": {
    "id": "fb410ad4-0fbf-4b80-bb09-23fdea79afe3"
   },
   "outputs": [
    {
     "data": {
      "text/plain": [
       "0"
      ]
     },
     "execution_count": 22,
     "metadata": {},
     "output_type": "execute_result"
    }
   ],
   "source": [
    "# Revisa si hay filas totalmente duplicadas\n",
    "departments.duplicated().sum()"
   ]
  },
  {
   "cell_type": "code",
   "execution_count": 23,
   "id": "332b12bb",
   "metadata": {
    "id": "332b12bb"
   },
   "outputs": [
    {
     "name": "stdout",
     "output_type": "stream",
     "text": [
      "0\n",
      "0\n"
     ]
    }
   ],
   "source": [
    "# Revisa únicamente si hay IDs duplicadas de productos\n",
    "print(departments.duplicated(subset='department_id').sum())\n",
    "print(departments.duplicated(subset='department').sum())"
   ]
  },
  {
   "cell_type": "markdown",
   "id": "bd30d78e",
   "metadata": {
    "id": "bd30d78e"
   },
   "source": [
    "Describe brevemente tus hallazgos y lo que hiciste con ellos.\n",
    "\n",
    "No se detectaron filas duplicadas en general o por columna por lo que se dejo tal y como estaba."
   ]
  },
  {
   "cell_type": "markdown",
   "id": "889349c1",
   "metadata": {
    "id": "889349c1"
   },
   "source": [
    "### `aisles` data frame"
   ]
  },
  {
   "cell_type": "code",
   "execution_count": 24,
   "id": "9da89fb9-4679-40f5-ad0d-c34df753a3f8",
   "metadata": {
    "id": "9da89fb9-4679-40f5-ad0d-c34df753a3f8"
   },
   "outputs": [
    {
     "data": {
      "text/plain": [
       "0"
      ]
     },
     "execution_count": 24,
     "metadata": {},
     "output_type": "execute_result"
    }
   ],
   "source": [
    "# Revisa si hay filas totalmente duplicadas\n",
    "aisles.duplicated().sum()"
   ]
  },
  {
   "cell_type": "code",
   "execution_count": 25,
   "id": "da7c2822",
   "metadata": {
    "id": "da7c2822"
   },
   "outputs": [
    {
     "name": "stdout",
     "output_type": "stream",
     "text": [
      "0\n",
      "0\n"
     ]
    }
   ],
   "source": [
    "# Revisa únicamente si hay IDs duplicadas de pasillos\n",
    "print(aisles.duplicated(subset='aisle_id').sum())\n",
    "print(aisles.duplicated(subset='aisle').sum())"
   ]
  },
  {
   "cell_type": "markdown",
   "id": "ac63826f",
   "metadata": {
    "id": "ac63826f"
   },
   "source": [
    "Describe brevemente tus hallazgos y lo que hiciste con ellos.\n",
    "\n",
    "No se detectaron filas duplicadas en general o por columna por lo que se dejo tal y como estaba."
   ]
  },
  {
   "cell_type": "markdown",
   "id": "274cd06a",
   "metadata": {
    "id": "274cd06a"
   },
   "source": [
    "### `order_products` data frame"
   ]
  },
  {
   "cell_type": "code",
   "execution_count": 26,
   "id": "52326689-84a8-4b8f-a881-7c68780f62c9",
   "metadata": {
    "id": "52326689-84a8-4b8f-a881-7c68780f62c9"
   },
   "outputs": [
    {
     "data": {
      "text/plain": [
       "0"
      ]
     },
     "execution_count": 26,
     "metadata": {},
     "output_type": "execute_result"
    }
   ],
   "source": [
    "# Revisa si hay filas totalmente duplicadas\n",
    "order_products.duplicated().sum()"
   ]
  },
  {
   "cell_type": "code",
   "execution_count": 27,
   "id": "7b861391",
   "metadata": {
    "id": "7b861391"
   },
   "outputs": [
    {
     "name": "stdout",
     "output_type": "stream",
     "text": [
      "4094961\n",
      "4499434\n",
      "4544942\n",
      "4545005\n",
      "    order_id  product_id  add_to_cart_order  reordered\n",
      "11     44064       22963               28.0          0\n",
      "18     89640       46692                7.0          0\n",
      "9     420019       23315                4.0          1\n",
      "3     491251        8670               35.0          1\n",
      "12    522547       40571               10.0          1\n",
      "1     567889        1560                1.0          1\n",
      "26    623027       13176                3.0          1\n",
      "16    639939       10017                1.0          1\n",
      "6     644579       12341                5.0          1\n",
      "23    750040        8518                1.0          0\n",
      "29    773308       37029               15.0          0\n",
      "10    925051        9421                2.0          1\n",
      "25   1046178       26620                2.0          0\n",
      "22   1482958       45603                6.0          1\n",
      "20   1687771       22963                5.0          1\n",
      "17   1721072       24561                8.0          1\n",
      "14   1961225       37553                1.0          1\n",
      "24   2022887       28169                4.0          0\n",
      "0    2141543       11440               17.0          0\n",
      "7    2231852       44925               10.0          1\n",
      "2    2261212       26683                1.0          1\n",
      "15   2397389        4321               16.0          1\n",
      "5    2456893       21616                4.0          1\n",
      "13   2475670       48520                3.0          0\n",
      "28   2492383       11005               16.0          0\n",
      "19   2500729       21616                5.0          1\n",
      "4    2571142        1940                5.0          1\n",
      "21   2905625       26209                2.0          0\n",
      "27   2907647       21903                9.0          1\n",
      "8    3185766       36259               14.0          1\n"
     ]
    }
   ],
   "source": [
    "# Vuelve a verificar si hay cualquier otro duplicado engañoso\n",
    "\n",
    "print(order_products.duplicated(subset='order_id').sum())\n",
    "print(order_products.duplicated(subset='product_id').sum())\n",
    "print(order_products.duplicated(subset='add_to_cart_order').sum())\n",
    "print(order_products.duplicated(subset='reordered').sum())\n",
    "\n",
    "print(order_products.head(30).sort_values('order_id'))"
   ]
  },
  {
   "cell_type": "markdown",
   "id": "0b890492",
   "metadata": {
    "id": "0b890492"
   },
   "source": [
    "Describe brevemente tus hallazgos y lo que hiciste con ellos.\n",
    "\n",
    "Dada la naturaleza del DataFrame, es normal que haya valores duplicados en las columnas individualmente, pero al no haber valores duplicados en filas completas, no veo error alguno."
   ]
  },
  {
   "cell_type": "markdown",
   "id": "1e46de76",
   "metadata": {
    "id": "1e46de76"
   },
   "source": [
    "## Encuentra y elimina los valores ausentes\n",
    "\n",
    "Al trabajar con valores duplicados, pudimos observar que también nos falta investigar valores ausentes:\n",
    "\n",
    "* La columna `'product_name'` de la tabla products.\n",
    "* La columna `'days_since_prior_order'` de la tabla orders.\n",
    "* La columna `'add_to_cart_order'` de la tabla order_productos."
   ]
  },
  {
   "cell_type": "markdown",
   "id": "c0aebd78",
   "metadata": {
    "id": "c0aebd78"
   },
   "source": [
    "### `products` data frame"
   ]
  },
  {
   "cell_type": "code",
   "execution_count": 28,
   "id": "5c00e601",
   "metadata": {},
   "outputs": [
    {
     "name": "stdout",
     "output_type": "stream",
     "text": [
      "product_id          0\n",
      "product_name     1258\n",
      "aisle_id            0\n",
      "department_id       0\n",
      "dtype: int64\n",
      "       product_id product_name  aisle_id  department_id\n",
      "37             38          NaN       100             21\n",
      "71             72          NaN       100             21\n",
      "109           110          NaN       100             21\n",
      "296           297          NaN       100             21\n",
      "416           417          NaN       100             21\n",
      "...           ...          ...       ...            ...\n",
      "49552       49553          NaN       100             21\n",
      "49574       49575          NaN       100             21\n",
      "49640       49641          NaN       100             21\n",
      "49663       49664          NaN       100             21\n",
      "49668       49669          NaN       100             21\n",
      "\n",
      "[1258 rows x 4 columns]\n",
      "     product_id product_name  aisle_id  department_id\n",
      "37           38          NaN       100             21\n",
      "71           72          NaN       100             21\n",
      "109         110          NaN       100             21\n",
      "296         297          NaN       100             21\n",
      "416         417          NaN       100             21\n",
      "436         437          NaN       100             21\n",
      "439         440          NaN       100             21\n",
      "471         472          NaN       100             21\n",
      "490         491          NaN       100             21\n",
      "555         556          NaN       100             21\n",
      "aisle_id  department_id\n",
      "100       21               1258\n",
      "dtype: int64\n"
     ]
    }
   ],
   "source": [
    "# Encuentra los valores ausentes en la columna 'product_name'\n",
    "# Contabilizar valores ausentes\n",
    "print(products.isna().sum())\n",
    "\n",
    "# Mostrar las filas donde 'product_name' tiene valores ausentes\n",
    "print(products[products['product_name'].isna()])\n",
    "\n",
    "# Mostrar las primeras 10 filas donde 'aisle_id' sea igual a 100\n",
    "print(products[products['aisle_id'] == 100].head(10))\n",
    "\n",
    "# Agrupar para analizar\n",
    "missing_products_grouped = products[products['product_name'].isna()].groupby(['aisle_id', 'department_id'])\n",
    "print(missing_products_grouped.size())"
   ]
  },
  {
   "cell_type": "code",
   "execution_count": 29,
   "id": "4cc40469",
   "metadata": {},
   "outputs": [
    {
     "name": "stdout",
     "output_type": "stream",
     "text": [
      "order_id                      0\n",
      "user_id                       0\n",
      "order_number                  0\n",
      "order_dow                     0\n",
      "order_hour_of_day             0\n",
      "days_since_prior_order    28817\n",
      "dtype: int64\n"
     ]
    }
   ],
   "source": [
    "# Reemplazar valores NaN por Unknown\n",
    "products['product_name'] = products['product_name'].fillna('Unknown')\n",
    "\n",
    "# Verificar que no haya valores nulos\n",
    "print(orders.isna().sum())"
   ]
  },
  {
   "cell_type": "markdown",
   "id": "fb15dfb7",
   "metadata": {},
   "source": [
    "Describe brevemente cuáles son tus hallazgos.\n",
    "\n",
    "Para el DataFrame 'products' el cual presentaba valores ausentes en 'pruduct_name' tome la desición de cambiar los valores ausentes por 'Unknown', ya que si tienen id de producto por lo que creo conveniente conservar los valores. Todos estos valores estan relacionados con el pasillo con id 100 y con el departamento 21. Agrupé estas dos columnas para comprobarlo."
   ]
  },
  {
   "cell_type": "markdown",
   "id": "7eb45c86",
   "metadata": {
    "id": "7eb45c86"
   },
   "source": [
    "### `orders` data frame"
   ]
  },
  {
   "cell_type": "code",
   "execution_count": 30,
   "id": "aea528c1",
   "metadata": {},
   "outputs": [
    {
     "name": "stdout",
     "output_type": "stream",
     "text": [
      "order_id                      0\n",
      "user_id                       0\n",
      "order_number                  0\n",
      "order_dow                     0\n",
      "order_hour_of_day             0\n",
      "days_since_prior_order    28817\n",
      "dtype: int64\n",
      "        order_id  user_id  order_number  order_dow  order_hour_of_day  \\\n",
      "28        133707   182261             1          3                 10   \n",
      "96        787445    25685             1          6                 18   \n",
      "100       294410   111449             1          0                 19   \n",
      "103      2869915   123958             1          4                 16   \n",
      "104      2521921    42286             1          3                 18   \n",
      "...          ...      ...           ...        ...                ...   \n",
      "478895   2589657   205028             1          0                 16   \n",
      "478896   2222353   141211             1          2                 13   \n",
      "478922   2272807   204154             1          1                 15   \n",
      "478926   2499542    68810             1          4                 19   \n",
      "478945   1387033    22496             1          5                 14   \n",
      "\n",
      "        days_since_prior_order  \n",
      "28                         NaN  \n",
      "96                         NaN  \n",
      "100                        NaN  \n",
      "103                        NaN  \n",
      "104                        NaN  \n",
      "...                        ...  \n",
      "478895                     NaN  \n",
      "478896                     NaN  \n",
      "478922                     NaN  \n",
      "478926                     NaN  \n",
      "478945                     NaN  \n",
      "\n",
      "[28817 rows x 6 columns]\n",
      "    order_id  user_id  order_number  order_dow  order_hour_of_day  \\\n",
      "0    1515936   183418            11          6                 13   \n",
      "1    1690866   163593             5          5                 12   \n",
      "2    1454967    39980             4          5                 19   \n",
      "3    1768857    82516            56          0                 20   \n",
      "4    3007858   196724             2          4                 12   \n",
      "5    1843871    20084             5          0                 11   \n",
      "6    2511640   148233            40          3                  8   \n",
      "7    2521283    97711             2          0                 18   \n",
      "8    2266494    34954            40          5                 15   \n",
      "9     446014    15356             2          4                  8   \n",
      "10   1162566    43738            33          4                 11   \n",
      "11    102585   191558            18          6                 16   \n",
      "12   2276302   190167            21          1                 12   \n",
      "13    782916    36310            34          5                  9   \n",
      "14   2843219    74699             4          6                 11   \n",
      "15   1989200    71810             4          1                  9   \n",
      "16   3109465    55090            19          3                 15   \n",
      "17    727519   146663             7          4                 22   \n",
      "18    556588     6801            63          5                 11   \n",
      "19    294269   107523            29          2                 10   \n",
      "20     50934   178510             9          6                  9   \n",
      "21   3097921    97319            40          4                  9   \n",
      "22   1546269   182211            12          1                 15   \n",
      "23   3406282    19356            21          0                  0   \n",
      "24   3358682   162252            14          5                  8   \n",
      "25   1895419   169793             2          0                 11   \n",
      "26   1844247   122558             4          6                 18   \n",
      "27    457775    61263            24          0                 16   \n",
      "28    133707   182261             1          3                 10   \n",
      "29    547066      278            38          1                 14   \n",
      "\n",
      "    days_since_prior_order  \n",
      "0                     30.0  \n",
      "1                      9.0  \n",
      "2                      2.0  \n",
      "3                     10.0  \n",
      "4                     17.0  \n",
      "5                     15.0  \n",
      "6                      2.0  \n",
      "7                     22.0  \n",
      "8                      4.0  \n",
      "9                     10.0  \n",
      "10                     2.0  \n",
      "11                     8.0  \n",
      "12                     2.0  \n",
      "13                     3.0  \n",
      "14                    30.0  \n",
      "15                    12.0  \n",
      "16                     9.0  \n",
      "17                    11.0  \n",
      "18                     7.0  \n",
      "19                     1.0  \n",
      "20                     5.0  \n",
      "21                     8.0  \n",
      "22                     6.0  \n",
      "23                    14.0  \n",
      "24                     5.0  \n",
      "25                     8.0  \n",
      "26                    30.0  \n",
      "27                     7.0  \n",
      "28                     NaN  \n",
      "29                     4.0  \n"
     ]
    }
   ],
   "source": [
    "# Encuentra los valores ausentes\n",
    "# Contabilizar valores ausentes\n",
    "print(orders.isna().sum())\n",
    "# Mostrar los valores ausentes\n",
    "print(orders[orders['days_since_prior_order'].isna()])\n",
    "# Mostrar las primeras 30 filas para analizar la clase de datos\n",
    "print(orders.head(30))"
   ]
  },
  {
   "cell_type": "markdown",
   "id": "8cecae49",
   "metadata": {},
   "source": [
    "Describe brevemente tus hallazgos y lo que hiciste con ellos.\n",
    "\n",
    "Para el DataFrame 'orders' se encontraron valores ausentes en 'days_since_prior_order', despues de analizar la columna tomé la decisión de cambiar estos valores ausentes por 0 y cambiar el tipo de datos por números enteros. Inferí que podría ser 0 ya que este valor no estaba presente en la columna, además intuí que se relacionaba con clientes que estaban teniendo su primera compra."
   ]
  },
  {
   "cell_type": "markdown",
   "id": "69dc9ca4",
   "metadata": {
    "id": "69dc9ca4"
   },
   "source": [
    "### `order_products` data frame"
   ]
  },
  {
   "cell_type": "code",
   "execution_count": 31,
   "id": "90a65e07",
   "metadata": {},
   "outputs": [
    {
     "name": "stdout",
     "output_type": "stream",
     "text": [
      "order_id               0\n",
      "product_id             0\n",
      "add_to_cart_order    836\n",
      "reordered              0\n",
      "dtype: int64\n",
      "         order_id  product_id  add_to_cart_order  reordered\n",
      "737       2449164        5068                NaN          0\n",
      "9926      1968313       43867                NaN          0\n",
      "14394     2926893       11688                NaN          0\n",
      "16418     1717990        4142                NaN          0\n",
      "30114     1959075       42828                NaN          1\n",
      "...           ...         ...                ...        ...\n",
      "4505662   1800005        7411                NaN          0\n",
      "4511400   1633337         260                NaN          0\n",
      "4517562    404157        9517                NaN          0\n",
      "4534112   1673227       17835                NaN          0\n",
      "4535739   1832957       17949                NaN          1\n",
      "\n",
      "[836 rows x 4 columns]\n",
      "       order_id    product_id  add_to_cart_order  reordered\n",
      "count      42.0     42.000000          42.000000  42.000000\n",
      "mean   491251.0  25717.190476          21.500000   0.928571\n",
      "std         0.0  13574.348084          12.267844   0.260661\n",
      "min    491251.0   1106.000000           1.000000   0.000000\n",
      "25%    491251.0  14395.750000          11.250000   1.000000\n",
      "50%    491251.0  27083.500000          21.500000   1.000000\n",
      "75%    491251.0  35798.250000          31.750000   1.000000\n",
      "max    491251.0  47977.000000          42.000000   1.000000\n",
      "         order_id  product_id  add_to_cart_order  reordered\n",
      "225286    1959075       18523                5.0          1\n",
      "815967    1959075       44292                6.0          1\n",
      "599014    1959075        9421                7.0          1\n",
      "960462    1959075       30776                8.0          1\n",
      "1632720   1959075        7079               10.0          1\n",
      "1981148   1959075       31126               11.0          1\n",
      "88193     1959075       11707               19.0          1\n",
      "1670653   1959075       27019               23.0          1\n",
      "1681248   1959075       21709               34.0          1\n",
      "315382    1959075       32689               39.0          1\n",
      "391656    1959075       39877               41.0          1\n",
      "637315    1959075        7401               48.0          1\n",
      "788650    1959075       31506               49.0          1\n",
      "1536051   1959075        6646               50.0          1\n",
      "1873572   1959075       47866               52.0          1\n",
      "404753    1959075       45603               59.0          1\n",
      "594007    1959075       29926               63.0          1\n",
      "30114     1959075       42828                NaN          1\n",
      "410035    1959075       43182                NaN          1\n",
      "452071    1959075        8736                NaN          1\n",
      "505426    1959075       47740                NaN          1\n",
      "551504    1959075       15693                NaN          1\n",
      "583941    1959075       11422                NaN          1\n",
      "654572    1959075       40571                NaN          1\n",
      "1071614   1959075       18362                NaN          1\n",
      "1106546   1959075       22993                NaN          1\n",
      "1133770   1959075        4957                NaN          1\n",
      "1470461   1959075       34310                NaN          1\n",
      "1697587   1959075       11193                NaN          1\n",
      "1896630   1959075       16241                NaN          1\n"
     ]
    }
   ],
   "source": [
    "# Encuentra los valores ausentes\n",
    "\n",
    "# Contabilizar valores ausentes\n",
    "print(order_products.isna().sum())\n",
    "\n",
    "# Mostrar los valores ausentes\n",
    "print(order_products[order_products['add_to_cart_order'].isna()])\n",
    "\n",
    "# Mostrar las primeras filas de una orden, ordenando la forma en que se agregó el producto para analizar la clase de datos\n",
    "print(order_products[order_products['order_id']==491251].describe())\n",
    "\n",
    "# Mostrar las primeras filas de una orden con valor ausente, ordenando la forma en que se agregó el producto para analizar la clase de datos\n",
    "print(order_products[order_products['order_id']==1959075].head(30).sort_values(by='add_to_cart_order'))\n"
   ]
  },
  {
   "cell_type": "code",
   "execution_count": 32,
   "id": "9a78e5ee",
   "metadata": {
    "id": "9a78e5ee"
   },
   "outputs": [
    {
     "name": "stdout",
     "output_type": "stream",
     "text": [
      "1.0\n",
      "64.0\n"
     ]
    }
   ],
   "source": [
    "# ¿Cuáles son los valores mínimos y máximos en esta columna?\n",
    "print(order_products['add_to_cart_order'].min())\n",
    "print(order_products['add_to_cart_order'].max())"
   ]
  },
  {
   "cell_type": "code",
   "execution_count": 33,
   "id": "ab9d0c2b",
   "metadata": {
    "id": "ab9d0c2b"
   },
   "outputs": [
    {
     "name": "stdout",
     "output_type": "stream",
     "text": [
      "       order_id  product_id  add_to_cart_order  reordered\n",
      "57981     61355        5322                NaN          0\n",
      "62655    264710       40281                NaN          0\n",
      "34183    844733       32717                NaN          0\n",
      "58228    936852       31373                NaN          1\n",
      "16418   1717990        4142                NaN          0\n",
      "64336   1717990       39408                NaN          0\n",
      "30114   1959075       42828                NaN          1\n",
      "9926    1968313       43867                NaN          0\n",
      "737     2449164        5068                NaN          0\n",
      "14394   2926893       11688                NaN          0\n"
     ]
    }
   ],
   "source": [
    "# Guarda todas las IDs de pedidos que tengan un valor ausente en 'add_to_cart_order'\n",
    "order_products_nan = order_products[order_products['add_to_cart_order'].isna()]\n",
    "print(order_products_nan.head(10).sort_values(by='order_id'))"
   ]
  },
  {
   "cell_type": "code",
   "execution_count": 34,
   "id": "54c31695",
   "metadata": {
    "id": "54c31695"
   },
   "outputs": [
    {
     "name": "stdout",
     "output_type": "stream",
     "text": [
      "order_id  product_id\n",
      "9310      25753         1\n",
      "1959075   45842         1\n",
      "          47740         1\n",
      "1961723   3849          1\n",
      "          7926          1\n",
      "                       ..\n",
      "936852    14833         1\n",
      "          15438         1\n",
      "          18362         1\n",
      "1038146   42110         1\n",
      "3383594   49144         1\n",
      "Length: 836, dtype: int64\n"
     ]
    }
   ],
   "source": [
    "# ¿Todos los pedidos con valores ausentes tienen más de 64 productos?\n",
    "# No\n",
    "# Agrupa todos los pedidos con datos ausentes por su ID de pedido.\n",
    "order_id_grouped = order_products[order_products['add_to_cart_order'].isna()].groupby(['order_id','product_id'])\n",
    "print(order_id_grouped.size().sort_values())\n",
    "# Cuenta el número de 'product_id' en cada pedido y revisa el valor mínimo del conteo.\n"
   ]
  },
  {
   "cell_type": "markdown",
   "id": "p9V6pddtjglj",
   "metadata": {
    "id": "p9V6pddtjglj"
   },
   "source": [
    "Describe brevemente cuáles son tus hallazgos.\n",
    "Cada pedido tiene diferente cantidad de productos."
   ]
  },
  {
   "cell_type": "code",
   "execution_count": 35,
   "id": "393cd5c0",
   "metadata": {},
   "outputs": [
    {
     "name": "stdout",
     "output_type": "stream",
     "text": [
      "order_id             0\n",
      "product_id           0\n",
      "add_to_cart_order    0\n",
      "reordered            0\n",
      "dtype: int64\n",
      "   order_id  product_id  add_to_cart_order  reordered\n",
      "0   2141543       11440                 17          0\n",
      "1    567889        1560                  1          1\n",
      "2   2261212       26683                  1          1\n",
      "3    491251        8670                 35          1\n",
      "4   2571142        1940                  5          1\n",
      "5   2456893       21616                  4          1\n",
      "6    644579       12341                  5          1\n",
      "7   2231852       44925                 10          1\n",
      "8   3185766       36259                 14          1\n",
      "9    420019       23315                  4          1\n"
     ]
    }
   ],
   "source": [
    "# Remplaza los valores ausentes en la columna 'add_to_cart_order' con 999 y convierte la columna al tipo entero.\n",
    "# Reemplazar valores NaN por 999\n",
    "order_products['add_to_cart_order'] = order_products['add_to_cart_order'].fillna(999)\n",
    "\n",
    "# Verificar que no haya valores nulos\n",
    "print(order_products.isna().sum())\n",
    "\n",
    "# Convertir la columna a tipo entero\n",
    "order_products['add_to_cart_order'] = order_products['add_to_cart_order'].astype(int)\n",
    "\n",
    "# Mostrar las primeras 30 filas\n",
    "print(order_products.head(10))"
   ]
  },
  {
   "cell_type": "markdown",
   "id": "fea4bcc7",
   "metadata": {
    "id": "fea4bcc7"
   },
   "source": [
    "Describe brevemente tus hallazgos y lo que hiciste con ellos.\n",
    "\n",
    "Para el DataFrame 'order_products' se encontraron valores ausentes en 'add_to_cart_order', despues de analizar la columna tomé la decisión de cambiar estos valores ausentes por 999, según las indicaciones, y cambiar el tipo de datos por números enteros. Este parece ser un error al cargar el producto al carrito."
   ]
  },
  {
   "cell_type": "markdown",
   "id": "RnplPFY1gSrb",
   "metadata": {
    "id": "RnplPFY1gSrb"
   },
   "source": [
    "## Conclusiones\n",
    "\n",
    "Escribe aquí tus conclusiones intermedias sobre el Paso 2. Preprocesamiento de los datos\n",
    "\n",
    "Se logró limpiar los DataFrames con éxito, analizando paso a paso cada aspecto relevante entre datos ausentes y valores duplicados.\n"
   ]
  },
  {
   "cell_type": "markdown",
   "id": "UjrOIwTcz3ri",
   "metadata": {
    "id": "UjrOIwTcz3ri"
   },
   "source": [
    "# Paso 3. Análisis de los datos\n",
    "\n",
    "Una vez los datos estén procesados y listos, haz el siguiente análisis:"
   ]
  },
  {
   "cell_type": "markdown",
   "id": "turkish-kidney",
   "metadata": {
    "id": "turkish-kidney"
   },
   "source": [
    "# [A] Fácil (deben completarse todos para aprobar)\n",
    "\n",
    "1. Verifica que los valores en las columnas `'order_hour_of_day'` y `'order_dow'` en la tabla orders sean razonables (es decir, `'order_hour_of_day'` oscile entre 0 y 23 y `'order_dow'` oscile entre 0 y 6).\n",
    "2. Crea un gráfico que muestre el número de personas que hacen pedidos dependiendo de la hora del día.\n",
    "3. Crea un gráfico que muestre qué día de la semana la gente hace sus compras.\n",
    "4. Crea un gráfico que muestre el tiempo que la gente espera hasta hacer su siguiente pedido, y comenta sobre los valores mínimos y máximos."
   ]
  },
  {
   "cell_type": "markdown",
   "id": "short-capability",
   "metadata": {
    "id": "short-capability"
   },
   "source": [
    "### [A1] Verifica que los valores sean sensibles"
   ]
  },
  {
   "cell_type": "code",
   "execution_count": 36,
   "id": "growing-fruit",
   "metadata": {
    "id": "growing-fruit"
   },
   "outputs": [
    {
     "name": "stdout",
     "output_type": "stream",
     "text": [
      "0\n",
      "23\n"
     ]
    }
   ],
   "source": [
    "print(orders['order_hour_of_day'].min())\n",
    "print(orders['order_hour_of_day'].max())"
   ]
  },
  {
   "cell_type": "code",
   "execution_count": 37,
   "id": "accessory-malaysia",
   "metadata": {
    "id": "accessory-malaysia"
   },
   "outputs": [
    {
     "name": "stdout",
     "output_type": "stream",
     "text": [
      "0\n",
      "6\n"
     ]
    }
   ],
   "source": [
    "print(orders['order_dow'].min())\n",
    "print(orders['order_dow'].max())"
   ]
  },
  {
   "cell_type": "markdown",
   "id": "hmR2GNQ6lCsX",
   "metadata": {
    "id": "hmR2GNQ6lCsX"
   },
   "source": [
    "Escribe aquí tus conclusiones\n",
    "\n",
    "Los valores de las columnas en cuestión son razonables."
   ]
  },
  {
   "cell_type": "markdown",
   "id": "a6743a70",
   "metadata": {
    "id": "a6743a70"
   },
   "source": [
    "### [A2] Para cada hora del día, ¿cuántas personas hacen órdenes?"
   ]
  },
  {
   "cell_type": "code",
   "execution_count": 38,
   "id": "8c8b31d5",
   "metadata": {},
   "outputs": [],
   "source": [
    "%matplotlib inline"
   ]
  },
  {
   "cell_type": "code",
   "execution_count": 39,
   "id": "a36cca27",
   "metadata": {
    "id": "a36cca27"
   },
   "outputs": [
    {
     "data": {
      "image/png": "[encoded data removed]",
      "text/plain": [
       "<Figure size 640x480 with 1 Axes>"
      ]
     },
     "metadata": {},
     "output_type": "display_data"
    }
   ],
   "source": [
    "from matplotlib import pyplot as plt\n",
    "\n",
    "# Agrupar los datos por 'order_hour_of_day' y contar el número de pedidos de 'order_id'\n",
    "orders_by_hour = orders.groupby('order_hour_of_day')['order_id'].count()\n",
    "\n",
    "# Graficar los datos\n",
    "orders_by_hour.plot(\n",
    "    kind='line',\n",
    "    marker='o',\n",
    "    title='Flujo de clientes por hora',\n",
    "    xlabel='Hora',\n",
    "    ylabel='Número de pedidos',\n",
    "    legend=False,\n",
    ")\n",
    "\n",
    "# Mostrar la gráfica\n",
    "plt.show()\n"
   ]
  },
  {
   "cell_type": "markdown",
   "id": "11270eed",
   "metadata": {
    "id": "11270eed"
   },
   "source": [
    "Escribe aquí tus conclusiones\n",
    "\n",
    "Observando la gráfica podemos concluir que entre las 10 y las 16 horas el flujo de pedidos es mayor, teniendo su pico más alto a las 10, y entre las 1 y las 5 el flujo es menor."
   ]
  },
  {
   "cell_type": "markdown",
   "id": "documented-command",
   "metadata": {
    "id": "documented-command"
   },
   "source": [
    "### [A3] ¿Qué día de la semana compran víveres las personas?"
   ]
  },
  {
   "cell_type": "code",
   "execution_count": 40,
   "id": "chief-digit",
   "metadata": {
    "id": "chief-digit"
   },
   "outputs": [
    {
     "data": {
      "image/png": "[encoded data removed]",
      "text/plain": [
       "<Figure size 640x480 with 1 Axes>"
      ]
     },
     "metadata": {},
     "output_type": "display_data"
    }
   ],
   "source": [
    "# Agrupar los datos por 'order_dow' y contar el número de pedidos usando 'order_id'\n",
    "orders_by_day = orders.groupby('order_dow')['order_id'].count()\n",
    "\n",
    "# Graficar los datos con puntos\n",
    "orders_by_day.plot(\n",
    "    kind='bar',\n",
    "    title='Pedidos por día de la semana',\n",
    "    xlabel='Día de la semana',\n",
    "    ylabel='Número de pedidos',\n",
    "    legend=False,\n",
    "    rot=50\n",
    ")\n",
    "\n",
    "# Agregar etiquetas a cada barra\n",
    "for dow, num_orders in orders_by_day.items():\n",
    "    plt.text(dow, num_orders, str(num_orders), ha='center', va='bottom', fontsize=8)\n",
    "\n",
    "# Ajustar el eje x para que muestre los días de la semana con más claridad\n",
    "plt.xticks(ticks=range(7), labels=['Domingo', 'Lunes', 'Martes', 'Miércoles', 'Jueves', 'Viernes', 'Sábado'])\n",
    "\n",
    "# Mostrar la gráfica\n",
    "plt.show()"
   ]
  },
  {
   "cell_type": "markdown",
   "id": "dominant-lightning",
   "metadata": {
    "id": "dominant-lightning"
   },
   "source": [
    "Escribe aquí tus conclusiones\n",
    "\n",
    "Domingo y lunes, respectivamente, son los días en los que más gente realiza sus compras, el jueves es el día en que menos."
   ]
  },
  {
   "cell_type": "markdown",
   "id": "cutting-concert",
   "metadata": {
    "id": "cutting-concert"
   },
   "source": [
    "### [A4] ¿Cuánto tiempo esperan las personas hasta hacer otro pedido? Comenta sobre los valores mínimos y máximos."
   ]
  },
  {
   "cell_type": "code",
   "execution_count": 41,
   "id": "45ab2e33",
   "metadata": {},
   "outputs": [
    {
     "data": {
      "text/plain": [
       "Index(['order_id', 'user_id', 'order_number', 'order_dow', 'order_hour_of_day',\n",
       "       'days_since_prior_order'],\n",
       "      dtype='object')"
      ]
     },
     "execution_count": 41,
     "metadata": {},
     "output_type": "execute_result"
    }
   ],
   "source": [
    "orders.columns"
   ]
  },
  {
   "cell_type": "code",
   "execution_count": 42,
   "id": "c231f523",
   "metadata": {
    "id": "c231f523"
   },
   "outputs": [
    {
     "data": {
      "image/png": "[encoded data removed]",
      "text/plain": [
       "<Figure size 640x480 with 1 Axes>"
      ]
     },
     "metadata": {},
     "output_type": "display_data"
    }
   ],
   "source": [
    "# Agrupar los datos por 'days_since_prior_order' y contar el número de pedidos\n",
    "orders_by_days = orders.groupby('user_id')['days_since_prior_order'].median()\n",
    "#orders_by_days.plot(kind='hist')\n",
    " #Graficar los datos\n",
    "orders_by_days.plot(\n",
    "    kind='hist',\n",
    "    title='Tiempo de espera hasta el siguiente pedido',\n",
    "    xlabel='Días desde el pedido anterior',\n",
    "    ylabel='Número de pedidos',\n",
    "    legend=False,\n",
    "    bins=30\n",
    ")\n",
    "\n",
    "# Mostrar la gráfica\n",
    "plt.show()"
   ]
  },
  {
   "cell_type": "markdown",
   "id": "discrete-vertex",
   "metadata": {
    "id": "discrete-vertex"
   },
   "source": [
    "Escribe aquí tus conclusiones"
   ]
  },
  {
   "cell_type": "markdown",
   "id": "tight-staff",
   "metadata": {
    "id": "tight-staff"
   },
   "source": [
    "# [B] Intermedio (deben completarse todos para aprobar)\n",
    "\n",
    "1. ¿Existe alguna diferencia entre las distribuciones `'order_hour_of_day'` de los miércoles y los sábados? Traza gráficos de barra de `'order_hour_of_day'` para ambos días en la misma figura y describe las diferencias que observes.\n",
    "2. Grafica la distribución para el número de órdenes que hacen los clientes (es decir, cuántos clientes hicieron solo 1 pedido, cuántos hicieron 2, cuántos 3, y así sucesivamente...).\n",
    "3. ¿Cuáles son los 20 principales productos que se piden con más frecuencia (muestra su identificación y nombre)?"
   ]
  },
  {
   "cell_type": "markdown",
   "id": "packed-classic",
   "metadata": {
    "id": "packed-classic"
   },
   "source": [
    "### [B1] Diferencia entre miércoles y sábados para  `'order_hour_of_day'`. Traza gráficos de barra para los dos días y describe las diferencias que veas."
   ]
  },
  {
   "cell_type": "code",
   "execution_count": null,
   "id": "d89b8403",
   "metadata": {
    "id": "d89b8403"
   },
   "outputs": [],
   "source": []
  },
  {
   "cell_type": "code",
   "execution_count": null,
   "id": "94e54e8a",
   "metadata": {
    "id": "94e54e8a"
   },
   "outputs": [],
   "source": []
  },
  {
   "cell_type": "code",
   "execution_count": null,
   "id": "797c90a8",
   "metadata": {
    "id": "797c90a8"
   },
   "outputs": [],
   "source": []
  },
  {
   "cell_type": "code",
   "execution_count": null,
   "id": "35bcea30",
   "metadata": {
    "id": "35bcea30"
   },
   "outputs": [],
   "source": []
  },
  {
   "cell_type": "markdown",
   "id": "charitable-congo",
   "metadata": {
    "id": "charitable-congo"
   },
   "source": [
    "Escribe aquí tus conclusiones"
   ]
  },
  {
   "cell_type": "markdown",
   "id": "e3891143",
   "metadata": {
    "id": "e3891143"
   },
   "source": [
    "### [B2] ¿Cuál es la distribución para el número de pedidos por cliente?"
   ]
  },
  {
   "cell_type": "code",
   "execution_count": null,
   "id": "d8c26c23",
   "metadata": {
    "id": "d8c26c23"
   },
   "outputs": [],
   "source": []
  },
  {
   "cell_type": "code",
   "execution_count": null,
   "id": "00e69a66",
   "metadata": {
    "id": "00e69a66"
   },
   "outputs": [],
   "source": []
  },
  {
   "cell_type": "markdown",
   "id": "d2eff7d5",
   "metadata": {
    "id": "d2eff7d5"
   },
   "source": [
    "Escribe aquí tus conclusiones"
   ]
  },
  {
   "cell_type": "markdown",
   "id": "54a0319c",
   "metadata": {
    "id": "54a0319c"
   },
   "source": [
    "### [B3] ¿Cuáles son los 20 productos más populares (muestra su ID y nombre)?"
   ]
  },
  {
   "cell_type": "code",
   "execution_count": null,
   "id": "exterior-arizona",
   "metadata": {
    "id": "exterior-arizona",
    "scrolled": true
   },
   "outputs": [],
   "source": []
  },
  {
   "cell_type": "code",
   "execution_count": null,
   "id": "universal-facial",
   "metadata": {
    "id": "universal-facial"
   },
   "outputs": [],
   "source": []
  },
  {
   "cell_type": "code",
   "execution_count": null,
   "id": "bbcdd20b",
   "metadata": {
    "id": "bbcdd20b"
   },
   "outputs": [],
   "source": []
  },
  {
   "cell_type": "markdown",
   "id": "7df00f47",
   "metadata": {
    "id": "7df00f47"
   },
   "source": [
    "Escribe aquí tus conclusiones"
   ]
  },
  {
   "cell_type": "markdown",
   "id": "gross-theme",
   "metadata": {
    "id": "gross-theme"
   },
   "source": [
    "# [C] Difícil (deben completarse todos para aprobar)\n",
    "\n",
    "1. ¿Cuántos artículos suelen comprar las personas en un pedido? ¿Cómo es la distribución?\n",
    "2. ¿Cuáles son los 20 principales artículos que vuelven a pedirse con mayor frecuencia (muestra sus nombres e IDs de los productos)?\n",
    "3. Para cada producto, ¿cuál es la tasa de repetición del pedido (número de repeticiones de pedido/total de pedidos?\n",
    "4. Para cada cliente, ¿qué proporción de los productos que pidió ya los había pedido? Calcula la tasa de repetición de pedido para cada usuario en lugar de para cada producto.\n",
    "5. ¿Cuáles son los 20 principales artículos que la gente pone primero en sus carritos (muestra las IDs de los productos, sus nombres, y el número de veces en que fueron el primer artículo en añadirse al carrito)?"
   ]
  },
  {
   "cell_type": "markdown",
   "id": "romantic-deposit",
   "metadata": {
    "id": "romantic-deposit"
   },
   "source": [
    "### [C1] ¿Cuántos artículos compran normalmente las personas en un pedido? ¿Cómo es la distribución?"
   ]
  },
  {
   "cell_type": "code",
   "execution_count": null,
   "id": "virtual-punch",
   "metadata": {
    "id": "virtual-punch"
   },
   "outputs": [],
   "source": []
  },
  {
   "cell_type": "code",
   "execution_count": null,
   "id": "sensitive-breathing",
   "metadata": {
    "id": "sensitive-breathing"
   },
   "outputs": [],
   "source": []
  },
  {
   "cell_type": "code",
   "execution_count": null,
   "id": "completed-frank",
   "metadata": {
    "id": "completed-frank"
   },
   "outputs": [],
   "source": []
  },
  {
   "cell_type": "markdown",
   "id": "designed-mortality",
   "metadata": {
    "id": "designed-mortality"
   },
   "source": [
    "Escribe aquí tus conclusiones"
   ]
  },
  {
   "cell_type": "markdown",
   "id": "5e6b5537",
   "metadata": {
    "id": "5e6b5537"
   },
   "source": [
    "### [C2] ¿Cuáles son los 20 principales artículos que vuelven a pedirse con mayor frecuencia (muestra sus nombres e IDs de los productos)?"
   ]
  },
  {
   "cell_type": "code",
   "execution_count": null,
   "id": "9374e55a",
   "metadata": {
    "id": "9374e55a"
   },
   "outputs": [],
   "source": []
  },
  {
   "cell_type": "code",
   "execution_count": null,
   "id": "possible-change",
   "metadata": {
    "id": "possible-change",
    "scrolled": true
   },
   "outputs": [],
   "source": []
  },
  {
   "cell_type": "code",
   "execution_count": null,
   "id": "professional-surfing",
   "metadata": {
    "id": "professional-surfing",
    "scrolled": true
   },
   "outputs": [],
   "source": []
  },
  {
   "cell_type": "code",
   "execution_count": null,
   "id": "48dd3658",
   "metadata": {
    "id": "48dd3658"
   },
   "outputs": [],
   "source": []
  },
  {
   "cell_type": "markdown",
   "id": "80e70c74",
   "metadata": {
    "id": "80e70c74"
   },
   "source": [
    "Escribe aquí tus conclusiones"
   ]
  },
  {
   "cell_type": "markdown",
   "id": "9d312b14",
   "metadata": {
    "id": "9d312b14"
   },
   "source": [
    "### [C3] Para cada producto, ¿cuál es la proporción de las veces que se pide y que se vuelve a pedir?"
   ]
  },
  {
   "cell_type": "code",
   "execution_count": null,
   "id": "8ae9f4b1",
   "metadata": {
    "id": "8ae9f4b1"
   },
   "outputs": [],
   "source": []
  },
  {
   "cell_type": "code",
   "execution_count": null,
   "id": "103e7fe1",
   "metadata": {
    "id": "103e7fe1"
   },
   "outputs": [],
   "source": []
  },
  {
   "cell_type": "code",
   "execution_count": null,
   "id": "social-individual",
   "metadata": {
    "id": "social-individual"
   },
   "outputs": [],
   "source": []
  },
  {
   "cell_type": "markdown",
   "id": "I10dEIAyldcO",
   "metadata": {
    "id": "I10dEIAyldcO"
   },
   "source": [
    "Escribe aquí tus conclusiones"
   ]
  },
  {
   "cell_type": "markdown",
   "id": "subject-boxing",
   "metadata": {
    "id": "subject-boxing"
   },
   "source": [
    "### [C4] Para cada cliente, ¿qué proporción de sus productos ya los había pedido?"
   ]
  },
  {
   "cell_type": "code",
   "execution_count": null,
   "id": "medical-couple",
   "metadata": {
    "id": "medical-couple",
    "scrolled": true
   },
   "outputs": [],
   "source": []
  },
  {
   "cell_type": "code",
   "execution_count": null,
   "id": "8892e4b4",
   "metadata": {
    "id": "8892e4b4"
   },
   "outputs": [],
   "source": []
  },
  {
   "cell_type": "markdown",
   "id": "BgJSvXDsleXz",
   "metadata": {
    "id": "BgJSvXDsleXz"
   },
   "source": [
    "Escribe aquí tus conclusiones"
   ]
  },
  {
   "cell_type": "markdown",
   "id": "92d35137",
   "metadata": {
    "id": "92d35137"
   },
   "source": [
    "### [C5] ¿Cuáles son los 20 principales artículos que las personas ponen primero en sus carritos?"
   ]
  },
  {
   "cell_type": "code",
   "execution_count": null,
   "id": "0ae57274",
   "metadata": {
    "id": "0ae57274",
    "scrolled": true
   },
   "outputs": [],
   "source": []
  },
  {
   "cell_type": "code",
   "execution_count": null,
   "id": "forty-netherlands",
   "metadata": {
    "id": "forty-netherlands",
    "scrolled": true
   },
   "outputs": [],
   "source": []
  },
  {
   "cell_type": "code",
   "execution_count": null,
   "id": "08e41ec2",
   "metadata": {
    "id": "08e41ec2"
   },
   "outputs": [],
   "source": []
  },
  {
   "cell_type": "markdown",
   "id": "28ce9872",
   "metadata": {
    "id": "28ce9872"
   },
   "source": [
    "Escribe aquí tus conclusiones"
   ]
  },
  {
   "cell_type": "markdown",
   "id": "uITbFCEoDosC",
   "metadata": {
    "id": "uITbFCEoDosC"
   },
   "source": [
    "### Conclusion general del proyecto:"
   ]
  },
  {
   "cell_type": "code",
   "execution_count": null,
   "id": "Nk-4GS7mDwqY",
   "metadata": {
    "id": "Nk-4GS7mDwqY"
   },
   "outputs": [],
   "source": []
  }
 ],
 "metadata": {
  "ExecuteTimeLog": [
   {
    "duration": 348,
    "start_time": "2025-01-02T20:27:17.400Z"
   },
   {
    "duration": 6,
    "start_time": "2025-01-02T20:28:55.880Z"
   },
   {
    "duration": 353,
    "start_time": "2025-01-02T20:29:19.988Z"
   },
   {
    "duration": 2591,
    "start_time": "2025-01-02T20:32:48.823Z"
   },
   {
    "duration": 25,
    "start_time": "2025-01-02T20:33:16.438Z"
   },
   {
    "duration": 10,
    "start_time": "2025-01-02T20:34:00.765Z"
   },
   {
    "duration": 8,
    "start_time": "2025-01-02T20:34:42.483Z"
   },
   {
    "duration": 14,
    "start_time": "2025-01-02T20:35:24.733Z"
   },
   {
    "duration": 8,
    "start_time": "2025-01-02T20:35:40.460Z"
   },
   {
    "duration": 7,
    "start_time": "2025-01-02T20:36:05.990Z"
   },
   {
    "duration": 1045,
    "start_time": "2025-01-02T20:41:13.922Z"
   },
   {
    "duration": 11,
    "start_time": "2025-01-02T20:41:20.263Z"
   },
   {
    "duration": 11,
    "start_time": "2025-01-02T20:41:24.538Z"
   },
   {
    "duration": 7,
    "start_time": "2025-01-02T20:41:27.462Z"
   },
   {
    "duration": 9,
    "start_time": "2025-01-02T20:41:28.858Z"
   },
   {
    "duration": 7,
    "start_time": "2025-01-02T20:41:29.603Z"
   },
   {
    "duration": 13,
    "start_time": "2025-01-02T20:43:22.107Z"
   },
   {
    "duration": 15,
    "start_time": "2025-01-02T20:43:42.359Z"
   },
   {
    "duration": 13,
    "start_time": "2025-01-02T20:48:27.462Z"
   },
   {
    "duration": 850,
    "start_time": "2025-01-02T20:48:32.305Z"
   },
   {
    "duration": 12,
    "start_time": "2025-01-02T20:48:35.462Z"
   },
   {
    "duration": 23,
    "start_time": "2025-01-02T20:50:25.877Z"
   },
   {
    "duration": 158,
    "start_time": "2025-01-04T01:28:07.787Z"
   },
   {
    "duration": 288,
    "start_time": "2025-01-04T01:28:24.983Z"
   },
   {
    "duration": 1005,
    "start_time": "2025-01-04T01:28:25.273Z"
   },
   {
    "duration": 12,
    "start_time": "2025-01-04T01:28:26.280Z"
   },
   {
    "duration": 20,
    "start_time": "2025-01-04T01:28:26.295Z"
   },
   {
    "duration": 9,
    "start_time": "2025-01-04T01:28:26.316Z"
   },
   {
    "duration": 8,
    "start_time": "2025-01-04T01:28:26.327Z"
   },
   {
    "duration": 32,
    "start_time": "2025-01-04T01:28:26.337Z"
   },
   {
    "duration": 113,
    "start_time": "2025-01-04T01:28:26.372Z"
   },
   {
    "duration": 0,
    "start_time": "2025-01-04T01:28:26.489Z"
   },
   {
    "duration": 0,
    "start_time": "2025-01-04T01:28:26.491Z"
   },
   {
    "duration": 0,
    "start_time": "2025-01-04T01:28:26.491Z"
   },
   {
    "duration": 0,
    "start_time": "2025-01-04T01:28:26.493Z"
   },
   {
    "duration": 0,
    "start_time": "2025-01-04T01:28:26.509Z"
   },
   {
    "duration": 0,
    "start_time": "2025-01-04T01:28:26.510Z"
   },
   {
    "duration": 0,
    "start_time": "2025-01-04T01:28:26.511Z"
   },
   {
    "duration": 0,
    "start_time": "2025-01-04T01:28:26.512Z"
   },
   {
    "duration": 0,
    "start_time": "2025-01-04T01:28:26.514Z"
   },
   {
    "duration": 0,
    "start_time": "2025-01-04T01:28:26.515Z"
   },
   {
    "duration": 0,
    "start_time": "2025-01-04T01:28:26.516Z"
   },
   {
    "duration": 0,
    "start_time": "2025-01-04T01:28:26.517Z"
   },
   {
    "duration": 0,
    "start_time": "2025-01-04T01:28:26.519Z"
   },
   {
    "duration": 0,
    "start_time": "2025-01-04T01:28:26.519Z"
   },
   {
    "duration": 0,
    "start_time": "2025-01-04T01:28:26.521Z"
   },
   {
    "duration": 0,
    "start_time": "2025-01-04T01:28:26.522Z"
   },
   {
    "duration": 0,
    "start_time": "2025-01-04T01:28:26.523Z"
   },
   {
    "duration": 0,
    "start_time": "2025-01-04T01:28:26.524Z"
   },
   {
    "duration": 0,
    "start_time": "2025-01-04T01:28:26.525Z"
   },
   {
    "duration": 0,
    "start_time": "2025-01-04T01:28:26.526Z"
   },
   {
    "duration": 0,
    "start_time": "2025-01-04T01:28:26.527Z"
   },
   {
    "duration": 0,
    "start_time": "2025-01-04T01:28:26.529Z"
   },
   {
    "duration": 0,
    "start_time": "2025-01-04T01:28:26.530Z"
   },
   {
    "duration": 0,
    "start_time": "2025-01-04T01:28:26.531Z"
   },
   {
    "duration": 0,
    "start_time": "2025-01-04T01:28:26.532Z"
   },
   {
    "duration": 0,
    "start_time": "2025-01-04T01:28:26.533Z"
   },
   {
    "duration": 89,
    "start_time": "2025-01-04T01:29:04.460Z"
   },
   {
    "duration": 88,
    "start_time": "2025-01-04T01:29:18.987Z"
   },
   {
    "duration": 187,
    "start_time": "2025-01-04T01:32:01.454Z"
   },
   {
    "duration": 172,
    "start_time": "2025-01-04T01:32:21.749Z"
   },
   {
    "duration": 135,
    "start_time": "2025-01-04T01:36:44.967Z"
   },
   {
    "duration": 465,
    "start_time": "2025-01-04T01:36:57.767Z"
   },
   {
    "duration": 154,
    "start_time": "2025-01-04T01:37:23.233Z"
   },
   {
    "duration": 95,
    "start_time": "2025-01-04T01:38:28.825Z"
   },
   {
    "duration": 156,
    "start_time": "2025-01-04T01:40:09.423Z"
   },
   {
    "duration": 151,
    "start_time": "2025-01-04T01:41:07.510Z"
   },
   {
    "duration": 237,
    "start_time": "2025-01-04T01:46:47.402Z"
   },
   {
    "duration": 209,
    "start_time": "2025-01-04T01:47:18.903Z"
   },
   {
    "duration": 207,
    "start_time": "2025-01-04T01:47:31.158Z"
   },
   {
    "duration": 192,
    "start_time": "2025-01-04T01:49:50.375Z"
   },
   {
    "duration": 292,
    "start_time": "2025-01-04T01:50:23.053Z"
   },
   {
    "duration": 902,
    "start_time": "2025-01-04T01:50:23.348Z"
   },
   {
    "duration": 13,
    "start_time": "2025-01-04T01:50:24.251Z"
   },
   {
    "duration": 11,
    "start_time": "2025-01-04T01:50:24.266Z"
   },
   {
    "duration": 29,
    "start_time": "2025-01-04T01:50:24.280Z"
   },
   {
    "duration": 11,
    "start_time": "2025-01-04T01:50:24.311Z"
   },
   {
    "duration": 29,
    "start_time": "2025-01-04T01:50:24.325Z"
   },
   {
    "duration": 261,
    "start_time": "2025-01-04T01:50:24.356Z"
   },
   {
    "duration": 3,
    "start_time": "2025-01-04T01:50:24.619Z"
   },
   {
    "duration": 3,
    "start_time": "2025-01-04T01:50:24.624Z"
   },
   {
    "duration": 3,
    "start_time": "2025-01-04T01:50:24.629Z"
   },
   {
    "duration": 3,
    "start_time": "2025-01-04T01:50:24.635Z"
   },
   {
    "duration": 3,
    "start_time": "2025-01-04T01:50:24.640Z"
   },
   {
    "duration": 3,
    "start_time": "2025-01-04T01:50:24.647Z"
   },
   {
    "duration": 3,
    "start_time": "2025-01-04T01:50:24.652Z"
   },
   {
    "duration": 3,
    "start_time": "2025-01-04T01:50:24.658Z"
   },
   {
    "duration": 3,
    "start_time": "2025-01-04T01:50:24.709Z"
   },
   {
    "duration": 3,
    "start_time": "2025-01-04T01:50:24.713Z"
   },
   {
    "duration": 4,
    "start_time": "2025-01-04T01:50:24.718Z"
   },
   {
    "duration": 3,
    "start_time": "2025-01-04T01:50:24.723Z"
   },
   {
    "duration": 3,
    "start_time": "2025-01-04T01:50:24.727Z"
   },
   {
    "duration": 3,
    "start_time": "2025-01-04T01:50:24.732Z"
   },
   {
    "duration": 3,
    "start_time": "2025-01-04T01:50:24.736Z"
   },
   {
    "duration": 3,
    "start_time": "2025-01-04T01:50:24.740Z"
   },
   {
    "duration": 3,
    "start_time": "2025-01-04T01:50:24.744Z"
   },
   {
    "duration": 3,
    "start_time": "2025-01-04T01:50:24.748Z"
   },
   {
    "duration": 3,
    "start_time": "2025-01-04T01:50:24.753Z"
   },
   {
    "duration": 3,
    "start_time": "2025-01-04T01:50:24.757Z"
   },
   {
    "duration": 48,
    "start_time": "2025-01-04T01:50:24.761Z"
   },
   {
    "duration": 3,
    "start_time": "2025-01-04T01:50:24.811Z"
   },
   {
    "duration": 3,
    "start_time": "2025-01-04T01:50:24.815Z"
   },
   {
    "duration": 2,
    "start_time": "2025-01-04T01:50:24.820Z"
   },
   {
    "duration": 3,
    "start_time": "2025-01-04T01:50:24.824Z"
   },
   {
    "duration": 2,
    "start_time": "2025-01-04T01:50:24.828Z"
   },
   {
    "duration": 177,
    "start_time": "2025-01-04T01:51:29.717Z"
   },
   {
    "duration": 340,
    "start_time": "2025-01-04T01:56:34.649Z"
   },
   {
    "duration": 896,
    "start_time": "2025-01-04T01:56:34.991Z"
   },
   {
    "duration": 20,
    "start_time": "2025-01-04T01:56:35.889Z"
   },
   {
    "duration": 9,
    "start_time": "2025-01-04T01:56:35.912Z"
   },
   {
    "duration": 8,
    "start_time": "2025-01-04T01:56:35.924Z"
   },
   {
    "duration": 8,
    "start_time": "2025-01-04T01:56:35.934Z"
   },
   {
    "duration": 25,
    "start_time": "2025-01-04T01:56:35.944Z"
   },
   {
    "duration": 213,
    "start_time": "2025-01-04T01:56:35.971Z"
   },
   {
    "duration": 2,
    "start_time": "2025-01-04T01:56:36.186Z"
   },
   {
    "duration": 2,
    "start_time": "2025-01-04T01:56:36.190Z"
   },
   {
    "duration": 3,
    "start_time": "2025-01-04T01:56:36.194Z"
   },
   {
    "duration": 2,
    "start_time": "2025-01-04T01:56:36.210Z"
   },
   {
    "duration": 3,
    "start_time": "2025-01-04T01:56:36.213Z"
   },
   {
    "duration": 2,
    "start_time": "2025-01-04T01:56:36.219Z"
   },
   {
    "duration": 3,
    "start_time": "2025-01-04T01:56:36.222Z"
   },
   {
    "duration": 3,
    "start_time": "2025-01-04T01:56:36.227Z"
   },
   {
    "duration": 3,
    "start_time": "2025-01-04T01:56:36.231Z"
   },
   {
    "duration": 3,
    "start_time": "2025-01-04T01:56:36.235Z"
   },
   {
    "duration": 2,
    "start_time": "2025-01-04T01:56:36.241Z"
   },
   {
    "duration": 2,
    "start_time": "2025-01-04T01:56:36.245Z"
   },
   {
    "duration": 3,
    "start_time": "2025-01-04T01:56:36.249Z"
   },
   {
    "duration": 3,
    "start_time": "2025-01-04T01:56:36.254Z"
   },
   {
    "duration": 3,
    "start_time": "2025-01-04T01:56:36.309Z"
   },
   {
    "duration": 2,
    "start_time": "2025-01-04T01:56:36.314Z"
   },
   {
    "duration": 3,
    "start_time": "2025-01-04T01:56:36.318Z"
   },
   {
    "duration": 4,
    "start_time": "2025-01-04T01:56:36.322Z"
   },
   {
    "duration": 3,
    "start_time": "2025-01-04T01:56:36.327Z"
   },
   {
    "duration": 2,
    "start_time": "2025-01-04T01:56:36.332Z"
   },
   {
    "duration": 3,
    "start_time": "2025-01-04T01:56:36.336Z"
   },
   {
    "duration": 4,
    "start_time": "2025-01-04T01:56:36.340Z"
   },
   {
    "duration": 3,
    "start_time": "2025-01-04T01:56:36.345Z"
   },
   {
    "duration": 2,
    "start_time": "2025-01-04T01:56:36.350Z"
   },
   {
    "duration": 3,
    "start_time": "2025-01-04T01:56:36.354Z"
   },
   {
    "duration": 51,
    "start_time": "2025-01-04T01:56:36.358Z"
   },
   {
    "duration": 7,
    "start_time": "2025-01-04T02:06:12.167Z"
   },
   {
    "duration": 561,
    "start_time": "2025-01-04T02:06:25.449Z"
   },
   {
    "duration": 11,
    "start_time": "2025-01-04T02:09:30.605Z"
   },
   {
    "duration": 8,
    "start_time": "2025-01-04T02:09:52.182Z"
   },
   {
    "duration": 9,
    "start_time": "2025-01-04T02:11:43.591Z"
   },
   {
    "duration": 199,
    "start_time": "2025-01-04T02:15:25.846Z"
   },
   {
    "duration": 161,
    "start_time": "2025-01-04T19:12:43.262Z"
   },
   {
    "duration": 307,
    "start_time": "2025-01-04T19:12:59.867Z"
   },
   {
    "duration": 988,
    "start_time": "2025-01-04T19:13:00.176Z"
   },
   {
    "duration": 15,
    "start_time": "2025-01-04T19:13:01.166Z"
   },
   {
    "duration": 11,
    "start_time": "2025-01-04T19:13:01.189Z"
   },
   {
    "duration": 10,
    "start_time": "2025-01-04T19:13:01.204Z"
   },
   {
    "duration": 8,
    "start_time": "2025-01-04T19:13:01.215Z"
   },
   {
    "duration": 24,
    "start_time": "2025-01-04T19:13:01.225Z"
   },
   {
    "duration": 205,
    "start_time": "2025-01-04T19:13:01.251Z"
   },
   {
    "duration": 8,
    "start_time": "2025-01-04T19:13:01.458Z"
   },
   {
    "duration": 125,
    "start_time": "2025-01-04T19:13:01.467Z"
   },
   {
    "duration": 2,
    "start_time": "2025-01-04T19:13:01.594Z"
   },
   {
    "duration": 3,
    "start_time": "2025-01-04T19:13:01.606Z"
   },
   {
    "duration": 3,
    "start_time": "2025-01-04T19:13:01.610Z"
   },
   {
    "duration": 2,
    "start_time": "2025-01-04T19:13:01.617Z"
   },
   {
    "duration": 3,
    "start_time": "2025-01-04T19:13:01.621Z"
   },
   {
    "duration": 3,
    "start_time": "2025-01-04T19:13:01.625Z"
   },
   {
    "duration": 3,
    "start_time": "2025-01-04T19:13:01.629Z"
   },
   {
    "duration": 2,
    "start_time": "2025-01-04T19:13:01.634Z"
   },
   {
    "duration": 3,
    "start_time": "2025-01-04T19:13:01.638Z"
   },
   {
    "duration": 3,
    "start_time": "2025-01-04T19:13:01.643Z"
   },
   {
    "duration": 2,
    "start_time": "2025-01-04T19:13:01.648Z"
   },
   {
    "duration": 3,
    "start_time": "2025-01-04T19:13:01.651Z"
   },
   {
    "duration": 51,
    "start_time": "2025-01-04T19:13:01.655Z"
   },
   {
    "duration": 3,
    "start_time": "2025-01-04T19:13:01.707Z"
   },
   {
    "duration": 5,
    "start_time": "2025-01-04T19:13:01.711Z"
   },
   {
    "duration": 3,
    "start_time": "2025-01-04T19:13:01.717Z"
   },
   {
    "duration": 3,
    "start_time": "2025-01-04T19:13:01.721Z"
   },
   {
    "duration": 3,
    "start_time": "2025-01-04T19:13:01.725Z"
   },
   {
    "duration": 3,
    "start_time": "2025-01-04T19:13:01.729Z"
   },
   {
    "duration": 2,
    "start_time": "2025-01-04T19:13:01.734Z"
   },
   {
    "duration": 2,
    "start_time": "2025-01-04T19:13:01.738Z"
   },
   {
    "duration": 2,
    "start_time": "2025-01-04T19:13:01.742Z"
   },
   {
    "duration": 2,
    "start_time": "2025-01-04T19:13:01.746Z"
   },
   {
    "duration": 3,
    "start_time": "2025-01-04T19:13:01.750Z"
   },
   {
    "duration": 4,
    "start_time": "2025-01-04T19:14:10.662Z"
   },
   {
    "duration": 92,
    "start_time": "2025-01-04T19:14:17.469Z"
   },
   {
    "duration": 96,
    "start_time": "2025-01-04T19:16:17.494Z"
   },
   {
    "duration": 81,
    "start_time": "2025-01-04T19:16:23.583Z"
   },
   {
    "duration": 526,
    "start_time": "2025-01-04T19:17:54.636Z"
   },
   {
    "duration": 13,
    "start_time": "2025-01-04T19:18:16.505Z"
   },
   {
    "duration": 240,
    "start_time": "2025-01-04T19:18:32.603Z"
   },
   {
    "duration": 105,
    "start_time": "2025-01-04T19:19:26.147Z"
   },
   {
    "duration": 41,
    "start_time": "2025-01-04T19:21:19.617Z"
   },
   {
    "duration": 8,
    "start_time": "2025-01-04T19:23:32.319Z"
   },
   {
    "duration": 290,
    "start_time": "2025-01-04T19:23:49.383Z"
   },
   {
    "duration": 884,
    "start_time": "2025-01-04T19:23:49.676Z"
   },
   {
    "duration": 10,
    "start_time": "2025-01-04T19:23:50.562Z"
   },
   {
    "duration": 9,
    "start_time": "2025-01-04T19:23:50.574Z"
   },
   {
    "duration": 24,
    "start_time": "2025-01-04T19:23:50.586Z"
   },
   {
    "duration": 8,
    "start_time": "2025-01-04T19:23:50.612Z"
   },
   {
    "duration": 23,
    "start_time": "2025-01-04T19:23:50.622Z"
   },
   {
    "duration": 215,
    "start_time": "2025-01-04T19:23:50.647Z"
   },
   {
    "duration": 7,
    "start_time": "2025-01-04T19:23:50.864Z"
   },
   {
    "duration": 113,
    "start_time": "2025-01-04T19:23:50.873Z"
   },
   {
    "duration": 89,
    "start_time": "2025-01-04T19:23:50.988Z"
   },
   {
    "duration": 54,
    "start_time": "2025-01-04T19:23:51.079Z"
   },
   {
    "duration": 2,
    "start_time": "2025-01-04T19:23:51.135Z"
   },
   {
    "duration": 2,
    "start_time": "2025-01-04T19:23:51.140Z"
   },
   {
    "duration": 3,
    "start_time": "2025-01-04T19:23:51.143Z"
   },
   {
    "duration": 2,
    "start_time": "2025-01-04T19:23:51.148Z"
   },
   {
    "duration": 3,
    "start_time": "2025-01-04T19:23:51.152Z"
   },
   {
    "duration": 2,
    "start_time": "2025-01-04T19:23:51.157Z"
   },
   {
    "duration": 2,
    "start_time": "2025-01-04T19:23:51.161Z"
   },
   {
    "duration": 4,
    "start_time": "2025-01-04T19:23:51.164Z"
   },
   {
    "duration": 3,
    "start_time": "2025-01-04T19:23:51.169Z"
   },
   {
    "duration": 2,
    "start_time": "2025-01-04T19:23:51.206Z"
   },
   {
    "duration": 3,
    "start_time": "2025-01-04T19:23:51.209Z"
   },
   {
    "duration": 3,
    "start_time": "2025-01-04T19:23:51.213Z"
   },
   {
    "duration": 3,
    "start_time": "2025-01-04T19:23:51.217Z"
   },
   {
    "duration": 3,
    "start_time": "2025-01-04T19:23:51.221Z"
   },
   {
    "duration": 2,
    "start_time": "2025-01-04T19:23:51.225Z"
   },
   {
    "duration": 3,
    "start_time": "2025-01-04T19:23:51.229Z"
   },
   {
    "duration": 2,
    "start_time": "2025-01-04T19:23:51.234Z"
   },
   {
    "duration": 2,
    "start_time": "2025-01-04T19:23:51.238Z"
   },
   {
    "duration": 2,
    "start_time": "2025-01-04T19:23:51.242Z"
   },
   {
    "duration": 3,
    "start_time": "2025-01-04T19:23:51.245Z"
   },
   {
    "duration": 3,
    "start_time": "2025-01-04T19:23:51.249Z"
   },
   {
    "duration": 51,
    "start_time": "2025-01-04T19:23:51.254Z"
   },
   {
    "duration": 22,
    "start_time": "2025-01-04T19:32:56.735Z"
   },
   {
    "duration": 327,
    "start_time": "2025-01-04T19:33:55.925Z"
   },
   {
    "duration": 869,
    "start_time": "2025-01-04T19:33:56.254Z"
   },
   {
    "duration": 12,
    "start_time": "2025-01-04T19:33:57.125Z"
   },
   {
    "duration": 11,
    "start_time": "2025-01-04T19:33:57.139Z"
   },
   {
    "duration": 10,
    "start_time": "2025-01-04T19:33:57.153Z"
   },
   {
    "duration": 7,
    "start_time": "2025-01-04T19:33:57.165Z"
   },
   {
    "duration": 47,
    "start_time": "2025-01-04T19:33:57.173Z"
   },
   {
    "duration": 181,
    "start_time": "2025-01-04T19:33:57.223Z"
   },
   {
    "duration": 8,
    "start_time": "2025-01-04T19:33:57.405Z"
   },
   {
    "duration": 105,
    "start_time": "2025-01-04T19:33:57.415Z"
   },
   {
    "duration": 88,
    "start_time": "2025-01-04T19:33:57.521Z"
   },
   {
    "duration": 46,
    "start_time": "2025-01-04T19:33:57.611Z"
   },
   {
    "duration": 21,
    "start_time": "2025-01-04T19:33:57.658Z"
   },
   {
    "duration": 22,
    "start_time": "2025-01-04T19:33:57.683Z"
   },
   {
    "duration": 2,
    "start_time": "2025-01-04T19:33:57.707Z"
   },
   {
    "duration": 3,
    "start_time": "2025-01-04T19:33:57.711Z"
   },
   {
    "duration": 3,
    "start_time": "2025-01-04T19:33:57.716Z"
   },
   {
    "duration": 3,
    "start_time": "2025-01-04T19:33:57.720Z"
   },
   {
    "duration": 3,
    "start_time": "2025-01-04T19:33:57.724Z"
   },
   {
    "duration": 2,
    "start_time": "2025-01-04T19:33:57.729Z"
   },
   {
    "duration": 2,
    "start_time": "2025-01-04T19:33:57.733Z"
   },
   {
    "duration": 2,
    "start_time": "2025-01-04T19:33:57.737Z"
   },
   {
    "duration": 2,
    "start_time": "2025-01-04T19:33:57.741Z"
   },
   {
    "duration": 2,
    "start_time": "2025-01-04T19:33:57.745Z"
   },
   {
    "duration": 2,
    "start_time": "2025-01-04T19:33:57.749Z"
   },
   {
    "duration": 2,
    "start_time": "2025-01-04T19:33:57.753Z"
   },
   {
    "duration": 3,
    "start_time": "2025-01-04T19:33:57.805Z"
   },
   {
    "duration": 3,
    "start_time": "2025-01-04T19:33:57.809Z"
   },
   {
    "duration": 5,
    "start_time": "2025-01-04T19:33:57.813Z"
   },
   {
    "duration": 2,
    "start_time": "2025-01-04T19:33:57.820Z"
   },
   {
    "duration": 2,
    "start_time": "2025-01-04T19:33:57.824Z"
   },
   {
    "duration": 2,
    "start_time": "2025-01-04T19:33:57.828Z"
   },
   {
    "duration": 2,
    "start_time": "2025-01-04T19:33:57.832Z"
   },
   {
    "duration": 2,
    "start_time": "2025-01-04T19:33:57.836Z"
   },
   {
    "duration": 17,
    "start_time": "2025-01-04T19:34:11.379Z"
   },
   {
    "duration": 354,
    "start_time": "2025-01-04T19:42:13.566Z"
   },
   {
    "duration": 6,
    "start_time": "2025-01-04T19:43:31.511Z"
   },
   {
    "duration": 13,
    "start_time": "2025-01-04T19:47:35.192Z"
   },
   {
    "duration": 14,
    "start_time": "2025-01-04T19:50:00.902Z"
   },
   {
    "duration": 2,
    "start_time": "2025-01-04T19:50:02.852Z"
   },
   {
    "duration": 16,
    "start_time": "2025-01-04T19:50:25.532Z"
   },
   {
    "duration": 25,
    "start_time": "2025-01-04T19:51:27.693Z"
   },
   {
    "duration": 7,
    "start_time": "2025-01-04T19:54:49.961Z"
   },
   {
    "duration": 10,
    "start_time": "2025-01-04T20:00:29.781Z"
   },
   {
    "duration": 8,
    "start_time": "2025-01-04T20:01:31.002Z"
   },
   {
    "duration": 40,
    "start_time": "2025-01-04T20:05:36.461Z"
   },
   {
    "duration": 7,
    "start_time": "2025-01-04T20:10:32.892Z"
   },
   {
    "duration": 6,
    "start_time": "2025-01-04T20:10:57.303Z"
   },
   {
    "duration": 7,
    "start_time": "2025-01-04T20:12:03.669Z"
   },
   {
    "duration": 236,
    "start_time": "2025-01-04T20:12:31.474Z"
   },
   {
    "duration": 11,
    "start_time": "2025-01-04T20:12:59.672Z"
   },
   {
    "duration": 13,
    "start_time": "2025-01-04T20:15:04.396Z"
   },
   {
    "duration": 4,
    "start_time": "2025-01-04T20:28:53.096Z"
   },
   {
    "duration": 9,
    "start_time": "2025-01-04T20:29:16.572Z"
   },
   {
    "duration": 10,
    "start_time": "2025-01-04T20:30:02.314Z"
   },
   {
    "duration": 85,
    "start_time": "2025-01-04T20:32:03.525Z"
   },
   {
    "duration": 10,
    "start_time": "2025-01-04T20:35:38.285Z"
   },
   {
    "duration": 288,
    "start_time": "2025-01-04T20:35:50.066Z"
   },
   {
    "duration": 870,
    "start_time": "2025-01-04T20:35:50.356Z"
   },
   {
    "duration": 12,
    "start_time": "2025-01-04T20:35:51.228Z"
   },
   {
    "duration": 9,
    "start_time": "2025-01-04T20:35:51.241Z"
   },
   {
    "duration": 8,
    "start_time": "2025-01-04T20:35:51.252Z"
   },
   {
    "duration": 7,
    "start_time": "2025-01-04T20:35:51.261Z"
   },
   {
    "duration": 48,
    "start_time": "2025-01-04T20:35:51.270Z"
   },
   {
    "duration": 14,
    "start_time": "2025-01-04T20:35:51.320Z"
   },
   {
    "duration": 10,
    "start_time": "2025-01-04T20:35:51.335Z"
   },
   {
    "duration": 219,
    "start_time": "2025-01-04T20:35:51.347Z"
   },
   {
    "duration": 8,
    "start_time": "2025-01-04T20:35:51.568Z"
   },
   {
    "duration": 106,
    "start_time": "2025-01-04T20:35:51.577Z"
   },
   {
    "duration": 100,
    "start_time": "2025-01-04T20:35:51.685Z"
   },
   {
    "duration": 42,
    "start_time": "2025-01-04T20:35:51.790Z"
   },
   {
    "duration": 19,
    "start_time": "2025-01-04T20:35:51.834Z"
   },
   {
    "duration": 6,
    "start_time": "2025-01-04T20:35:51.854Z"
   },
   {
    "duration": 50,
    "start_time": "2025-01-04T20:35:51.861Z"
   },
   {
    "duration": 8,
    "start_time": "2025-01-04T20:35:51.912Z"
   },
   {
    "duration": 2,
    "start_time": "2025-01-04T20:35:51.922Z"
   },
   {
    "duration": 2,
    "start_time": "2025-01-04T20:35:51.926Z"
   },
   {
    "duration": 2,
    "start_time": "2025-01-04T20:35:51.930Z"
   },
   {
    "duration": 2,
    "start_time": "2025-01-04T20:35:51.934Z"
   },
   {
    "duration": 3,
    "start_time": "2025-01-04T20:35:51.937Z"
   },
   {
    "duration": 3,
    "start_time": "2025-01-04T20:35:51.941Z"
   },
   {
    "duration": 2,
    "start_time": "2025-01-04T20:35:51.945Z"
   },
   {
    "duration": 2,
    "start_time": "2025-01-04T20:35:51.949Z"
   },
   {
    "duration": 3,
    "start_time": "2025-01-04T20:35:51.953Z"
   },
   {
    "duration": 3,
    "start_time": "2025-01-04T20:35:52.004Z"
   },
   {
    "duration": 3,
    "start_time": "2025-01-04T20:35:52.009Z"
   },
   {
    "duration": 2,
    "start_time": "2025-01-04T20:35:52.014Z"
   },
   {
    "duration": 3,
    "start_time": "2025-01-04T20:35:52.018Z"
   },
   {
    "duration": 2,
    "start_time": "2025-01-04T20:35:52.023Z"
   },
   {
    "duration": 2,
    "start_time": "2025-01-04T20:35:52.027Z"
   },
   {
    "duration": 2,
    "start_time": "2025-01-04T20:35:52.030Z"
   },
   {
    "duration": 2,
    "start_time": "2025-01-04T20:35:52.034Z"
   },
   {
    "duration": 2,
    "start_time": "2025-01-04T20:35:52.038Z"
   },
   {
    "duration": 558,
    "start_time": "2025-01-04T20:40:18.404Z"
   },
   {
    "duration": 13,
    "start_time": "2025-01-04T20:40:38.415Z"
   },
   {
    "duration": 22,
    "start_time": "2025-01-04T20:43:29.133Z"
   },
   {
    "duration": 48,
    "start_time": "2025-01-04T20:43:48.863Z"
   },
   {
    "duration": 13,
    "start_time": "2025-01-04T20:45:35.295Z"
   },
   {
    "duration": 12,
    "start_time": "2025-01-04T20:59:09.394Z"
   },
   {
    "duration": 17,
    "start_time": "2025-01-04T20:59:49.297Z"
   },
   {
    "duration": 15,
    "start_time": "2025-01-04T21:00:24.811Z"
   },
   {
    "duration": 18,
    "start_time": "2025-01-04T21:01:14.035Z"
   },
   {
    "duration": 9,
    "start_time": "2025-01-04T21:12:21.507Z"
   },
   {
    "duration": 21,
    "start_time": "2025-01-04T21:15:11.562Z"
   },
   {
    "duration": 23,
    "start_time": "2025-01-04T21:15:21.494Z"
   },
   {
    "duration": 34,
    "start_time": "2025-01-04T21:15:36.404Z"
   },
   {
    "duration": 3,
    "start_time": "2025-01-04T21:17:49.504Z"
   },
   {
    "duration": 14,
    "start_time": "2025-01-04T21:17:57.013Z"
   },
   {
    "duration": 18,
    "start_time": "2025-01-04T21:20:19.646Z"
   },
   {
    "duration": 28,
    "start_time": "2025-01-04T21:21:08.531Z"
   },
   {
    "duration": 18,
    "start_time": "2025-01-04T21:21:56.846Z"
   },
   {
    "duration": 23,
    "start_time": "2025-01-04T21:22:44.193Z"
   },
   {
    "duration": 22,
    "start_time": "2025-01-04T21:23:15.153Z"
   },
   {
    "duration": 45,
    "start_time": "2025-01-04T21:24:04.605Z"
   },
   {
    "duration": 24,
    "start_time": "2025-01-04T21:27:35.821Z"
   },
   {
    "duration": 21,
    "start_time": "2025-01-04T21:28:08.140Z"
   },
   {
    "duration": 20,
    "start_time": "2025-01-04T21:29:42.654Z"
   },
   {
    "duration": 9,
    "start_time": "2025-01-04T21:32:40.704Z"
   },
   {
    "duration": 8,
    "start_time": "2025-01-04T21:34:18.777Z"
   },
   {
    "duration": 9,
    "start_time": "2025-01-04T21:34:48.634Z"
   },
   {
    "duration": 19,
    "start_time": "2025-01-04T21:47:25.862Z"
   },
   {
    "duration": 34,
    "start_time": "2025-01-04T21:49:22.786Z"
   },
   {
    "duration": 22,
    "start_time": "2025-01-04T21:49:52.881Z"
   },
   {
    "duration": 29,
    "start_time": "2025-01-04T21:49:59.399Z"
   },
   {
    "duration": 8,
    "start_time": "2025-01-04T21:51:39.803Z"
   },
   {
    "duration": 4,
    "start_time": "2025-01-04T21:55:03.291Z"
   },
   {
    "duration": 6,
    "start_time": "2025-01-04T21:55:56.303Z"
   },
   {
    "duration": 4,
    "start_time": "2025-01-04T21:57:10.700Z"
   },
   {
    "duration": 4,
    "start_time": "2025-01-04T21:58:15.645Z"
   },
   {
    "duration": 5,
    "start_time": "2025-01-04T22:00:04.731Z"
   },
   {
    "duration": 6,
    "start_time": "2025-01-04T22:00:17.919Z"
   },
   {
    "duration": 4,
    "start_time": "2025-01-04T22:00:42.845Z"
   },
   {
    "duration": 5,
    "start_time": "2025-01-04T22:02:02.478Z"
   },
   {
    "duration": 6,
    "start_time": "2025-01-04T22:02:19.786Z"
   },
   {
    "duration": 7,
    "start_time": "2025-01-04T22:02:35.756Z"
   },
   {
    "duration": 5,
    "start_time": "2025-01-04T22:03:36.176Z"
   },
   {
    "duration": 5,
    "start_time": "2025-01-04T22:03:50.905Z"
   },
   {
    "duration": 4,
    "start_time": "2025-01-04T22:04:04.906Z"
   },
   {
    "duration": 22,
    "start_time": "2025-01-04T22:04:39.885Z"
   },
   {
    "duration": 5,
    "start_time": "2025-01-04T22:04:44.658Z"
   },
   {
    "duration": 5,
    "start_time": "2025-01-04T22:05:28.129Z"
   },
   {
    "duration": 764,
    "start_time": "2025-01-04T22:06:29.142Z"
   },
   {
    "duration": 8,
    "start_time": "2025-01-04T22:07:44.024Z"
   },
   {
    "duration": 424,
    "start_time": "2025-01-04T22:09:13.110Z"
   },
   {
    "duration": 529,
    "start_time": "2025-01-04T22:12:58.709Z"
   },
   {
    "duration": 450,
    "start_time": "2025-01-04T22:13:56.117Z"
   },
   {
    "duration": 613,
    "start_time": "2025-01-04T22:18:54.975Z"
   },
   {
    "duration": 91,
    "start_time": "2025-01-04T22:24:10.287Z"
   },
   {
    "duration": 65,
    "start_time": "2025-01-04T22:25:29.046Z"
   },
   {
    "duration": 22,
    "start_time": "2025-01-04T22:26:46.218Z"
   },
   {
    "duration": 24,
    "start_time": "2025-01-04T22:27:11.065Z"
   },
   {
    "duration": 26,
    "start_time": "2025-01-04T22:29:14.422Z"
   },
   {
    "duration": 37,
    "start_time": "2025-01-04T22:30:01.289Z"
   },
   {
    "duration": 33,
    "start_time": "2025-01-04T22:30:14.917Z"
   },
   {
    "duration": 26,
    "start_time": "2025-01-04T22:31:11.378Z"
   },
   {
    "duration": 32,
    "start_time": "2025-01-04T22:34:05.986Z"
   },
   {
    "duration": 48,
    "start_time": "2025-01-04T22:44:41.455Z"
   },
   {
    "duration": 304,
    "start_time": "2025-01-04T22:45:04.553Z"
   },
   {
    "duration": 864,
    "start_time": "2025-01-04T22:45:04.859Z"
   },
   {
    "duration": 12,
    "start_time": "2025-01-04T22:45:05.724Z"
   },
   {
    "duration": 9,
    "start_time": "2025-01-04T22:45:05.738Z"
   },
   {
    "duration": 7,
    "start_time": "2025-01-04T22:45:05.750Z"
   },
   {
    "duration": 8,
    "start_time": "2025-01-04T22:45:05.758Z"
   },
   {
    "duration": 59,
    "start_time": "2025-01-04T22:45:05.768Z"
   },
   {
    "duration": 14,
    "start_time": "2025-01-04T22:45:05.829Z"
   },
   {
    "duration": 10,
    "start_time": "2025-01-04T22:45:05.844Z"
   },
   {
    "duration": 14,
    "start_time": "2025-01-04T22:45:05.856Z"
   },
   {
    "duration": 7,
    "start_time": "2025-01-04T22:45:05.872Z"
   },
   {
    "duration": 60,
    "start_time": "2025-01-04T22:45:05.880Z"
   },
   {
    "duration": 70,
    "start_time": "2025-01-04T22:45:05.942Z"
   },
   {
    "duration": 167,
    "start_time": "2025-01-04T22:45:06.016Z"
   },
   {
    "duration": 7,
    "start_time": "2025-01-04T22:45:06.184Z"
   },
   {
    "duration": 95,
    "start_time": "2025-01-04T22:45:06.192Z"
   },
   {
    "duration": 88,
    "start_time": "2025-01-04T22:45:06.289Z"
   },
   {
    "duration": 47,
    "start_time": "2025-01-04T22:45:06.379Z"
   },
   {
    "duration": 22,
    "start_time": "2025-01-04T22:45:06.427Z"
   },
   {
    "duration": 4,
    "start_time": "2025-01-04T22:45:06.451Z"
   },
   {
    "duration": 56,
    "start_time": "2025-01-04T22:45:06.456Z"
   },
   {
    "duration": 18,
    "start_time": "2025-01-04T22:45:06.514Z"
   },
   {
    "duration": 8,
    "start_time": "2025-01-04T22:45:06.533Z"
   },
   {
    "duration": 28,
    "start_time": "2025-01-04T22:45:06.543Z"
   },
   {
    "duration": 4,
    "start_time": "2025-01-04T22:45:06.572Z"
   },
   {
    "duration": 4,
    "start_time": "2025-01-04T22:45:06.606Z"
   },
   {
    "duration": 5,
    "start_time": "2025-01-04T22:45:06.611Z"
   },
   {
    "duration": 4,
    "start_time": "2025-01-04T22:45:06.618Z"
   },
   {
    "duration": 754,
    "start_time": "2025-01-04T22:45:06.625Z"
   },
   {
    "duration": 427,
    "start_time": "2025-01-04T22:45:07.381Z"
   },
   {
    "duration": 2,
    "start_time": "2025-01-04T22:45:07.810Z"
   },
   {
    "duration": 3,
    "start_time": "2025-01-04T22:45:07.813Z"
   },
   {
    "duration": 2,
    "start_time": "2025-01-04T22:45:07.818Z"
   },
   {
    "duration": 2,
    "start_time": "2025-01-04T22:45:07.822Z"
   },
   {
    "duration": 3,
    "start_time": "2025-01-04T22:45:07.825Z"
   },
   {
    "duration": 3,
    "start_time": "2025-01-04T22:45:07.829Z"
   },
   {
    "duration": 2,
    "start_time": "2025-01-04T22:45:07.833Z"
   },
   {
    "duration": 3,
    "start_time": "2025-01-04T22:45:07.837Z"
   },
   {
    "duration": 2,
    "start_time": "2025-01-04T22:45:07.842Z"
   },
   {
    "duration": 2,
    "start_time": "2025-01-04T22:45:07.846Z"
   },
   {
    "duration": 2,
    "start_time": "2025-01-04T22:45:07.853Z"
   },
   {
    "duration": 50,
    "start_time": "2025-01-04T22:45:07.856Z"
   },
   {
    "duration": 10,
    "start_time": "2025-01-04T23:22:54.477Z"
   },
   {
    "duration": 52,
    "start_time": "2025-01-04T23:28:54.750Z"
   },
   {
    "duration": 8,
    "start_time": "2025-01-04T23:29:24.072Z"
   },
   {
    "duration": 9,
    "start_time": "2025-01-04T23:31:15.116Z"
   },
   {
    "duration": 8,
    "start_time": "2025-01-04T23:31:24.094Z"
   },
   {
    "duration": 8,
    "start_time": "2025-01-04T23:36:15.691Z"
   },
   {
    "duration": 11,
    "start_time": "2025-01-04T23:37:02.806Z"
   },
   {
    "duration": 9,
    "start_time": "2025-01-04T23:37:48.337Z"
   },
   {
    "duration": 272,
    "start_time": "2025-01-04T23:40:55.576Z"
   },
   {
    "duration": 892,
    "start_time": "2025-01-04T23:40:55.851Z"
   },
   {
    "duration": 11,
    "start_time": "2025-01-04T23:40:56.745Z"
   },
   {
    "duration": 8,
    "start_time": "2025-01-04T23:40:56.758Z"
   },
   {
    "duration": 7,
    "start_time": "2025-01-04T23:40:56.769Z"
   },
   {
    "duration": 35,
    "start_time": "2025-01-04T23:40:56.777Z"
   },
   {
    "duration": 24,
    "start_time": "2025-01-04T23:40:56.814Z"
   },
   {
    "duration": 175,
    "start_time": "2025-01-04T23:40:56.840Z"
   },
   {
    "duration": 8,
    "start_time": "2025-01-04T23:40:57.017Z"
   },
   {
    "duration": 103,
    "start_time": "2025-01-04T23:40:57.027Z"
   },
   {
    "duration": 91,
    "start_time": "2025-01-04T23:40:57.132Z"
   },
   {
    "duration": 47,
    "start_time": "2025-01-04T23:40:57.225Z"
   },
   {
    "duration": 34,
    "start_time": "2025-01-04T23:40:57.274Z"
   },
   {
    "duration": 5,
    "start_time": "2025-01-04T23:40:57.312Z"
   },
   {
    "duration": 29,
    "start_time": "2025-01-04T23:40:57.318Z"
   },
   {
    "duration": 17,
    "start_time": "2025-01-04T23:40:57.349Z"
   },
   {
    "duration": 9,
    "start_time": "2025-01-04T23:40:57.368Z"
   },
   {
    "duration": 52,
    "start_time": "2025-01-04T23:40:57.378Z"
   },
   {
    "duration": 7,
    "start_time": "2025-01-04T23:40:57.432Z"
   },
   {
    "duration": 5,
    "start_time": "2025-01-04T23:40:57.441Z"
   },
   {
    "duration": 4,
    "start_time": "2025-01-04T23:40:57.448Z"
   },
   {
    "duration": 5,
    "start_time": "2025-01-04T23:40:57.453Z"
   },
   {
    "duration": 5,
    "start_time": "2025-01-04T23:40:57.459Z"
   },
   {
    "duration": 781,
    "start_time": "2025-01-04T23:40:57.468Z"
   },
   {
    "duration": 470,
    "start_time": "2025-01-04T23:40:58.251Z"
   },
   {
    "duration": 15,
    "start_time": "2025-01-04T23:40:58.723Z"
   },
   {
    "duration": 8,
    "start_time": "2025-01-04T23:40:58.740Z"
   },
   {
    "duration": 12,
    "start_time": "2025-01-04T23:40:58.749Z"
   },
   {
    "duration": 11,
    "start_time": "2025-01-04T23:40:58.763Z"
   },
   {
    "duration": 67,
    "start_time": "2025-01-04T23:40:58.775Z"
   },
   {
    "duration": 30,
    "start_time": "2025-01-04T23:40:58.844Z"
   },
   {
    "duration": 29,
    "start_time": "2025-01-04T23:40:58.876Z"
   },
   {
    "duration": 6,
    "start_time": "2025-01-04T23:40:58.907Z"
   },
   {
    "duration": 50,
    "start_time": "2025-01-04T23:40:58.914Z"
   },
   {
    "duration": 58,
    "start_time": "2025-01-04T23:47:39.569Z"
   },
   {
    "duration": 6,
    "start_time": "2025-01-04T23:48:28.942Z"
   },
   {
    "duration": 285,
    "start_time": "2025-01-04T23:50:51.375Z"
   },
   {
    "duration": 886,
    "start_time": "2025-01-04T23:50:51.662Z"
   },
   {
    "duration": 12,
    "start_time": "2025-01-04T23:50:52.551Z"
   },
   {
    "duration": 10,
    "start_time": "2025-01-04T23:50:52.565Z"
   },
   {
    "duration": 7,
    "start_time": "2025-01-04T23:50:52.577Z"
   },
   {
    "duration": 8,
    "start_time": "2025-01-04T23:50:52.605Z"
   },
   {
    "duration": 25,
    "start_time": "2025-01-04T23:50:52.615Z"
   },
   {
    "duration": 188,
    "start_time": "2025-01-04T23:50:52.641Z"
   },
   {
    "duration": 8,
    "start_time": "2025-01-04T23:50:52.831Z"
   },
   {
    "duration": 105,
    "start_time": "2025-01-04T23:50:52.840Z"
   },
   {
    "duration": 95,
    "start_time": "2025-01-04T23:50:52.947Z"
   },
   {
    "duration": 43,
    "start_time": "2025-01-04T23:50:53.044Z"
   },
   {
    "duration": 33,
    "start_time": "2025-01-04T23:50:53.088Z"
   },
   {
    "duration": 5,
    "start_time": "2025-01-04T23:50:53.124Z"
   },
   {
    "duration": 30,
    "start_time": "2025-01-04T23:50:53.130Z"
   },
   {
    "duration": 16,
    "start_time": "2025-01-04T23:50:53.161Z"
   },
   {
    "duration": 31,
    "start_time": "2025-01-04T23:50:53.178Z"
   },
   {
    "duration": 25,
    "start_time": "2025-01-04T23:50:53.211Z"
   },
   {
    "duration": 8,
    "start_time": "2025-01-04T23:50:53.237Z"
   },
   {
    "duration": 4,
    "start_time": "2025-01-04T23:50:53.246Z"
   },
   {
    "duration": 5,
    "start_time": "2025-01-04T23:50:53.251Z"
   },
   {
    "duration": 4,
    "start_time": "2025-01-04T23:50:53.257Z"
   },
   {
    "duration": 4,
    "start_time": "2025-01-04T23:50:53.263Z"
   },
   {
    "duration": 810,
    "start_time": "2025-01-04T23:50:53.269Z"
   },
   {
    "duration": 489,
    "start_time": "2025-01-04T23:50:54.081Z"
   },
   {
    "duration": 13,
    "start_time": "2025-01-04T23:50:54.572Z"
   },
   {
    "duration": 23,
    "start_time": "2025-01-04T23:50:54.587Z"
   },
   {
    "duration": 12,
    "start_time": "2025-01-04T23:50:54.612Z"
   },
   {
    "duration": 11,
    "start_time": "2025-01-04T23:50:54.626Z"
   },
   {
    "duration": 39,
    "start_time": "2025-01-04T23:50:54.638Z"
   },
   {
    "duration": 56,
    "start_time": "2025-01-04T23:50:54.679Z"
   },
   {
    "duration": 8,
    "start_time": "2025-01-04T23:50:54.737Z"
   },
   {
    "duration": 5,
    "start_time": "2025-01-04T23:50:54.746Z"
   },
   {
    "duration": 68,
    "start_time": "2025-01-04T23:50:54.752Z"
   },
   {
    "duration": 54,
    "start_time": "2025-01-04T23:53:53.213Z"
   },
   {
    "duration": 6,
    "start_time": "2025-01-04T23:54:07.584Z"
   },
   {
    "duration": 6,
    "start_time": "2025-01-04T23:54:23.167Z"
   },
   {
    "duration": 379,
    "start_time": "2025-01-04T23:54:41.328Z"
   },
   {
    "duration": 942,
    "start_time": "2025-01-04T23:54:41.710Z"
   },
   {
    "duration": 13,
    "start_time": "2025-01-04T23:54:42.655Z"
   },
   {
    "duration": 10,
    "start_time": "2025-01-04T23:54:42.669Z"
   },
   {
    "duration": 7,
    "start_time": "2025-01-04T23:54:42.682Z"
   },
   {
    "duration": 9,
    "start_time": "2025-01-04T23:54:42.708Z"
   },
   {
    "duration": 38,
    "start_time": "2025-01-04T23:54:42.719Z"
   },
   {
    "duration": 218,
    "start_time": "2025-01-04T23:54:42.759Z"
   },
   {
    "duration": 11,
    "start_time": "2025-01-04T23:54:42.979Z"
   },
   {
    "duration": 113,
    "start_time": "2025-01-04T23:54:42.993Z"
   },
   {
    "duration": 85,
    "start_time": "2025-01-04T23:54:43.107Z"
   },
   {
    "duration": 49,
    "start_time": "2025-01-04T23:54:43.194Z"
   },
   {
    "duration": 19,
    "start_time": "2025-01-04T23:54:43.245Z"
   },
   {
    "duration": 4,
    "start_time": "2025-01-04T23:54:43.267Z"
   },
   {
    "duration": 53,
    "start_time": "2025-01-04T23:54:43.273Z"
   },
   {
    "duration": 22,
    "start_time": "2025-01-04T23:54:43.329Z"
   },
   {
    "duration": 8,
    "start_time": "2025-01-04T23:54:43.352Z"
   },
   {
    "duration": 52,
    "start_time": "2025-01-04T23:54:43.362Z"
   },
   {
    "duration": 9,
    "start_time": "2025-01-04T23:54:43.416Z"
   },
   {
    "duration": 5,
    "start_time": "2025-01-04T23:54:43.427Z"
   },
   {
    "duration": 5,
    "start_time": "2025-01-04T23:54:43.433Z"
   },
   {
    "duration": 4,
    "start_time": "2025-01-04T23:54:43.440Z"
   },
   {
    "duration": 4,
    "start_time": "2025-01-04T23:54:43.446Z"
   },
   {
    "duration": 808,
    "start_time": "2025-01-04T23:54:43.452Z"
   },
   {
    "duration": 448,
    "start_time": "2025-01-04T23:54:44.262Z"
   },
   {
    "duration": 13,
    "start_time": "2025-01-04T23:54:44.712Z"
   },
   {
    "duration": 7,
    "start_time": "2025-01-04T23:54:44.727Z"
   },
   {
    "duration": 13,
    "start_time": "2025-01-04T23:54:44.736Z"
   },
   {
    "duration": 10,
    "start_time": "2025-01-04T23:54:44.751Z"
   },
   {
    "duration": 70,
    "start_time": "2025-01-04T23:54:44.762Z"
   },
   {
    "duration": 30,
    "start_time": "2025-01-04T23:54:44.833Z"
   },
   {
    "duration": 7,
    "start_time": "2025-01-04T23:54:44.865Z"
   },
   {
    "duration": 9,
    "start_time": "2025-01-04T23:54:44.874Z"
   },
   {
    "duration": 49,
    "start_time": "2025-01-04T23:54:44.906Z"
   },
   {
    "duration": 322,
    "start_time": "2025-01-04T23:59:53.114Z"
   },
   {
    "duration": 871,
    "start_time": "2025-01-04T23:59:53.439Z"
   },
   {
    "duration": 11,
    "start_time": "2025-01-04T23:59:54.311Z"
   },
   {
    "duration": 10,
    "start_time": "2025-01-04T23:59:54.324Z"
   },
   {
    "duration": 8,
    "start_time": "2025-01-04T23:59:54.338Z"
   },
   {
    "duration": 8,
    "start_time": "2025-01-04T23:59:54.348Z"
   },
   {
    "duration": 52,
    "start_time": "2025-01-04T23:59:54.358Z"
   },
   {
    "duration": 172,
    "start_time": "2025-01-04T23:59:54.412Z"
   },
   {
    "duration": 8,
    "start_time": "2025-01-04T23:59:54.586Z"
   },
   {
    "duration": 91,
    "start_time": "2025-01-04T23:59:54.605Z"
   },
   {
    "duration": 91,
    "start_time": "2025-01-04T23:59:54.698Z"
   },
   {
    "duration": 57,
    "start_time": "2025-01-04T23:59:54.790Z"
   },
   {
    "duration": 19,
    "start_time": "2025-01-04T23:59:54.849Z"
   },
   {
    "duration": 5,
    "start_time": "2025-01-04T23:59:54.871Z"
   },
   {
    "duration": 48,
    "start_time": "2025-01-04T23:59:54.877Z"
   },
   {
    "duration": 16,
    "start_time": "2025-01-04T23:59:54.926Z"
   },
   {
    "duration": 9,
    "start_time": "2025-01-04T23:59:54.945Z"
   },
   {
    "duration": 24,
    "start_time": "2025-01-04T23:59:54.956Z"
   },
   {
    "duration": 28,
    "start_time": "2025-01-04T23:59:54.982Z"
   },
   {
    "duration": 4,
    "start_time": "2025-01-04T23:59:55.012Z"
   },
   {
    "duration": 4,
    "start_time": "2025-01-04T23:59:55.019Z"
   },
   {
    "duration": 4,
    "start_time": "2025-01-04T23:59:55.024Z"
   },
   {
    "duration": 4,
    "start_time": "2025-01-04T23:59:55.029Z"
   },
   {
    "duration": 787,
    "start_time": "2025-01-04T23:59:55.035Z"
   },
   {
    "duration": 455,
    "start_time": "2025-01-04T23:59:55.824Z"
   },
   {
    "duration": 24,
    "start_time": "2025-01-04T23:59:56.281Z"
   },
   {
    "duration": 8,
    "start_time": "2025-01-04T23:59:56.307Z"
   },
   {
    "duration": 12,
    "start_time": "2025-01-04T23:59:56.318Z"
   },
   {
    "duration": 10,
    "start_time": "2025-01-04T23:59:56.332Z"
   },
   {
    "duration": 64,
    "start_time": "2025-01-04T23:59:56.344Z"
   },
   {
    "duration": 28,
    "start_time": "2025-01-04T23:59:56.410Z"
   },
   {
    "duration": 8,
    "start_time": "2025-01-04T23:59:56.440Z"
   },
   {
    "duration": 9,
    "start_time": "2025-01-04T23:59:56.451Z"
   },
   {
    "duration": 71,
    "start_time": "2025-01-04T23:59:56.461Z"
   },
   {
    "duration": 29,
    "start_time": "2025-01-05T00:02:32.937Z"
   },
   {
    "duration": 289,
    "start_time": "2025-01-05T00:03:23.755Z"
   },
   {
    "duration": 874,
    "start_time": "2025-01-05T00:03:24.046Z"
   },
   {
    "duration": 11,
    "start_time": "2025-01-05T00:03:24.922Z"
   },
   {
    "duration": 8,
    "start_time": "2025-01-05T00:03:24.935Z"
   },
   {
    "duration": 9,
    "start_time": "2025-01-05T00:03:24.946Z"
   },
   {
    "duration": 9,
    "start_time": "2025-01-05T00:03:24.956Z"
   },
   {
    "duration": 56,
    "start_time": "2025-01-05T00:03:24.967Z"
   },
   {
    "duration": 176,
    "start_time": "2025-01-05T00:03:25.025Z"
   },
   {
    "duration": 10,
    "start_time": "2025-01-05T00:03:25.206Z"
   },
   {
    "duration": 94,
    "start_time": "2025-01-05T00:03:25.220Z"
   },
   {
    "duration": 93,
    "start_time": "2025-01-05T00:03:25.315Z"
   },
   {
    "duration": 47,
    "start_time": "2025-01-05T00:03:25.409Z"
   },
   {
    "duration": 18,
    "start_time": "2025-01-05T00:03:25.457Z"
   },
   {
    "duration": 4,
    "start_time": "2025-01-05T00:03:25.479Z"
   },
   {
    "duration": 30,
    "start_time": "2025-01-05T00:03:25.505Z"
   },
   {
    "duration": 15,
    "start_time": "2025-01-05T00:03:25.537Z"
   },
   {
    "duration": 7,
    "start_time": "2025-01-05T00:03:25.554Z"
   },
   {
    "duration": 48,
    "start_time": "2025-01-05T00:03:25.563Z"
   },
   {
    "duration": 10,
    "start_time": "2025-01-05T00:03:25.612Z"
   },
   {
    "duration": 4,
    "start_time": "2025-01-05T00:03:25.624Z"
   },
   {
    "duration": 4,
    "start_time": "2025-01-05T00:03:25.630Z"
   },
   {
    "duration": 3,
    "start_time": "2025-01-05T00:03:25.636Z"
   },
   {
    "duration": 4,
    "start_time": "2025-01-05T00:03:25.641Z"
   },
   {
    "duration": 759,
    "start_time": "2025-01-05T00:03:25.646Z"
   },
   {
    "duration": 463,
    "start_time": "2025-01-05T00:03:26.407Z"
   },
   {
    "duration": 13,
    "start_time": "2025-01-05T00:03:26.872Z"
   },
   {
    "duration": 21,
    "start_time": "2025-01-05T00:03:26.887Z"
   },
   {
    "duration": 13,
    "start_time": "2025-01-05T00:03:26.910Z"
   },
   {
    "duration": 12,
    "start_time": "2025-01-05T00:03:26.925Z"
   },
   {
    "duration": 37,
    "start_time": "2025-01-05T00:03:26.939Z"
   },
   {
    "duration": 55,
    "start_time": "2025-01-05T00:03:26.978Z"
   },
   {
    "duration": 8,
    "start_time": "2025-01-05T00:03:27.035Z"
   },
   {
    "duration": 9,
    "start_time": "2025-01-05T00:03:27.044Z"
   },
   {
    "duration": 71,
    "start_time": "2025-01-05T00:03:27.055Z"
   },
   {
    "duration": 314,
    "start_time": "2025-01-05T00:05:22.902Z"
   },
   {
    "duration": 864,
    "start_time": "2025-01-05T00:05:23.218Z"
   },
   {
    "duration": 12,
    "start_time": "2025-01-05T00:05:24.084Z"
   },
   {
    "duration": 9,
    "start_time": "2025-01-05T00:05:24.107Z"
   },
   {
    "duration": 8,
    "start_time": "2025-01-05T00:05:24.117Z"
   },
   {
    "duration": 9,
    "start_time": "2025-01-05T00:05:24.126Z"
   },
   {
    "duration": 28,
    "start_time": "2025-01-05T00:05:24.137Z"
   },
   {
    "duration": 194,
    "start_time": "2025-01-05T00:05:24.167Z"
   },
   {
    "duration": 8,
    "start_time": "2025-01-05T00:05:24.363Z"
   },
   {
    "duration": 101,
    "start_time": "2025-01-05T00:05:24.374Z"
   },
   {
    "duration": 99,
    "start_time": "2025-01-05T00:05:24.476Z"
   },
   {
    "duration": 49,
    "start_time": "2025-01-05T00:05:24.577Z"
   },
   {
    "duration": 18,
    "start_time": "2025-01-05T00:05:24.629Z"
   },
   {
    "duration": 5,
    "start_time": "2025-01-05T00:05:24.648Z"
   },
   {
    "duration": 50,
    "start_time": "2025-01-05T00:05:24.655Z"
   },
   {
    "duration": 11,
    "start_time": "2025-01-05T00:05:24.707Z"
   },
   {
    "duration": 8,
    "start_time": "2025-01-05T00:05:24.720Z"
   },
   {
    "duration": 26,
    "start_time": "2025-01-05T00:05:24.729Z"
   },
   {
    "duration": 8,
    "start_time": "2025-01-05T00:05:24.756Z"
   },
   {
    "duration": 5,
    "start_time": "2025-01-05T00:05:24.765Z"
   },
   {
    "duration": 9,
    "start_time": "2025-01-05T00:05:24.771Z"
   },
   {
    "duration": 5,
    "start_time": "2025-01-05T00:05:24.806Z"
   },
   {
    "duration": 5,
    "start_time": "2025-01-05T00:05:24.813Z"
   },
   {
    "duration": 752,
    "start_time": "2025-01-05T00:05:24.819Z"
   },
   {
    "duration": 447,
    "start_time": "2025-01-05T00:05:25.573Z"
   },
   {
    "duration": 14,
    "start_time": "2025-01-05T00:05:26.022Z"
   },
   {
    "duration": 8,
    "start_time": "2025-01-05T00:05:26.037Z"
   },
   {
    "duration": 12,
    "start_time": "2025-01-05T00:05:26.048Z"
   },
   {
    "duration": 11,
    "start_time": "2025-01-05T00:05:26.061Z"
   },
   {
    "duration": 67,
    "start_time": "2025-01-05T00:05:26.073Z"
   },
   {
    "duration": 28,
    "start_time": "2025-01-05T00:05:26.142Z"
   },
   {
    "duration": 8,
    "start_time": "2025-01-05T00:05:26.172Z"
   },
   {
    "duration": 29,
    "start_time": "2025-01-05T00:05:26.181Z"
   },
   {
    "duration": 49,
    "start_time": "2025-01-05T00:05:26.211Z"
   },
   {
    "duration": 301,
    "start_time": "2025-01-05T00:09:00.609Z"
   },
   {
    "duration": 892,
    "start_time": "2025-01-05T00:09:00.912Z"
   },
   {
    "duration": 10,
    "start_time": "2025-01-05T00:09:01.806Z"
   },
   {
    "duration": 9,
    "start_time": "2025-01-05T00:09:01.818Z"
   },
   {
    "duration": 7,
    "start_time": "2025-01-05T00:09:01.831Z"
   },
   {
    "duration": 8,
    "start_time": "2025-01-05T00:09:01.839Z"
   },
   {
    "duration": 23,
    "start_time": "2025-01-05T00:09:01.848Z"
   },
   {
    "duration": 204,
    "start_time": "2025-01-05T00:09:01.873Z"
   },
   {
    "duration": 7,
    "start_time": "2025-01-05T00:09:02.079Z"
   },
   {
    "duration": 118,
    "start_time": "2025-01-05T00:09:02.088Z"
   },
   {
    "duration": 86,
    "start_time": "2025-01-05T00:09:02.207Z"
   },
   {
    "duration": 52,
    "start_time": "2025-01-05T00:09:02.295Z"
   },
   {
    "duration": 21,
    "start_time": "2025-01-05T00:09:02.348Z"
   },
   {
    "duration": 4,
    "start_time": "2025-01-05T00:09:02.373Z"
   },
   {
    "duration": 59,
    "start_time": "2025-01-05T00:09:02.379Z"
   },
   {
    "duration": 21,
    "start_time": "2025-01-05T00:09:02.442Z"
   },
   {
    "duration": 8,
    "start_time": "2025-01-05T00:09:02.465Z"
   },
   {
    "duration": 43,
    "start_time": "2025-01-05T00:09:02.476Z"
   },
   {
    "duration": 9,
    "start_time": "2025-01-05T00:09:02.521Z"
   },
   {
    "duration": 4,
    "start_time": "2025-01-05T00:09:02.531Z"
   },
   {
    "duration": 4,
    "start_time": "2025-01-05T00:09:02.537Z"
   },
   {
    "duration": 4,
    "start_time": "2025-01-05T00:09:02.542Z"
   },
   {
    "duration": 5,
    "start_time": "2025-01-05T00:09:02.547Z"
   },
   {
    "duration": 798,
    "start_time": "2025-01-05T00:09:02.553Z"
   },
   {
    "duration": 434,
    "start_time": "2025-01-05T00:09:03.353Z"
   },
   {
    "duration": 27,
    "start_time": "2025-01-05T00:09:03.789Z"
   },
   {
    "duration": 9,
    "start_time": "2025-01-05T00:09:03.817Z"
   },
   {
    "duration": 15,
    "start_time": "2025-01-05T00:09:03.828Z"
   },
   {
    "duration": 11,
    "start_time": "2025-01-05T00:09:03.845Z"
   },
   {
    "duration": 63,
    "start_time": "2025-01-05T00:09:03.858Z"
   },
   {
    "duration": 29,
    "start_time": "2025-01-05T00:09:03.923Z"
   },
   {
    "duration": 7,
    "start_time": "2025-01-05T00:09:03.954Z"
   },
   {
    "duration": 8,
    "start_time": "2025-01-05T00:09:03.963Z"
   },
   {
    "duration": 75,
    "start_time": "2025-01-05T00:09:03.973Z"
   },
   {
    "duration": 4,
    "start_time": "2025-01-05T00:13:34.831Z"
   },
   {
    "duration": 4,
    "start_time": "2025-01-05T00:14:03.363Z"
   },
   {
    "duration": 310,
    "start_time": "2025-01-05T00:29:09.552Z"
   },
   {
    "duration": 882,
    "start_time": "2025-01-05T00:29:09.865Z"
   },
   {
    "duration": 12,
    "start_time": "2025-01-05T00:29:10.750Z"
   },
   {
    "duration": 10,
    "start_time": "2025-01-05T00:29:10.763Z"
   },
   {
    "duration": 7,
    "start_time": "2025-01-05T00:29:10.776Z"
   },
   {
    "duration": 7,
    "start_time": "2025-01-05T00:29:10.806Z"
   },
   {
    "duration": 23,
    "start_time": "2025-01-05T00:29:10.815Z"
   },
   {
    "duration": 183,
    "start_time": "2025-01-05T00:29:10.840Z"
   },
   {
    "duration": 9,
    "start_time": "2025-01-05T00:29:11.026Z"
   },
   {
    "duration": 101,
    "start_time": "2025-01-05T00:29:11.036Z"
   },
   {
    "duration": 91,
    "start_time": "2025-01-05T00:29:11.139Z"
   },
   {
    "duration": 46,
    "start_time": "2025-01-05T00:29:11.232Z"
   },
   {
    "duration": 31,
    "start_time": "2025-01-05T00:29:11.280Z"
   },
   {
    "duration": 4,
    "start_time": "2025-01-05T00:29:11.315Z"
   },
   {
    "duration": 29,
    "start_time": "2025-01-05T00:29:11.321Z"
   },
   {
    "duration": 17,
    "start_time": "2025-01-05T00:29:11.352Z"
   },
   {
    "duration": 7,
    "start_time": "2025-01-05T00:29:11.371Z"
   },
   {
    "duration": 26,
    "start_time": "2025-01-05T00:29:11.405Z"
   },
   {
    "duration": 9,
    "start_time": "2025-01-05T00:29:11.433Z"
   },
   {
    "duration": 4,
    "start_time": "2025-01-05T00:29:11.444Z"
   },
   {
    "duration": 4,
    "start_time": "2025-01-05T00:29:11.450Z"
   },
   {
    "duration": 4,
    "start_time": "2025-01-05T00:29:11.455Z"
   },
   {
    "duration": 4,
    "start_time": "2025-01-05T00:29:11.461Z"
   },
   {
    "duration": 807,
    "start_time": "2025-01-05T00:29:11.466Z"
   },
   {
    "duration": 493,
    "start_time": "2025-01-05T00:29:12.275Z"
   },
   {
    "duration": 14,
    "start_time": "2025-01-05T00:29:12.770Z"
   },
   {
    "duration": 20,
    "start_time": "2025-01-05T00:29:12.785Z"
   },
   {
    "duration": 15,
    "start_time": "2025-01-05T00:29:12.809Z"
   },
   {
    "duration": 10,
    "start_time": "2025-01-05T00:29:12.826Z"
   },
   {
    "duration": 38,
    "start_time": "2025-01-05T00:29:12.838Z"
   },
   {
    "duration": 59,
    "start_time": "2025-01-05T00:29:12.879Z"
   },
   {
    "duration": 8,
    "start_time": "2025-01-05T00:29:12.940Z"
   },
   {
    "duration": 8,
    "start_time": "2025-01-05T00:29:12.950Z"
   },
   {
    "duration": 69,
    "start_time": "2025-01-05T00:29:12.960Z"
   },
   {
    "duration": 4,
    "start_time": "2025-01-05T00:29:13.031Z"
   },
   {
    "duration": 3,
    "start_time": "2025-01-05T00:29:13.037Z"
   },
   {
    "duration": 658,
    "start_time": "2025-01-05T00:32:33.753Z"
   },
   {
    "duration": 278,
    "start_time": "2025-01-05T00:32:57.572Z"
   },
   {
    "duration": 993,
    "start_time": "2025-01-05T00:32:57.854Z"
   },
   {
    "duration": 12,
    "start_time": "2025-01-05T00:32:58.849Z"
   },
   {
    "duration": 10,
    "start_time": "2025-01-05T00:32:58.863Z"
   },
   {
    "duration": 7,
    "start_time": "2025-01-05T00:32:58.875Z"
   },
   {
    "duration": 9,
    "start_time": "2025-01-05T00:32:58.904Z"
   },
   {
    "duration": 25,
    "start_time": "2025-01-05T00:32:58.915Z"
   },
   {
    "duration": 186,
    "start_time": "2025-01-05T00:32:58.941Z"
   },
   {
    "duration": 8,
    "start_time": "2025-01-05T00:32:59.129Z"
   },
   {
    "duration": 119,
    "start_time": "2025-01-05T00:32:59.138Z"
   },
   {
    "duration": 93,
    "start_time": "2025-01-05T00:32:59.260Z"
   },
   {
    "duration": 51,
    "start_time": "2025-01-05T00:32:59.355Z"
   },
   {
    "duration": 19,
    "start_time": "2025-01-05T00:32:59.407Z"
   },
   {
    "duration": 4,
    "start_time": "2025-01-05T00:32:59.430Z"
   },
   {
    "duration": 29,
    "start_time": "2025-01-05T00:32:59.436Z"
   },
   {
    "duration": 39,
    "start_time": "2025-01-05T00:32:59.466Z"
   },
   {
    "duration": 9,
    "start_time": "2025-01-05T00:32:59.506Z"
   },
   {
    "duration": 24,
    "start_time": "2025-01-05T00:32:59.516Z"
   },
   {
    "duration": 7,
    "start_time": "2025-01-05T00:32:59.542Z"
   },
   {
    "duration": 5,
    "start_time": "2025-01-05T00:32:59.551Z"
   },
   {
    "duration": 4,
    "start_time": "2025-01-05T00:32:59.557Z"
   },
   {
    "duration": 4,
    "start_time": "2025-01-05T00:32:59.563Z"
   },
   {
    "duration": 4,
    "start_time": "2025-01-05T00:32:59.606Z"
   },
   {
    "duration": 773,
    "start_time": "2025-01-05T00:32:59.612Z"
   },
   {
    "duration": 451,
    "start_time": "2025-01-05T00:33:00.387Z"
   },
   {
    "duration": 14,
    "start_time": "2025-01-05T00:33:00.839Z"
   },
   {
    "duration": 7,
    "start_time": "2025-01-05T00:33:00.855Z"
   },
   {
    "duration": 12,
    "start_time": "2025-01-05T00:33:00.863Z"
   },
   {
    "duration": 37,
    "start_time": "2025-01-05T00:33:00.877Z"
   },
   {
    "duration": 38,
    "start_time": "2025-01-05T00:33:00.915Z"
   },
   {
    "duration": 29,
    "start_time": "2025-01-05T00:33:00.955Z"
   },
   {
    "duration": 7,
    "start_time": "2025-01-05T00:33:01.005Z"
   },
   {
    "duration": 9,
    "start_time": "2025-01-05T00:33:01.014Z"
   },
   {
    "duration": 50,
    "start_time": "2025-01-05T00:33:01.025Z"
   },
   {
    "duration": 31,
    "start_time": "2025-01-05T00:33:01.076Z"
   },
   {
    "duration": 4,
    "start_time": "2025-01-05T00:33:01.109Z"
   },
   {
    "duration": 315,
    "start_time": "2025-01-05T00:35:24.004Z"
   },
   {
    "duration": 989,
    "start_time": "2025-01-05T00:35:24.321Z"
   },
   {
    "duration": 11,
    "start_time": "2025-01-05T00:35:25.311Z"
   },
   {
    "duration": 9,
    "start_time": "2025-01-05T00:35:25.324Z"
   },
   {
    "duration": 7,
    "start_time": "2025-01-05T00:35:25.334Z"
   },
   {
    "duration": 8,
    "start_time": "2025-01-05T00:35:25.343Z"
   },
   {
    "duration": 53,
    "start_time": "2025-01-05T00:35:25.352Z"
   },
   {
    "duration": 173,
    "start_time": "2025-01-05T00:35:25.407Z"
   },
   {
    "duration": 8,
    "start_time": "2025-01-05T00:35:25.582Z"
   },
   {
    "duration": 87,
    "start_time": "2025-01-05T00:35:25.606Z"
   },
   {
    "duration": 88,
    "start_time": "2025-01-05T00:35:25.694Z"
   },
   {
    "duration": 57,
    "start_time": "2025-01-05T00:35:25.783Z"
   },
   {
    "duration": 19,
    "start_time": "2025-01-05T00:35:25.842Z"
   },
   {
    "duration": 4,
    "start_time": "2025-01-05T00:35:25.863Z"
   },
   {
    "duration": 46,
    "start_time": "2025-01-05T00:35:25.869Z"
   },
   {
    "duration": 18,
    "start_time": "2025-01-05T00:35:25.917Z"
   },
   {
    "duration": 8,
    "start_time": "2025-01-05T00:35:25.937Z"
   },
   {
    "duration": 27,
    "start_time": "2025-01-05T00:35:25.946Z"
   },
   {
    "duration": 35,
    "start_time": "2025-01-05T00:35:25.974Z"
   },
   {
    "duration": 5,
    "start_time": "2025-01-05T00:35:26.011Z"
   },
   {
    "duration": 5,
    "start_time": "2025-01-05T00:35:26.017Z"
   },
   {
    "duration": 4,
    "start_time": "2025-01-05T00:35:26.024Z"
   },
   {
    "duration": 5,
    "start_time": "2025-01-05T00:35:26.029Z"
   },
   {
    "duration": 780,
    "start_time": "2025-01-05T00:35:26.035Z"
   },
   {
    "duration": 454,
    "start_time": "2025-01-05T00:35:26.817Z"
   },
   {
    "duration": 14,
    "start_time": "2025-01-05T00:35:27.273Z"
   },
   {
    "duration": 20,
    "start_time": "2025-01-05T00:35:27.288Z"
   },
   {
    "duration": 12,
    "start_time": "2025-01-05T00:35:27.313Z"
   },
   {
    "duration": 11,
    "start_time": "2025-01-05T00:35:27.327Z"
   },
   {
    "duration": 67,
    "start_time": "2025-01-05T00:35:27.340Z"
   },
   {
    "duration": 30,
    "start_time": "2025-01-05T00:35:27.408Z"
   },
   {
    "duration": 8,
    "start_time": "2025-01-05T00:35:27.440Z"
   },
   {
    "duration": 9,
    "start_time": "2025-01-05T00:35:27.449Z"
   },
   {
    "duration": 74,
    "start_time": "2025-01-05T00:35:27.459Z"
   },
   {
    "duration": 4,
    "start_time": "2025-01-05T00:35:27.534Z"
   },
   {
    "duration": 5,
    "start_time": "2025-01-05T00:35:27.540Z"
   },
   {
    "duration": 664,
    "start_time": "2025-01-05T00:50:51.699Z"
   },
   {
    "duration": 326,
    "start_time": "2025-01-05T00:51:01.822Z"
   },
   {
    "duration": 1098,
    "start_time": "2025-01-05T00:51:02.150Z"
   },
   {
    "duration": 10,
    "start_time": "2025-01-05T00:51:03.250Z"
   },
   {
    "duration": 9,
    "start_time": "2025-01-05T00:51:03.262Z"
   },
   {
    "duration": 8,
    "start_time": "2025-01-05T00:51:03.274Z"
   },
   {
    "duration": 28,
    "start_time": "2025-01-05T00:51:03.283Z"
   },
   {
    "duration": 23,
    "start_time": "2025-01-05T00:51:03.312Z"
   },
   {
    "duration": 179,
    "start_time": "2025-01-05T00:51:03.337Z"
   },
   {
    "duration": 8,
    "start_time": "2025-01-05T00:51:03.518Z"
   },
   {
    "duration": 109,
    "start_time": "2025-01-05T00:51:03.527Z"
   },
   {
    "duration": 95,
    "start_time": "2025-01-05T00:51:03.639Z"
   },
   {
    "duration": 43,
    "start_time": "2025-01-05T00:51:03.736Z"
   },
   {
    "duration": 31,
    "start_time": "2025-01-05T00:51:03.780Z"
   },
   {
    "duration": 5,
    "start_time": "2025-01-05T00:51:03.814Z"
   },
   {
    "duration": 28,
    "start_time": "2025-01-05T00:51:03.821Z"
   },
   {
    "duration": 19,
    "start_time": "2025-01-05T00:51:03.851Z"
   },
   {
    "duration": 33,
    "start_time": "2025-01-05T00:51:03.872Z"
   },
   {
    "duration": 24,
    "start_time": "2025-01-05T00:51:03.907Z"
   },
   {
    "duration": 7,
    "start_time": "2025-01-05T00:51:03.933Z"
   },
   {
    "duration": 5,
    "start_time": "2025-01-05T00:51:03.942Z"
   },
   {
    "duration": 5,
    "start_time": "2025-01-05T00:51:03.949Z"
   },
   {
    "duration": 4,
    "start_time": "2025-01-05T00:51:03.956Z"
   },
   {
    "duration": 4,
    "start_time": "2025-01-05T00:51:03.962Z"
   },
   {
    "duration": 839,
    "start_time": "2025-01-05T00:51:03.967Z"
   },
   {
    "duration": 444,
    "start_time": "2025-01-05T00:51:04.808Z"
   },
   {
    "duration": 14,
    "start_time": "2025-01-05T00:51:05.254Z"
   },
   {
    "duration": 8,
    "start_time": "2025-01-05T00:51:05.269Z"
   },
   {
    "duration": 33,
    "start_time": "2025-01-05T00:51:05.278Z"
   },
   {
    "duration": 21,
    "start_time": "2025-01-05T00:51:05.313Z"
   },
   {
    "duration": 39,
    "start_time": "2025-01-05T00:51:05.335Z"
   },
   {
    "duration": 46,
    "start_time": "2025-01-05T00:51:05.375Z"
   },
   {
    "duration": 7,
    "start_time": "2025-01-05T00:51:05.423Z"
   },
   {
    "duration": 9,
    "start_time": "2025-01-05T00:51:05.431Z"
   },
   {
    "duration": 69,
    "start_time": "2025-01-05T00:51:05.442Z"
   },
   {
    "duration": 4,
    "start_time": "2025-01-05T00:51:05.512Z"
   },
   {
    "duration": 4,
    "start_time": "2025-01-05T00:51:05.517Z"
   },
   {
    "duration": 307,
    "start_time": "2025-01-05T00:53:57.598Z"
   },
   {
    "duration": 319,
    "start_time": "2025-01-05T00:54:05.523Z"
   },
   {
    "duration": 993,
    "start_time": "2025-01-05T00:54:05.844Z"
   },
   {
    "duration": 12,
    "start_time": "2025-01-05T00:54:06.839Z"
   },
   {
    "duration": 9,
    "start_time": "2025-01-05T00:54:06.853Z"
   },
   {
    "duration": 7,
    "start_time": "2025-01-05T00:54:06.866Z"
   },
   {
    "duration": 30,
    "start_time": "2025-01-05T00:54:06.875Z"
   },
   {
    "duration": 23,
    "start_time": "2025-01-05T00:54:06.907Z"
   },
   {
    "duration": 183,
    "start_time": "2025-01-05T00:54:06.932Z"
   },
   {
    "duration": 7,
    "start_time": "2025-01-05T00:54:07.117Z"
   },
   {
    "duration": 102,
    "start_time": "2025-01-05T00:54:07.126Z"
   },
   {
    "duration": 89,
    "start_time": "2025-01-05T00:54:07.229Z"
   },
   {
    "duration": 44,
    "start_time": "2025-01-05T00:54:07.320Z"
   },
   {
    "duration": 18,
    "start_time": "2025-01-05T00:54:07.366Z"
   },
   {
    "duration": 4,
    "start_time": "2025-01-05T00:54:07.408Z"
   },
   {
    "duration": 29,
    "start_time": "2025-01-05T00:54:07.414Z"
   },
   {
    "duration": 60,
    "start_time": "2025-01-05T00:54:07.445Z"
   },
   {
    "duration": 9,
    "start_time": "2025-01-05T00:54:07.507Z"
   },
   {
    "duration": 24,
    "start_time": "2025-01-05T00:54:07.518Z"
   },
   {
    "duration": 8,
    "start_time": "2025-01-05T00:54:07.544Z"
   },
   {
    "duration": 4,
    "start_time": "2025-01-05T00:54:07.554Z"
   },
   {
    "duration": 4,
    "start_time": "2025-01-05T00:54:07.560Z"
   },
   {
    "duration": 5,
    "start_time": "2025-01-05T00:54:07.565Z"
   },
   {
    "duration": 4,
    "start_time": "2025-01-05T00:54:07.605Z"
   },
   {
    "duration": 777,
    "start_time": "2025-01-05T00:54:07.611Z"
   },
   {
    "duration": 475,
    "start_time": "2025-01-05T00:54:08.390Z"
   },
   {
    "duration": 14,
    "start_time": "2025-01-05T00:54:08.867Z"
   },
   {
    "duration": 25,
    "start_time": "2025-01-05T00:54:08.883Z"
   },
   {
    "duration": 13,
    "start_time": "2025-01-05T00:54:08.910Z"
   },
   {
    "duration": 13,
    "start_time": "2025-01-05T00:54:08.925Z"
   },
   {
    "duration": 38,
    "start_time": "2025-01-05T00:54:08.940Z"
   },
   {
    "duration": 31,
    "start_time": "2025-01-05T00:54:09.005Z"
   },
   {
    "duration": 8,
    "start_time": "2025-01-05T00:54:09.038Z"
   },
   {
    "duration": 9,
    "start_time": "2025-01-05T00:54:09.047Z"
   },
   {
    "duration": 75,
    "start_time": "2025-01-05T00:54:09.058Z"
   },
   {
    "duration": 7,
    "start_time": "2025-01-05T00:54:09.135Z"
   },
   {
    "duration": 4,
    "start_time": "2025-01-05T00:54:09.144Z"
   },
   {
    "duration": 140,
    "start_time": "2025-01-05T00:54:09.149Z"
   },
   {
    "duration": 323,
    "start_time": "2025-01-05T00:57:43.511Z"
   },
   {
    "duration": 998,
    "start_time": "2025-01-05T00:57:43.837Z"
   },
   {
    "duration": 11,
    "start_time": "2025-01-05T00:57:44.836Z"
   },
   {
    "duration": 8,
    "start_time": "2025-01-05T00:57:44.850Z"
   },
   {
    "duration": 8,
    "start_time": "2025-01-05T00:57:44.861Z"
   },
   {
    "duration": 8,
    "start_time": "2025-01-05T00:57:44.870Z"
   },
   {
    "duration": 48,
    "start_time": "2025-01-05T00:57:44.879Z"
   },
   {
    "duration": 176,
    "start_time": "2025-01-05T00:57:44.929Z"
   },
   {
    "duration": 8,
    "start_time": "2025-01-05T00:57:45.107Z"
   },
   {
    "duration": 99,
    "start_time": "2025-01-05T00:57:45.116Z"
   },
   {
    "duration": 92,
    "start_time": "2025-01-05T00:57:45.217Z"
   },
   {
    "duration": 44,
    "start_time": "2025-01-05T00:57:45.311Z"
   },
   {
    "duration": 18,
    "start_time": "2025-01-05T00:57:45.356Z"
   },
   {
    "duration": 4,
    "start_time": "2025-01-05T00:57:45.378Z"
   },
   {
    "duration": 47,
    "start_time": "2025-01-05T00:57:45.383Z"
   },
   {
    "duration": 17,
    "start_time": "2025-01-05T00:57:45.432Z"
   },
   {
    "duration": 8,
    "start_time": "2025-01-05T00:57:45.451Z"
   },
   {
    "duration": 51,
    "start_time": "2025-01-05T00:57:45.461Z"
   },
   {
    "duration": 9,
    "start_time": "2025-01-05T00:57:45.514Z"
   },
   {
    "duration": 4,
    "start_time": "2025-01-05T00:57:45.525Z"
   },
   {
    "duration": 5,
    "start_time": "2025-01-05T00:57:45.530Z"
   },
   {
    "duration": 5,
    "start_time": "2025-01-05T00:57:45.536Z"
   },
   {
    "duration": 5,
    "start_time": "2025-01-05T00:57:45.543Z"
   },
   {
    "duration": 751,
    "start_time": "2025-01-05T00:57:45.550Z"
   },
   {
    "duration": 442,
    "start_time": "2025-01-05T00:57:46.305Z"
   },
   {
    "duration": 13,
    "start_time": "2025-01-05T00:57:46.749Z"
   },
   {
    "duration": 7,
    "start_time": "2025-01-05T00:57:46.764Z"
   },
   {
    "duration": 32,
    "start_time": "2025-01-05T00:57:46.773Z"
   },
   {
    "duration": 12,
    "start_time": "2025-01-05T00:57:46.807Z"
   },
   {
    "duration": 39,
    "start_time": "2025-01-05T00:57:46.821Z"
   },
   {
    "duration": 50,
    "start_time": "2025-01-05T00:57:46.862Z"
   },
   {
    "duration": 8,
    "start_time": "2025-01-05T00:57:46.913Z"
   },
   {
    "duration": 8,
    "start_time": "2025-01-05T00:57:46.923Z"
   },
   {
    "duration": 46,
    "start_time": "2025-01-05T00:57:46.933Z"
   },
   {
    "duration": 4,
    "start_time": "2025-01-05T00:57:47.006Z"
   },
   {
    "duration": 4,
    "start_time": "2025-01-05T00:57:47.012Z"
   },
   {
    "duration": 145,
    "start_time": "2025-01-05T00:57:47.018Z"
   },
   {
    "duration": 335,
    "start_time": "2025-01-05T00:59:25.241Z"
   },
   {
    "duration": 859,
    "start_time": "2025-01-05T00:59:25.578Z"
   },
   {
    "duration": 11,
    "start_time": "2025-01-05T00:59:26.439Z"
   },
   {
    "duration": 10,
    "start_time": "2025-01-05T00:59:26.451Z"
   },
   {
    "duration": 8,
    "start_time": "2025-01-05T00:59:26.463Z"
   },
   {
    "duration": 8,
    "start_time": "2025-01-05T00:59:26.472Z"
   },
   {
    "duration": 46,
    "start_time": "2025-01-05T00:59:26.482Z"
   },
   {
    "duration": 178,
    "start_time": "2025-01-05T00:59:26.530Z"
   },
   {
    "duration": 8,
    "start_time": "2025-01-05T00:59:26.710Z"
   },
   {
    "duration": 98,
    "start_time": "2025-01-05T00:59:26.719Z"
   },
   {
    "duration": 94,
    "start_time": "2025-01-05T00:59:26.819Z"
   },
   {
    "duration": 44,
    "start_time": "2025-01-05T00:59:26.915Z"
   },
   {
    "duration": 19,
    "start_time": "2025-01-05T00:59:26.960Z"
   },
   {
    "duration": 23,
    "start_time": "2025-01-05T00:59:26.983Z"
   },
   {
    "duration": 31,
    "start_time": "2025-01-05T00:59:27.007Z"
   },
   {
    "duration": 18,
    "start_time": "2025-01-05T00:59:27.040Z"
   },
   {
    "duration": 8,
    "start_time": "2025-01-05T00:59:27.059Z"
   },
   {
    "duration": 48,
    "start_time": "2025-01-05T00:59:27.069Z"
   },
   {
    "duration": 8,
    "start_time": "2025-01-05T00:59:27.119Z"
   },
   {
    "duration": 4,
    "start_time": "2025-01-05T00:59:27.129Z"
   },
   {
    "duration": 5,
    "start_time": "2025-01-05T00:59:27.135Z"
   },
   {
    "duration": 4,
    "start_time": "2025-01-05T00:59:27.143Z"
   },
   {
    "duration": 4,
    "start_time": "2025-01-05T00:59:27.149Z"
   },
   {
    "duration": 803,
    "start_time": "2025-01-05T00:59:27.156Z"
   },
   {
    "duration": 458,
    "start_time": "2025-01-05T00:59:27.960Z"
   },
   {
    "duration": 13,
    "start_time": "2025-01-05T00:59:28.420Z"
   },
   {
    "duration": 8,
    "start_time": "2025-01-05T00:59:28.435Z"
   },
   {
    "duration": 13,
    "start_time": "2025-01-05T00:59:28.445Z"
   },
   {
    "duration": 11,
    "start_time": "2025-01-05T00:59:28.459Z"
   },
   {
    "duration": 68,
    "start_time": "2025-01-05T00:59:28.472Z"
   },
   {
    "duration": 30,
    "start_time": "2025-01-05T00:59:28.542Z"
   },
   {
    "duration": 9,
    "start_time": "2025-01-05T00:59:28.574Z"
   },
   {
    "duration": 27,
    "start_time": "2025-01-05T00:59:28.585Z"
   },
   {
    "duration": 49,
    "start_time": "2025-01-05T00:59:28.614Z"
   },
   {
    "duration": 3,
    "start_time": "2025-01-05T00:59:28.665Z"
   },
   {
    "duration": 4,
    "start_time": "2025-01-05T00:59:28.670Z"
   },
   {
    "duration": 161,
    "start_time": "2025-01-05T00:59:28.676Z"
   },
   {
    "duration": 344,
    "start_time": "2025-01-05T01:01:56.512Z"
   },
   {
    "duration": 280,
    "start_time": "2025-01-05T01:06:03.794Z"
   },
   {
    "duration": 1019,
    "start_time": "2025-01-05T01:06:04.075Z"
   },
   {
    "duration": 20,
    "start_time": "2025-01-05T01:06:05.095Z"
   },
   {
    "duration": 10,
    "start_time": "2025-01-05T01:06:05.117Z"
   },
   {
    "duration": 8,
    "start_time": "2025-01-05T01:06:05.128Z"
   },
   {
    "duration": 7,
    "start_time": "2025-01-05T01:06:05.138Z"
   },
   {
    "duration": 24,
    "start_time": "2025-01-05T01:06:05.147Z"
   },
   {
    "duration": 203,
    "start_time": "2025-01-05T01:06:05.172Z"
   },
   {
    "duration": 8,
    "start_time": "2025-01-05T01:06:05.376Z"
   },
   {
    "duration": 126,
    "start_time": "2025-01-05T01:06:05.387Z"
   },
   {
    "duration": 93,
    "start_time": "2025-01-05T01:06:05.515Z"
   },
   {
    "duration": 44,
    "start_time": "2025-01-05T01:06:05.610Z"
   },
   {
    "duration": 21,
    "start_time": "2025-01-05T01:06:05.656Z"
   },
   {
    "duration": 5,
    "start_time": "2025-01-05T01:06:05.679Z"
   },
   {
    "duration": 30,
    "start_time": "2025-01-05T01:06:05.705Z"
   },
   {
    "duration": 17,
    "start_time": "2025-01-05T01:06:05.736Z"
   },
   {
    "duration": 8,
    "start_time": "2025-01-05T01:06:05.754Z"
   },
   {
    "duration": 43,
    "start_time": "2025-01-05T01:06:05.764Z"
   },
   {
    "duration": 10,
    "start_time": "2025-01-05T01:06:05.808Z"
   },
   {
    "duration": 4,
    "start_time": "2025-01-05T01:06:05.820Z"
   },
   {
    "duration": 4,
    "start_time": "2025-01-05T01:06:05.826Z"
   },
   {
    "duration": 4,
    "start_time": "2025-01-05T01:06:05.831Z"
   },
   {
    "duration": 4,
    "start_time": "2025-01-05T01:06:05.837Z"
   },
   {
    "duration": 773,
    "start_time": "2025-01-05T01:06:05.842Z"
   },
   {
    "duration": 418,
    "start_time": "2025-01-05T01:06:06.617Z"
   },
   {
    "duration": 13,
    "start_time": "2025-01-05T01:06:07.037Z"
   },
   {
    "duration": 8,
    "start_time": "2025-01-05T01:06:07.052Z"
   },
   {
    "duration": 12,
    "start_time": "2025-01-05T01:06:07.064Z"
   },
   {
    "duration": 34,
    "start_time": "2025-01-05T01:06:07.078Z"
   },
   {
    "duration": 39,
    "start_time": "2025-01-05T01:06:07.114Z"
   },
   {
    "duration": 28,
    "start_time": "2025-01-05T01:06:07.155Z"
   },
   {
    "duration": 8,
    "start_time": "2025-01-05T01:06:07.205Z"
   },
   {
    "duration": 10,
    "start_time": "2025-01-05T01:06:07.214Z"
   },
   {
    "duration": 46,
    "start_time": "2025-01-05T01:06:07.228Z"
   },
   {
    "duration": 30,
    "start_time": "2025-01-05T01:06:07.277Z"
   },
   {
    "duration": 4,
    "start_time": "2025-01-05T01:06:07.309Z"
   },
   {
    "duration": 139,
    "start_time": "2025-01-05T01:06:07.315Z"
   },
   {
    "duration": 310,
    "start_time": "2025-01-06T23:11:50.155Z"
   },
   {
    "duration": 1323,
    "start_time": "2025-01-06T23:11:50.469Z"
   },
   {
    "duration": 12,
    "start_time": "2025-01-06T23:11:51.794Z"
   },
   {
    "duration": 9,
    "start_time": "2025-01-06T23:11:51.809Z"
   },
   {
    "duration": 8,
    "start_time": "2025-01-06T23:11:51.820Z"
   },
   {
    "duration": 8,
    "start_time": "2025-01-06T23:11:51.830Z"
   },
   {
    "duration": 52,
    "start_time": "2025-01-06T23:11:51.840Z"
   },
   {
    "duration": 192,
    "start_time": "2025-01-06T23:11:51.895Z"
   },
   {
    "duration": 9,
    "start_time": "2025-01-06T23:11:52.089Z"
   },
   {
    "duration": 121,
    "start_time": "2025-01-06T23:11:52.101Z"
   },
   {
    "duration": 108,
    "start_time": "2025-01-06T23:11:52.226Z"
   },
   {
    "duration": 54,
    "start_time": "2025-01-06T23:11:52.337Z"
   },
   {
    "duration": 22,
    "start_time": "2025-01-06T23:11:52.392Z"
   },
   {
    "duration": 4,
    "start_time": "2025-01-06T23:11:52.416Z"
   },
   {
    "duration": 52,
    "start_time": "2025-01-06T23:11:52.422Z"
   },
   {
    "duration": 20,
    "start_time": "2025-01-06T23:11:52.476Z"
   },
   {
    "duration": 10,
    "start_time": "2025-01-06T23:11:52.498Z"
   },
   {
    "duration": 28,
    "start_time": "2025-01-06T23:11:52.510Z"
   },
   {
    "duration": 34,
    "start_time": "2025-01-06T23:11:52.540Z"
   },
   {
    "duration": 4,
    "start_time": "2025-01-06T23:11:52.576Z"
   },
   {
    "duration": 5,
    "start_time": "2025-01-06T23:11:52.582Z"
   },
   {
    "duration": 5,
    "start_time": "2025-01-06T23:11:52.590Z"
   },
   {
    "duration": 5,
    "start_time": "2025-01-06T23:11:52.598Z"
   },
   {
    "duration": 811,
    "start_time": "2025-01-06T23:11:52.606Z"
   },
   {
    "duration": 513,
    "start_time": "2025-01-06T23:11:53.419Z"
   },
   {
    "duration": 15,
    "start_time": "2025-01-06T23:11:53.933Z"
   },
   {
    "duration": 22,
    "start_time": "2025-01-06T23:11:53.950Z"
   },
   {
    "duration": 12,
    "start_time": "2025-01-06T23:11:53.975Z"
   },
   {
    "duration": 11,
    "start_time": "2025-01-06T23:11:53.990Z"
   },
   {
    "duration": 38,
    "start_time": "2025-01-06T23:11:54.003Z"
   },
   {
    "duration": 49,
    "start_time": "2025-01-06T23:11:54.043Z"
   },
   {
    "duration": 8,
    "start_time": "2025-01-06T23:11:54.094Z"
   },
   {
    "duration": 8,
    "start_time": "2025-01-06T23:11:54.103Z"
   },
   {
    "duration": 77,
    "start_time": "2025-01-06T23:11:54.113Z"
   },
   {
    "duration": 4,
    "start_time": "2025-01-06T23:11:54.192Z"
   },
   {
    "duration": 4,
    "start_time": "2025-01-06T23:11:54.198Z"
   },
   {
    "duration": 1853,
    "start_time": "2025-01-06T23:11:54.204Z"
   },
   {
    "duration": 619,
    "start_time": "2025-01-06T23:11:56.060Z"
   },
   {
    "duration": 985,
    "start_time": "2025-01-06T23:12:38.359Z"
   },
   {
    "duration": 1124,
    "start_time": "2025-01-06T23:13:31.530Z"
   },
   {
    "duration": 780,
    "start_time": "2025-01-06T23:18:26.993Z"
   },
   {
    "duration": 719,
    "start_time": "2025-01-06T23:19:06.151Z"
   },
   {
    "duration": 11254,
    "start_time": "2025-01-06T23:22:01.489Z"
   },
   {
    "duration": 11685,
    "start_time": "2025-01-06T23:23:18.919Z"
   },
   {
    "duration": 5,
    "start_time": "2025-01-06T23:24:58.201Z"
   },
   {
    "duration": 12169,
    "start_time": "2025-01-06T23:25:06.302Z"
   },
   {
    "duration": 11859,
    "start_time": "2025-01-06T23:25:40.791Z"
   },
   {
    "duration": 4,
    "start_time": "2025-01-06T23:26:47.466Z"
   },
   {
    "duration": 4,
    "start_time": "2025-01-06T23:26:55.529Z"
   },
   {
    "duration": 11833,
    "start_time": "2025-01-06T23:27:17.351Z"
   },
   {
    "duration": 11866,
    "start_time": "2025-01-06T23:28:32.112Z"
   },
   {
    "duration": 285,
    "start_time": "2025-01-07T01:18:09.188Z"
   },
   {
    "duration": 1111,
    "start_time": "2025-01-07T01:18:09.475Z"
   },
   {
    "duration": 11,
    "start_time": "2025-01-07T01:18:10.588Z"
   },
   {
    "duration": 14,
    "start_time": "2025-01-07T01:18:10.601Z"
   },
   {
    "duration": 7,
    "start_time": "2025-01-07T01:18:10.617Z"
   },
   {
    "duration": 9,
    "start_time": "2025-01-07T01:18:10.626Z"
   },
   {
    "duration": 23,
    "start_time": "2025-01-07T01:18:10.636Z"
   },
   {
    "duration": 206,
    "start_time": "2025-01-07T01:18:10.661Z"
   },
   {
    "duration": 8,
    "start_time": "2025-01-07T01:18:10.869Z"
   },
   {
    "duration": 110,
    "start_time": "2025-01-07T01:18:10.878Z"
   },
   {
    "duration": 106,
    "start_time": "2025-01-07T01:18:10.990Z"
   },
   {
    "duration": 50,
    "start_time": "2025-01-07T01:18:11.097Z"
   },
   {
    "duration": 23,
    "start_time": "2025-01-07T01:18:11.149Z"
   },
   {
    "duration": 5,
    "start_time": "2025-01-07T01:18:11.176Z"
   },
   {
    "duration": 52,
    "start_time": "2025-01-07T01:18:11.182Z"
   },
   {
    "duration": 18,
    "start_time": "2025-01-07T01:18:11.236Z"
   },
   {
    "duration": 8,
    "start_time": "2025-01-07T01:18:11.256Z"
   },
   {
    "duration": 46,
    "start_time": "2025-01-07T01:18:11.266Z"
   },
   {
    "duration": 8,
    "start_time": "2025-01-07T01:18:11.314Z"
   },
   {
    "duration": 5,
    "start_time": "2025-01-07T01:18:11.324Z"
   },
   {
    "duration": 4,
    "start_time": "2025-01-07T01:18:11.331Z"
   },
   {
    "duration": 4,
    "start_time": "2025-01-07T01:18:11.337Z"
   },
   {
    "duration": 4,
    "start_time": "2025-01-07T01:18:11.342Z"
   },
   {
    "duration": 952,
    "start_time": "2025-01-07T01:18:11.348Z"
   },
   {
    "duration": 541,
    "start_time": "2025-01-07T01:18:12.303Z"
   },
   {
    "duration": 15,
    "start_time": "2025-01-07T01:18:12.846Z"
   },
   {
    "duration": 9,
    "start_time": "2025-01-07T01:18:12.863Z"
   },
   {
    "duration": 35,
    "start_time": "2025-01-07T01:18:12.873Z"
   },
   {
    "duration": 12,
    "start_time": "2025-01-07T01:18:12.909Z"
   },
   {
    "duration": 41,
    "start_time": "2025-01-07T01:18:12.922Z"
   },
   {
    "duration": 50,
    "start_time": "2025-01-07T01:18:12.965Z"
   },
   {
    "duration": 8,
    "start_time": "2025-01-07T01:18:13.017Z"
   },
   {
    "duration": 10,
    "start_time": "2025-01-07T01:18:13.027Z"
   },
   {
    "duration": 70,
    "start_time": "2025-01-07T01:18:13.039Z"
   },
   {
    "duration": 4,
    "start_time": "2025-01-07T01:18:13.111Z"
   },
   {
    "duration": 4,
    "start_time": "2025-01-07T01:18:13.117Z"
   },
   {
    "duration": 1925,
    "start_time": "2025-01-07T01:18:13.122Z"
   },
   {
    "duration": 1491,
    "start_time": "2025-01-07T01:18:15.049Z"
   },
   {
    "duration": 9,
    "start_time": "2025-01-07T01:20:00.297Z"
   },
   {
    "duration": 722,
    "start_time": "2025-01-07T01:23:07.259Z"
   },
   {
    "duration": 119,
    "start_time": "2025-01-07T01:27:55.109Z"
   },
   {
    "duration": 122,
    "start_time": "2025-01-07T01:30:13.946Z"
   },
   {
    "duration": 165,
    "start_time": "2025-01-07T01:34:28.134Z"
   },
   {
    "duration": 161,
    "start_time": "2025-01-07T01:34:53.009Z"
   },
   {
    "duration": 281,
    "start_time": "2025-01-07T01:37:14.216Z"
   },
   {
    "duration": 252,
    "start_time": "2025-01-07T01:37:39.023Z"
   },
   {
    "duration": 112,
    "start_time": "2025-01-07T01:38:05.015Z"
   },
   {
    "duration": 120,
    "start_time": "2025-01-07T01:40:57.726Z"
   },
   {
    "duration": 138,
    "start_time": "2025-01-07T01:46:39.099Z"
   },
   {
    "duration": 113,
    "start_time": "2025-01-07T01:48:31.465Z"
   },
   {
    "duration": 110,
    "start_time": "2025-01-07T01:48:43.586Z"
   },
   {
    "duration": 144,
    "start_time": "2025-01-07T01:48:55.782Z"
   },
   {
    "duration": 7,
    "start_time": "2025-01-07T01:49:05.401Z"
   },
   {
    "duration": 145,
    "start_time": "2025-01-07T01:49:17.687Z"
   },
   {
    "duration": 327,
    "start_time": "2025-01-07T01:55:28.982Z"
   },
   {
    "duration": 137,
    "start_time": "2025-01-07T01:57:07.826Z"
   },
   {
    "duration": 163,
    "start_time": "2025-01-07T01:59:33.510Z"
   },
   {
    "duration": 4,
    "start_time": "2025-01-07T02:01:12.379Z"
   },
   {
    "duration": 179,
    "start_time": "2025-01-07T02:01:17.279Z"
   },
   {
    "duration": 126,
    "start_time": "2025-01-07T02:01:35.973Z"
   },
   {
    "duration": 8,
    "start_time": "2025-01-07T02:20:07.193Z"
   },
   {
    "duration": 325,
    "start_time": "2025-01-07T02:20:14.433Z"
   },
   {
    "duration": 895,
    "start_time": "2025-01-07T02:20:14.761Z"
   },
   {
    "duration": 12,
    "start_time": "2025-01-07T02:20:15.658Z"
   },
   {
    "duration": 9,
    "start_time": "2025-01-07T02:20:15.671Z"
   },
   {
    "duration": 8,
    "start_time": "2025-01-07T02:20:15.683Z"
   },
   {
    "duration": 8,
    "start_time": "2025-01-07T02:20:15.709Z"
   },
   {
    "duration": 24,
    "start_time": "2025-01-07T02:20:15.718Z"
   },
   {
    "duration": 193,
    "start_time": "2025-01-07T02:20:15.744Z"
   },
   {
    "duration": 8,
    "start_time": "2025-01-07T02:20:15.939Z"
   },
   {
    "duration": 109,
    "start_time": "2025-01-07T02:20:15.949Z"
   },
   {
    "duration": 94,
    "start_time": "2025-01-07T02:20:16.060Z"
   },
   {
    "duration": 55,
    "start_time": "2025-01-07T02:20:16.155Z"
   },
   {
    "duration": 19,
    "start_time": "2025-01-07T02:20:16.211Z"
   },
   {
    "duration": 4,
    "start_time": "2025-01-07T02:20:16.234Z"
   },
   {
    "duration": 32,
    "start_time": "2025-01-07T02:20:16.240Z"
   },
   {
    "duration": 47,
    "start_time": "2025-01-07T02:20:16.273Z"
   },
   {
    "duration": 8,
    "start_time": "2025-01-07T02:20:16.322Z"
   },
   {
    "duration": 25,
    "start_time": "2025-01-07T02:20:16.332Z"
   },
   {
    "duration": 8,
    "start_time": "2025-01-07T02:20:16.359Z"
   },
   {
    "duration": 6,
    "start_time": "2025-01-07T02:20:16.368Z"
   },
   {
    "duration": 9,
    "start_time": "2025-01-07T02:20:16.377Z"
   },
   {
    "duration": 27,
    "start_time": "2025-01-07T02:20:16.387Z"
   },
   {
    "duration": 5,
    "start_time": "2025-01-07T02:20:16.415Z"
   },
   {
    "duration": 809,
    "start_time": "2025-01-07T02:20:16.421Z"
   },
   {
    "duration": 552,
    "start_time": "2025-01-07T02:20:17.232Z"
   },
   {
    "duration": 23,
    "start_time": "2025-01-07T02:20:17.786Z"
   },
   {
    "duration": 9,
    "start_time": "2025-01-07T02:20:17.811Z"
   },
   {
    "duration": 12,
    "start_time": "2025-01-07T02:20:17.822Z"
   },
   {
    "duration": 4,
    "start_time": "2025-01-07T02:20:17.836Z"
   },
   {
    "duration": 0,
    "start_time": "2025-01-07T02:20:17.841Z"
   },
   {
    "duration": 0,
    "start_time": "2025-01-07T02:20:17.843Z"
   },
   {
    "duration": 0,
    "start_time": "2025-01-07T02:20:17.845Z"
   },
   {
    "duration": 0,
    "start_time": "2025-01-07T02:20:17.846Z"
   },
   {
    "duration": 0,
    "start_time": "2025-01-07T02:20:17.847Z"
   },
   {
    "duration": 0,
    "start_time": "2025-01-07T02:20:17.848Z"
   },
   {
    "duration": 0,
    "start_time": "2025-01-07T02:20:17.849Z"
   },
   {
    "duration": 0,
    "start_time": "2025-01-07T02:20:17.850Z"
   },
   {
    "duration": 0,
    "start_time": "2025-01-07T02:20:17.851Z"
   },
   {
    "duration": 0,
    "start_time": "2025-01-07T02:20:17.852Z"
   },
   {
    "duration": 49,
    "start_time": "2025-01-07T02:21:06.118Z"
   },
   {
    "duration": 324,
    "start_time": "2025-01-07T02:27:26.199Z"
   },
   {
    "duration": 1042,
    "start_time": "2025-01-07T02:27:26.526Z"
   },
   {
    "duration": 12,
    "start_time": "2025-01-07T02:27:27.570Z"
   },
   {
    "duration": 27,
    "start_time": "2025-01-07T02:27:27.584Z"
   },
   {
    "duration": 16,
    "start_time": "2025-01-07T02:27:27.614Z"
   },
   {
    "duration": 9,
    "start_time": "2025-01-07T02:27:27.633Z"
   },
   {
    "duration": 37,
    "start_time": "2025-01-07T02:27:27.644Z"
   },
   {
    "duration": 274,
    "start_time": "2025-01-07T02:27:27.683Z"
   },
   {
    "duration": 9,
    "start_time": "2025-01-07T02:27:27.959Z"
   },
   {
    "duration": 119,
    "start_time": "2025-01-07T02:27:27.971Z"
   },
   {
    "duration": 113,
    "start_time": "2025-01-07T02:27:28.092Z"
   },
   {
    "duration": 50,
    "start_time": "2025-01-07T02:27:28.206Z"
   },
   {
    "duration": 22,
    "start_time": "2025-01-07T02:27:28.258Z"
   },
   {
    "duration": 25,
    "start_time": "2025-01-07T02:27:28.284Z"
   },
   {
    "duration": 32,
    "start_time": "2025-01-07T02:27:28.311Z"
   },
   {
    "duration": 27,
    "start_time": "2025-01-07T02:27:28.345Z"
   },
   {
    "duration": 11,
    "start_time": "2025-01-07T02:27:28.374Z"
   },
   {
    "duration": 48,
    "start_time": "2025-01-07T02:27:28.387Z"
   },
   {
    "duration": 8,
    "start_time": "2025-01-07T02:27:28.437Z"
   },
   {
    "duration": 8,
    "start_time": "2025-01-07T02:27:28.451Z"
   },
   {
    "duration": 5,
    "start_time": "2025-01-07T02:27:28.461Z"
   },
   {
    "duration": 4,
    "start_time": "2025-01-07T02:27:28.468Z"
   },
   {
    "duration": 7,
    "start_time": "2025-01-07T02:27:28.474Z"
   },
   {
    "duration": 939,
    "start_time": "2025-01-07T02:27:28.483Z"
   },
   {
    "duration": 507,
    "start_time": "2025-01-07T02:27:29.425Z"
   },
   {
    "duration": 17,
    "start_time": "2025-01-07T02:27:29.935Z"
   },
   {
    "duration": 10,
    "start_time": "2025-01-07T02:27:29.954Z"
   },
   {
    "duration": 13,
    "start_time": "2025-01-07T02:27:29.968Z"
   },
   {
    "duration": 62,
    "start_time": "2025-01-07T02:27:29.983Z"
   },
   {
    "duration": 31,
    "start_time": "2025-01-07T02:27:30.047Z"
   },
   {
    "duration": 32,
    "start_time": "2025-01-07T02:27:30.081Z"
   },
   {
    "duration": 9,
    "start_time": "2025-01-07T02:27:30.116Z"
   },
   {
    "duration": 49,
    "start_time": "2025-01-07T02:27:30.126Z"
   },
   {
    "duration": 4,
    "start_time": "2025-01-07T02:27:30.177Z"
   },
   {
    "duration": 28,
    "start_time": "2025-01-07T02:27:30.182Z"
   },
   {
    "duration": 167,
    "start_time": "2025-01-07T02:27:30.211Z"
   },
   {
    "duration": 176,
    "start_time": "2025-01-07T02:27:30.380Z"
   },
   {
    "duration": 156,
    "start_time": "2025-01-07T02:27:30.558Z"
   },
   {
    "duration": 139,
    "start_time": "2025-01-07T02:27:30.716Z"
   },
   {
    "duration": 864,
    "start_time": "2025-01-07T02:28:20.380Z"
   },
   {
    "duration": 7,
    "start_time": "2025-01-07T02:28:36.105Z"
   },
   {
    "duration": 7,
    "start_time": "2025-01-07T02:28:43.047Z"
   },
   {
    "duration": 3,
    "start_time": "2025-01-07T02:32:22.227Z"
   },
   {
    "duration": 817,
    "start_time": "2025-01-07T02:32:23.296Z"
   },
   {
    "duration": 10,
    "start_time": "2025-01-07T02:32:27.671Z"
   },
   {
    "duration": 46,
    "start_time": "2025-01-07T02:33:31.851Z"
   },
   {
    "duration": 8,
    "start_time": "2025-01-07T02:33:43.166Z"
   },
   {
    "duration": 9,
    "start_time": "2025-01-07T02:35:03.916Z"
   },
   {
    "duration": 8,
    "start_time": "2025-01-07T02:35:09.911Z"
   },
   {
    "duration": 4,
    "start_time": "2025-01-07T02:35:39.918Z"
   },
   {
    "duration": 8,
    "start_time": "2025-01-07T02:36:22.486Z"
   },
   {
    "duration": 415,
    "start_time": "2025-01-07T02:39:51.851Z"
   },
   {
    "duration": 193,
    "start_time": "2025-01-07T02:40:03.533Z"
   },
   {
    "duration": 454,
    "start_time": "2025-01-07T02:41:47.843Z"
   },
   {
    "duration": 3,
    "start_time": "2025-01-07T02:42:03.343Z"
   },
   {
    "duration": 48,
    "start_time": "2025-01-07T02:42:08.468Z"
   },
   {
    "duration": 175,
    "start_time": "2025-01-07T02:42:21.406Z"
   },
   {
    "duration": 168,
    "start_time": "2025-01-07T02:42:31.719Z"
   },
   {
    "duration": 5,
    "start_time": "2025-01-07T02:47:40.538Z"
   },
   {
    "duration": 171,
    "start_time": "2025-01-07T02:47:51.164Z"
   },
   {
    "duration": 328,
    "start_time": "2025-01-07T02:54:25.221Z"
   },
   {
    "duration": 894,
    "start_time": "2025-01-07T02:54:25.551Z"
   },
   {
    "duration": 10,
    "start_time": "2025-01-07T02:54:26.447Z"
   },
   {
    "duration": 12,
    "start_time": "2025-01-07T02:54:26.459Z"
   },
   {
    "duration": 9,
    "start_time": "2025-01-07T02:54:26.473Z"
   },
   {
    "duration": 31,
    "start_time": "2025-01-07T02:54:26.484Z"
   },
   {
    "duration": 8,
    "start_time": "2025-01-07T02:54:26.516Z"
   },
   {
    "duration": 25,
    "start_time": "2025-01-07T02:54:26.525Z"
   },
   {
    "duration": 219,
    "start_time": "2025-01-07T02:54:26.551Z"
   },
   {
    "duration": 8,
    "start_time": "2025-01-07T02:54:26.774Z"
   },
   {
    "duration": 125,
    "start_time": "2025-01-07T02:54:26.784Z"
   },
   {
    "duration": 89,
    "start_time": "2025-01-07T02:54:26.910Z"
   },
   {
    "duration": 49,
    "start_time": "2025-01-07T02:54:27.009Z"
   },
   {
    "duration": 22,
    "start_time": "2025-01-07T02:54:27.060Z"
   },
   {
    "duration": 24,
    "start_time": "2025-01-07T02:54:27.085Z"
   },
   {
    "duration": 32,
    "start_time": "2025-01-07T02:54:27.110Z"
   },
   {
    "duration": 6,
    "start_time": "2025-01-07T02:54:27.144Z"
   },
   {
    "duration": 6,
    "start_time": "2025-01-07T02:54:27.152Z"
   },
   {
    "duration": 4,
    "start_time": "2025-01-07T02:54:27.160Z"
   },
   {
    "duration": 58,
    "start_time": "2025-01-07T02:54:27.165Z"
   },
   {
    "duration": 8,
    "start_time": "2025-01-07T02:54:27.225Z"
   },
   {
    "duration": 26,
    "start_time": "2025-01-07T02:54:27.234Z"
   },
   {
    "duration": 8,
    "start_time": "2025-01-07T02:54:27.262Z"
   },
   {
    "duration": 6,
    "start_time": "2025-01-07T02:54:27.272Z"
   },
   {
    "duration": 32,
    "start_time": "2025-01-07T02:54:27.281Z"
   },
   {
    "duration": 5,
    "start_time": "2025-01-07T02:54:27.315Z"
   },
   {
    "duration": 6,
    "start_time": "2025-01-07T02:54:27.322Z"
   },
   {
    "duration": 887,
    "start_time": "2025-01-07T02:54:27.332Z"
   },
   {
    "duration": 478,
    "start_time": "2025-01-07T02:54:28.221Z"
   },
   {
    "duration": 20,
    "start_time": "2025-01-07T02:54:28.701Z"
   },
   {
    "duration": 9,
    "start_time": "2025-01-07T02:54:28.722Z"
   },
   {
    "duration": 13,
    "start_time": "2025-01-07T02:54:28.732Z"
   },
   {
    "duration": 70,
    "start_time": "2025-01-07T02:54:28.747Z"
   },
   {
    "duration": 33,
    "start_time": "2025-01-07T02:54:28.819Z"
   },
   {
    "duration": 10,
    "start_time": "2025-01-07T02:54:28.854Z"
   },
   {
    "duration": 11,
    "start_time": "2025-01-07T02:54:28.866Z"
   },
   {
    "duration": 74,
    "start_time": "2025-01-07T02:54:28.879Z"
   },
   {
    "duration": 3,
    "start_time": "2025-01-07T02:54:28.955Z"
   },
   {
    "duration": 4,
    "start_time": "2025-01-07T02:54:28.960Z"
   },
   {
    "duration": 159,
    "start_time": "2025-01-07T02:54:28.966Z"
   },
   {
    "duration": 170,
    "start_time": "2025-01-07T02:54:29.127Z"
   },
   {
    "duration": 145,
    "start_time": "2025-01-07T02:54:29.299Z"
   },
   {
    "duration": 4,
    "start_time": "2025-01-07T02:54:29.446Z"
   },
   {
    "duration": 190,
    "start_time": "2025-01-07T02:54:29.452Z"
   },
   {
    "duration": 28,
    "start_time": "2025-01-07T03:01:25.455Z"
   },
   {
    "duration": 344,
    "start_time": "2025-01-07T03:01:48.196Z"
   },
   {
    "duration": 934,
    "start_time": "2025-01-07T03:01:48.542Z"
   },
   {
    "duration": 21,
    "start_time": "2025-01-07T03:01:49.478Z"
   },
   {
    "duration": 13,
    "start_time": "2025-01-07T03:01:49.508Z"
   },
   {
    "duration": 11,
    "start_time": "2025-01-07T03:01:49.523Z"
   },
   {
    "duration": 8,
    "start_time": "2025-01-07T03:01:49.537Z"
   },
   {
    "duration": 29,
    "start_time": "2025-01-07T03:01:49.547Z"
   },
   {
    "duration": 256,
    "start_time": "2025-01-07T03:01:49.578Z"
   },
   {
    "duration": 11,
    "start_time": "2025-01-07T03:01:49.836Z"
   },
   {
    "duration": 136,
    "start_time": "2025-01-07T03:01:49.852Z"
   },
   {
    "duration": 155,
    "start_time": "2025-01-07T03:01:49.990Z"
   },
   {
    "duration": 67,
    "start_time": "2025-01-07T03:01:50.147Z"
   },
   {
    "duration": 30,
    "start_time": "2025-01-07T03:01:50.217Z"
   },
   {
    "duration": 21,
    "start_time": "2025-01-07T03:01:50.248Z"
   },
   {
    "duration": 45,
    "start_time": "2025-01-07T03:01:50.271Z"
   },
   {
    "duration": 9,
    "start_time": "2025-01-07T03:01:50.318Z"
   },
   {
    "duration": 10,
    "start_time": "2025-01-07T03:01:50.329Z"
   },
   {
    "duration": 4,
    "start_time": "2025-01-07T03:01:50.342Z"
   },
   {
    "duration": 30,
    "start_time": "2025-01-07T03:01:50.349Z"
   },
   {
    "duration": 10,
    "start_time": "2025-01-07T03:01:50.410Z"
   },
   {
    "duration": 36,
    "start_time": "2025-01-07T03:01:50.423Z"
   },
   {
    "duration": 9,
    "start_time": "2025-01-07T03:01:50.461Z"
   },
   {
    "duration": 5,
    "start_time": "2025-01-07T03:01:50.473Z"
   },
   {
    "duration": 5,
    "start_time": "2025-01-07T03:01:50.511Z"
   },
   {
    "duration": 6,
    "start_time": "2025-01-07T03:01:50.519Z"
   },
   {
    "duration": 5,
    "start_time": "2025-01-07T03:01:50.528Z"
   },
   {
    "duration": 1007,
    "start_time": "2025-01-07T03:01:50.536Z"
   },
   {
    "duration": 614,
    "start_time": "2025-01-07T03:01:51.548Z"
   },
   {
    "duration": 21,
    "start_time": "2025-01-07T03:01:52.165Z"
   },
   {
    "duration": 24,
    "start_time": "2025-01-07T03:01:52.188Z"
   },
   {
    "duration": 19,
    "start_time": "2025-01-07T03:01:52.215Z"
   },
   {
    "duration": 77,
    "start_time": "2025-01-07T03:01:52.237Z"
   },
   {
    "duration": 34,
    "start_time": "2025-01-07T03:01:52.318Z"
   },
   {
    "duration": 13,
    "start_time": "2025-01-07T03:01:52.355Z"
   },
   {
    "duration": 11,
    "start_time": "2025-01-07T03:01:52.370Z"
   },
   {
    "duration": 76,
    "start_time": "2025-01-07T03:01:52.384Z"
   },
   {
    "duration": 5,
    "start_time": "2025-01-07T03:01:52.463Z"
   },
   {
    "duration": 5,
    "start_time": "2025-01-07T03:01:52.470Z"
   },
   {
    "duration": 185,
    "start_time": "2025-01-07T03:01:52.477Z"
   },
   {
    "duration": 199,
    "start_time": "2025-01-07T03:01:52.664Z"
   },
   {
    "duration": 162,
    "start_time": "2025-01-07T03:01:52.865Z"
   },
   {
    "duration": 4,
    "start_time": "2025-01-07T03:01:53.030Z"
   },
   {
    "duration": 209,
    "start_time": "2025-01-07T03:01:53.037Z"
   },
   {
    "duration": 347,
    "start_time": "2025-01-07T03:02:36.126Z"
   },
   {
    "duration": 910,
    "start_time": "2025-01-07T03:02:36.476Z"
   },
   {
    "duration": 22,
    "start_time": "2025-01-07T03:02:37.387Z"
   },
   {
    "duration": 11,
    "start_time": "2025-01-07T03:02:37.412Z"
   },
   {
    "duration": 8,
    "start_time": "2025-01-07T03:02:37.425Z"
   },
   {
    "duration": 8,
    "start_time": "2025-01-07T03:02:37.435Z"
   },
   {
    "duration": 25,
    "start_time": "2025-01-07T03:02:37.444Z"
   },
   {
    "duration": 223,
    "start_time": "2025-01-07T03:02:37.471Z"
   },
   {
    "duration": 23,
    "start_time": "2025-01-07T03:02:37.696Z"
   },
   {
    "duration": 107,
    "start_time": "2025-01-07T03:02:37.722Z"
   },
   {
    "duration": 107,
    "start_time": "2025-01-07T03:02:37.831Z"
   },
   {
    "duration": 53,
    "start_time": "2025-01-07T03:02:37.941Z"
   },
   {
    "duration": 32,
    "start_time": "2025-01-07T03:02:37.996Z"
   },
   {
    "duration": 4,
    "start_time": "2025-01-07T03:02:38.031Z"
   },
   {
    "duration": 31,
    "start_time": "2025-01-07T03:02:38.037Z"
   },
   {
    "duration": 7,
    "start_time": "2025-01-07T03:02:38.070Z"
   },
   {
    "duration": 34,
    "start_time": "2025-01-07T03:02:38.079Z"
   },
   {
    "duration": 4,
    "start_time": "2025-01-07T03:02:38.116Z"
   },
   {
    "duration": 21,
    "start_time": "2025-01-07T03:02:38.122Z"
   },
   {
    "duration": 8,
    "start_time": "2025-01-07T03:02:38.145Z"
   },
   {
    "duration": 60,
    "start_time": "2025-01-07T03:02:38.155Z"
   },
   {
    "duration": 10,
    "start_time": "2025-01-07T03:02:38.217Z"
   },
   {
    "duration": 4,
    "start_time": "2025-01-07T03:02:38.229Z"
   },
   {
    "duration": 4,
    "start_time": "2025-01-07T03:02:38.235Z"
   },
   {
    "duration": 5,
    "start_time": "2025-01-07T03:02:38.240Z"
   },
   {
    "duration": 4,
    "start_time": "2025-01-07T03:02:38.246Z"
   },
   {
    "duration": 881,
    "start_time": "2025-01-07T03:02:38.252Z"
   },
   {
    "duration": 526,
    "start_time": "2025-01-07T03:02:39.137Z"
   },
   {
    "duration": 15,
    "start_time": "2025-01-07T03:02:39.665Z"
   },
   {
    "duration": 9,
    "start_time": "2025-01-07T03:02:39.681Z"
   },
   {
    "duration": 35,
    "start_time": "2025-01-07T03:02:39.691Z"
   },
   {
    "duration": 63,
    "start_time": "2025-01-07T03:02:39.729Z"
   },
   {
    "duration": 31,
    "start_time": "2025-01-07T03:02:39.808Z"
   },
   {
    "duration": 9,
    "start_time": "2025-01-07T03:02:39.841Z"
   },
   {
    "duration": 9,
    "start_time": "2025-01-07T03:02:39.851Z"
   },
   {
    "duration": 79,
    "start_time": "2025-01-07T03:02:39.862Z"
   },
   {
    "duration": 4,
    "start_time": "2025-01-07T03:02:39.943Z"
   },
   {
    "duration": 3,
    "start_time": "2025-01-07T03:02:39.951Z"
   },
   {
    "duration": 155,
    "start_time": "2025-01-07T03:02:39.956Z"
   },
   {
    "duration": 170,
    "start_time": "2025-01-07T03:02:40.113Z"
   },
   {
    "duration": 149,
    "start_time": "2025-01-07T03:02:40.285Z"
   },
   {
    "duration": 5,
    "start_time": "2025-01-07T03:02:40.436Z"
   },
   {
    "duration": 199,
    "start_time": "2025-01-07T03:02:40.443Z"
   },
   {
    "duration": 285,
    "start_time": "2025-01-07T03:07:02.576Z"
   },
   {
    "duration": 871,
    "start_time": "2025-01-07T03:07:02.863Z"
   },
   {
    "duration": 15,
    "start_time": "2025-01-07T03:07:03.736Z"
   },
   {
    "duration": 10,
    "start_time": "2025-01-07T03:07:03.754Z"
   },
   {
    "duration": 8,
    "start_time": "2025-01-07T03:07:03.765Z"
   },
   {
    "duration": 7,
    "start_time": "2025-01-07T03:07:03.776Z"
   },
   {
    "duration": 25,
    "start_time": "2025-01-07T03:07:03.809Z"
   },
   {
    "duration": 191,
    "start_time": "2025-01-07T03:07:03.835Z"
   },
   {
    "duration": 9,
    "start_time": "2025-01-07T03:07:04.028Z"
   },
   {
    "duration": 114,
    "start_time": "2025-01-07T03:07:04.041Z"
   },
   {
    "duration": 99,
    "start_time": "2025-01-07T03:07:04.157Z"
   },
   {
    "duration": 59,
    "start_time": "2025-01-07T03:07:04.257Z"
   },
   {
    "duration": 23,
    "start_time": "2025-01-07T03:07:04.318Z"
   },
   {
    "duration": 6,
    "start_time": "2025-01-07T03:07:04.343Z"
   },
   {
    "duration": 31,
    "start_time": "2025-01-07T03:07:04.351Z"
   },
   {
    "duration": 28,
    "start_time": "2025-01-07T03:07:04.384Z"
   },
   {
    "duration": 8,
    "start_time": "2025-01-07T03:07:04.413Z"
   },
   {
    "duration": 19,
    "start_time": "2025-01-07T03:07:04.423Z"
   },
   {
    "duration": 7,
    "start_time": "2025-01-07T03:07:04.444Z"
   },
   {
    "duration": 9,
    "start_time": "2025-01-07T03:07:04.453Z"
   },
   {
    "duration": 4,
    "start_time": "2025-01-07T03:07:04.464Z"
   },
   {
    "duration": 41,
    "start_time": "2025-01-07T03:07:04.470Z"
   },
   {
    "duration": 5,
    "start_time": "2025-01-07T03:07:04.512Z"
   },
   {
    "duration": 5,
    "start_time": "2025-01-07T03:07:04.519Z"
   },
   {
    "duration": 829,
    "start_time": "2025-01-07T03:07:04.525Z"
   },
   {
    "duration": 524,
    "start_time": "2025-01-07T03:07:05.356Z"
   },
   {
    "duration": 27,
    "start_time": "2025-01-07T03:07:05.882Z"
   },
   {
    "duration": 9,
    "start_time": "2025-01-07T03:07:05.912Z"
   },
   {
    "duration": 13,
    "start_time": "2025-01-07T03:07:05.922Z"
   },
   {
    "duration": 46,
    "start_time": "2025-01-07T03:07:05.937Z"
   },
   {
    "duration": 51,
    "start_time": "2025-01-07T03:07:05.986Z"
   },
   {
    "duration": 8,
    "start_time": "2025-01-07T03:07:06.039Z"
   },
   {
    "duration": 9,
    "start_time": "2025-01-07T03:07:06.049Z"
   },
   {
    "duration": 75,
    "start_time": "2025-01-07T03:07:06.059Z"
   },
   {
    "duration": 4,
    "start_time": "2025-01-07T03:07:06.135Z"
   },
   {
    "duration": 4,
    "start_time": "2025-01-07T03:07:06.142Z"
   },
   {
    "duration": 148,
    "start_time": "2025-01-07T03:07:06.148Z"
   },
   {
    "duration": 180,
    "start_time": "2025-01-07T03:07:06.298Z"
   },
   {
    "duration": 147,
    "start_time": "2025-01-07T03:07:06.480Z"
   },
   {
    "duration": 4,
    "start_time": "2025-01-07T03:07:06.630Z"
   },
   {
    "duration": 187,
    "start_time": "2025-01-07T03:07:06.635Z"
   },
   {
    "duration": 300,
    "start_time": "2025-01-07T03:13:26.470Z"
   },
   {
    "duration": 895,
    "start_time": "2025-01-07T03:13:26.773Z"
   },
   {
    "duration": 13,
    "start_time": "2025-01-07T03:13:27.670Z"
   },
   {
    "duration": 25,
    "start_time": "2025-01-07T03:13:27.685Z"
   },
   {
    "duration": 9,
    "start_time": "2025-01-07T03:13:27.713Z"
   },
   {
    "duration": 13,
    "start_time": "2025-01-07T03:13:27.724Z"
   },
   {
    "duration": 24,
    "start_time": "2025-01-07T03:13:27.739Z"
   },
   {
    "duration": 212,
    "start_time": "2025-01-07T03:13:27.765Z"
   },
   {
    "duration": 8,
    "start_time": "2025-01-07T03:13:27.979Z"
   },
   {
    "duration": 111,
    "start_time": "2025-01-07T03:13:27.988Z"
   },
   {
    "duration": 99,
    "start_time": "2025-01-07T03:13:28.101Z"
   },
   {
    "duration": 52,
    "start_time": "2025-01-07T03:13:28.209Z"
   },
   {
    "duration": 21,
    "start_time": "2025-01-07T03:13:28.263Z"
   },
   {
    "duration": 23,
    "start_time": "2025-01-07T03:13:28.289Z"
   },
   {
    "duration": 32,
    "start_time": "2025-01-07T03:13:28.313Z"
   },
   {
    "duration": 7,
    "start_time": "2025-01-07T03:13:28.347Z"
   },
   {
    "duration": 9,
    "start_time": "2025-01-07T03:13:28.355Z"
   },
   {
    "duration": 50,
    "start_time": "2025-01-07T03:13:28.366Z"
   },
   {
    "duration": 9,
    "start_time": "2025-01-07T03:13:28.418Z"
   },
   {
    "duration": 4,
    "start_time": "2025-01-07T03:13:28.429Z"
   },
   {
    "duration": 8,
    "start_time": "2025-01-07T03:13:28.434Z"
   },
   {
    "duration": 5,
    "start_time": "2025-01-07T03:13:28.444Z"
   },
   {
    "duration": 4,
    "start_time": "2025-01-07T03:13:28.452Z"
   },
   {
    "duration": 4,
    "start_time": "2025-01-07T03:13:28.458Z"
   },
   {
    "duration": 5,
    "start_time": "2025-01-07T03:13:28.464Z"
   },
   {
    "duration": 898,
    "start_time": "2025-01-07T03:13:28.471Z"
   },
   {
    "duration": 529,
    "start_time": "2025-01-07T03:13:29.371Z"
   },
   {
    "duration": 16,
    "start_time": "2025-01-07T03:13:29.908Z"
   },
   {
    "duration": 10,
    "start_time": "2025-01-07T03:13:29.926Z"
   },
   {
    "duration": 14,
    "start_time": "2025-01-07T03:13:29.937Z"
   },
   {
    "duration": 73,
    "start_time": "2025-01-07T03:13:29.952Z"
   },
   {
    "duration": 29,
    "start_time": "2025-01-07T03:13:30.027Z"
   },
   {
    "duration": 8,
    "start_time": "2025-01-07T03:13:30.058Z"
   },
   {
    "duration": 8,
    "start_time": "2025-01-07T03:13:30.068Z"
   },
   {
    "duration": 74,
    "start_time": "2025-01-07T03:13:30.078Z"
   },
   {
    "duration": 4,
    "start_time": "2025-01-07T03:13:30.154Z"
   },
   {
    "duration": 3,
    "start_time": "2025-01-07T03:13:30.161Z"
   },
   {
    "duration": 155,
    "start_time": "2025-01-07T03:13:30.167Z"
   },
   {
    "duration": 170,
    "start_time": "2025-01-07T03:13:30.324Z"
   },
   {
    "duration": 150,
    "start_time": "2025-01-07T03:13:30.497Z"
   },
   {
    "duration": 3,
    "start_time": "2025-01-07T03:13:30.652Z"
   },
   {
    "duration": 188,
    "start_time": "2025-01-07T03:13:30.657Z"
   }
  ],
  "colab": {
   "provenance": []
  },
  "kernelspec": {
   "display_name": "Python 3 (ipykernel)",
   "language": "python",
   "name": "python3"
  },
  "language_info": {
   "codemirror_mode": {
    "name": "ipython",
    "version": 3
   },
   "file_extension": ".py",
   "mimetype": "text/x-python",
   "name": "python",
   "nbconvert_exporter": "python",
   "pygments_lexer": "ipython3",
   "version": "3.9.19"
  },
  "toc": {
   "base_numbering": 1,
   "nav_menu": {},
   "number_sections": true,
   "sideBar": true,
   "skip_h1_title": true,
   "title_cell": "Table of Contents",
   "title_sidebar": "Contents",
   "toc_cell": false,
   "toc_position": {},
   "toc_section_display": true,
   "toc_window_display": false
  },
  "vscode": {
   "interpreter": {
    "hash": "01a7be9ec63e704a62cefc5fe7a4756944464ee731be31632bdf42a4cb4688cf"
   }
  }
 },
 "nbformat": 4,
 "nbformat_minor": 5
}
